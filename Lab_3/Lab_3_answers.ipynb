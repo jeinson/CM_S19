{
 "cells": [
  {
   "cell_type": "markdown",
   "metadata": {},
   "source": [
    "![spicy_meme](https://jeinson.github.io/images/mem2.jpg)\n",
    "\n",
    "<center>Depends who you ask...</center>"
   ]
  },
  {
   "cell_type": "markdown",
   "metadata": {},
   "source": [
    "# Lab 3: Linear Regression with Stochatic Gradient Descent \n",
    "\n",
    "In the previous lab, we introduced auto differentiation, then used gradient descent to maximize the likelihood for simple model parameters. Today, we'll build on this knowledge by implementing linear regression using pytorch's Neural Network package, `torch.nn`. \n",
    "\n",
    "To review, in least squares linear regression we have a feature matrix $X$ and a set of corresponding outcomes $Y$, and the goal is to learn a $\\beta$ such that $\\hat{Y} = X^\\top \\beta + \\epsilon$ minimizes the loss function $\\sum_i (Y - \\hat{Y})^2$, with $\\mathbb{E}[\\epsilon] = 0$\n",
    "\n",
    "In the simple case of one feature and one output (see above meme):\n",
    "\n",
    "$$ \n",
    "Y = \n",
    "\\begin{bmatrix}\n",
    "Y_1 \\\\\n",
    "Y_2 \\\\\n",
    "\\vdots \\\\\n",
    "Y_n \n",
    "\\end{bmatrix}  , \n",
    "X = \\begin{bmatrix}\n",
    "1 & X_1 \\\\\n",
    "1 & X_2 \\\\\n",
    "\\vdots & \\vdots \\\\\n",
    "1 & X_n \n",
    "\\end{bmatrix} ,\n",
    "\\beta = \n",
    " \\begin{bmatrix}\n",
    "\\beta_1 \\\\\n",
    "\\beta_2 \n",
    "\\end{bmatrix}, \\text{and } \n",
    "\\epsilon = \n",
    "\\begin{bmatrix}\n",
    "\\epsilon_1 \\\\\n",
    "\\epsilon_2 \\\\ \n",
    "\\vdots \\\\\n",
    "\\epsilon_n\n",
    "\\end{bmatrix}\n",
    "$$\n",
    "\n",
    "In $X$, the leading column of 1s allows for an intercept parameter. "
   ]
  },
  {
   "cell_type": "markdown",
   "metadata": {},
   "source": [
    "The most common method used for solving linear equations is the **Method of Least Squares**. This is what popular packages like scikit learn or R's `lm` function are doing under the hood. With some fun matrix algebra, the solution pops out fairly easily. \n",
    "\n",
    "$$\\begin{align}\n",
    "X\\beta &= Y\\\\\n",
    "X^\\top X\\beta &= X^\\top Y \\\\\n",
    "(X^\\top X)^{-1}X^\\top X \\beta&= (X^\\top X)^{-1} X^\\top Y \\\\\n",
    "&\\implies \\\\\n",
    "\\hat{\\beta}&= (X^\\top X)^{-1} X^\\top Y\n",
    "\\end{align}\n",
    "$$\n",
    "\n",
    "This solution involves taking the inverse of a matrix, which gets computationally very expensive as the size of your dataset increases. Therefore, we can think of the problem of optimizing $\\beta$ in terms of the machine learning workflow discussed in class, where essentially, we try to mimize the quantity $Q$ in \n",
    "$$ (X^\\top \\beta -  Y)^\\top (X^\\top \\beta - Y) = Q $$\n",
    "The matrix calculus needed to find an optimal solution to this equation is pretty ugly, but fortunately we can use autodifferentiation and gradient descent to arrive at an optimal solution. "
   ]
  },
  {
   "cell_type": "code",
   "execution_count": 18,
   "metadata": {},
   "outputs": [],
   "source": [
    "# Import the following packages. These are the only ones needed to complete the lab. \n",
    "# -.5 for using any other packages\n",
    "import matplotlib.pyplot as plt\n",
    "import torch\n",
    "import torch.nn as nn"
   ]
  },
  {
   "cell_type": "markdown",
   "metadata": {},
   "source": [
    "## Part 1: Simulate some data"
   ]
  },
  {
   "cell_type": "markdown",
   "metadata": {},
   "source": [
    "Using torch tensors, randomly draw a `[2 x 1] `$\\beta$ vector, and 500 random $X_i$s for training. Then matrix multiply $X$ and $\\beta$, and add some Gaussian noise, to make a $Y$ vector. This will be the training set used for training your regression model."
   ]
  },
  {
   "cell_type": "code",
   "execution_count": 25,
   "metadata": {},
   "outputs": [],
   "source": [
    "#### your code here ####\n",
    "\n",
    "n = 50\n",
    "\n",
    "beta = torch.randn(2,1)\n",
    "\n",
    "X_train = torch.cat((torch.ones(n,1), torch.randn(n,1) * 10), 1)\n",
    "Y_train = X_train.mm(beta) + (torch.randn(n, 1) / 2)"
   ]
  },
  {
   "cell_type": "markdown",
   "metadata": {},
   "source": [
    "Plot X and Y to verify their linear relationship. "
   ]
  },
  {
   "cell_type": "code",
   "execution_count": 26,
   "metadata": {},
   "outputs": [
    {
     "data": {
      "text/plain": [
       "[<matplotlib.lines.Line2D at 0x11a8c6908>]"
      ]
     },
     "execution_count": 26,
     "metadata": {},
     "output_type": "execute_result"
    },
    {
     "data": {
      "image/png": "[encoded data removed]",
      "text/plain": [
       "<Figure size 432x288 with 1 Axes>"
      ]
     },
     "metadata": {
      "needs_background": "light"
     },
     "output_type": "display_data"
    }
   ],
   "source": [
    "#### your code here ####\n",
    "plt.plot(X_train.numpy()[:,1], Y_train.detach().numpy()[:,0], 'bo')"
   ]
  },
  {
   "cell_type": "markdown",
   "metadata": {},
   "source": [
    "## Part 2: Solve Ordinary Least Squares\n",
    "\n",
    "Using the formula derived in the introduction, find the least squares solution for your sample dataset. "
   ]
  },
  {
   "cell_type": "code",
   "execution_count": 27,
   "metadata": {},
   "outputs": [],
   "source": [
    "#### your code here ####\n",
    "OLS = torch.inverse(X_train.t().mm(X_train)).mm(X_train.t()).mm(Y_train)\n",
    "OLS = OLS.numpy()"
   ]
  },
  {
   "cell_type": "markdown",
   "metadata": {},
   "source": [
    "Now plot a trend line on your data using your least squares estimate. "
   ]
  },
  {
   "cell_type": "code",
   "execution_count": 28,
   "metadata": {},
   "outputs": [
    {
     "data": {
      "text/plain": [
       "[<matplotlib.lines.Line2D at 0x11a255240>]"
      ]
     },
     "execution_count": 28,
     "metadata": {},
     "output_type": "execute_result"
    },
    {
     "data": {
      "image/png": "[encoded data removed]",
      "text/plain": [
       "<Figure size 432x288 with 1 Axes>"
      ]
     },
     "metadata": {
      "needs_background": "light"
     },
     "output_type": "display_data"
    }
   ],
   "source": [
    "def OLS_line(x):\n",
    "    return(OLS[0] + x*OLS[1])\n",
    "\n",
    "plt.plot(X_train.numpy()[:,1], Y_train.detach().numpy()[:,0], 'bo')\n",
    "plt.plot(X_train.numpy()[:,1], OLS_line(X_train[:,1].numpy()), c='r')"
   ]
  },
  {
   "cell_type": "markdown",
   "metadata": {},
   "source": [
    "## Part 3: Defining the model as a neural network\n",
    "\n",
    "In pytorch, neural networks are are typically defined by defining a class. "
   ]
  },
  {
   "cell_type": "markdown",
   "metadata": {},
   "source": [
    "Fill in the missing pieces to make a neural network class called `LinearRegression` ."
   ]
  },
  {
   "cell_type": "code",
   "execution_count": 29,
   "metadata": {},
   "outputs": [],
   "source": [
    "class LinearRegression(nn.Module):\n",
    "    \n",
    "    # The class constructor defines the parameters (ie layers) of the neural network\n",
    "    def __init__(self):\n",
    "        super(LinearRegression, self).__init__()\n",
    "        # What type of parameters do we need to add?\n",
    "        #### your code here ####\n",
    "        self.linear = nn.Linear(1,1)    \n",
    "    \n",
    "    # The forward method ties the layers together to build the network.\n",
    "    # We take the gradient of this composite function using back propogation\n",
    "    def forward(self, x):\n",
    "        #### your code here ###\n",
    "        out = self.linear(x)\n",
    "        return(out)"
   ]
  },
  {
   "cell_type": "markdown",
   "metadata": {},
   "source": [
    "Before training, the model initializes with random parameters. Define a new LinearRegression object, and print the values of the parameters. "
   ]
  },
  {
   "cell_type": "code",
   "execution_count": 30,
   "metadata": {},
   "outputs": [],
   "source": [
    "#### your code here ####\n",
    "lr_model = LinearRegression()"
   ]
  },
  {
   "cell_type": "markdown",
   "metadata": {},
   "source": [
    "The next step is defining a loss function, which our model will attempt to miminize during training, and an optimization function, which specifies the learning method and learning rate. The most commonly used optimizer is **Stochastic Gradient Descent**, which is conveniently implemented as `torch.optim.SGD`. More on this [here](https://pytorch.org/docs/stable/optim.html). Which loss function should you use to optimizer the parameters in linear regression? [Check here for some options](https://pytorch.org/docs/stable/nn.html#loss-functions)\n",
    "\n",
    "Define a loss object called `criterion` and an optimizer object called `optimizer`, for the parameters of your new `LinearRegression` object, and with a learning rate of .01. (You may have to play around with the learning rate if your model diverges off to infinity)"
   ]
  },
  {
   "cell_type": "code",
   "execution_count": 31,
   "metadata": {},
   "outputs": [],
   "source": [
    "#### your code here ###\n",
    "criterion = torch.nn.MSELoss(size_average = False)\n",
    "optimizer = torch.optim.SGD(lr_model.parameters(), lr = .0001, momentum = 0.9)"
   ]
  },
  {
   "cell_type": "markdown",
   "metadata": {},
   "source": [
    "Finally, let's train the model. This is where the magic happens! In training, we iterate through the process of choosing parameters, calculating the loss, then marching down the gradient until the parameters converge. "
   ]
  },
  {
   "cell_type": "code",
   "execution_count": 32,
   "metadata": {},
   "outputs": [
    {
     "name": "stdout",
     "output_type": "stream",
     "text": [
      "torch.Size([50, 1])\n",
      "torch.Size([50, 2])\n"
     ]
    }
   ],
   "source": [
    "print(Y_train.shape)\n",
    "print(X_train.shape)"
   ]
  },
  {
   "cell_type": "code",
   "execution_count": 33,
   "metadata": {},
   "outputs": [
    {
     "name": "stdout",
     "output_type": "stream",
     "text": [
      "loss 2926.052001953125, beta 1 [-0.5519179]\n",
      "loss 1186.0472412109375, beta 1 [0.29193488]\n",
      "loss 408.5664978027344, beta 1 [1.2513474]\n",
      "loss 142.5032196044922, beta 1 [1.6998252]\n",
      "loss 54.806766510009766, beta 1 [1.6960068]\n",
      "loss 26.068218231201172, beta 1 [1.5440202]\n",
      "loss 18.92707061767578, beta 1 [1.4250222]\n",
      "loss 17.786710739135742, beta 1 [1.390418]\n",
      "loss 17.606290817260742, beta 1 [1.4039302]\n",
      "loss 17.568660736083984, beta 1 [1.4271687]\n",
      "loss 17.570127487182617, beta 1 [1.439682]\n",
      "loss 17.566755294799805, beta 1 [1.4412956]\n",
      "loss 17.55948829650879, beta 1 [1.4380864]\n",
      "loss 17.555095672607422, beta 1 [1.4350972]\n",
      "loss 17.5532283782959, beta 1 [1.4339525]\n",
      "loss 17.552412033081055, beta 1 [1.4341085]\n",
      "loss 17.552082061767578, beta 1 [1.4346409]\n",
      "loss 17.551979064941406, beta 1 [1.43498]\n",
      "loss 17.551952362060547, beta 1 [1.43506]\n",
      "loss 17.551944732666016, beta 1 [1.4349978]\n"
     ]
    }
   ],
   "source": [
    "epochs = 200\n",
    "\n",
    "for epoch in range(epochs):\n",
    "        \n",
    "    # Estimate Y_hat with the current model\n",
    "    X_train_new = X_train[:,1:]\n",
    "    \n",
    "    Y_hat = lr_model.forward(X_train_new)#[:,1:])\n",
    "    \n",
    "    # Compute the loss\n",
    "    loss = criterion(Y_hat, Y_train)\n",
    "        \n",
    "    # Compute the gradient of the loss\n",
    "    optimizer.zero_grad()\n",
    "    loss.backward()\n",
    "    optimizer.step()\n",
    "    \n",
    "    if epoch % 10 == 0:\n",
    "        print(\"loss {}, beta 1 {}\".format(loss,list(lr_model.parameters())[1].detach().numpy()))"
   ]
  },
  {
   "cell_type": "code",
   "execution_count": 35,
   "metadata": {},
   "outputs": [],
   "source": [
    "predicted = lr_model(X_train[:,1:])"
   ]
  },
  {
   "cell_type": "markdown",
   "metadata": {},
   "source": [
    "Now plot the dataset with a trend line defined by the parameters your neural network learned, in addition to the OLS trend line, and label which is which. Try setting the alpha if they end up right on top of each other. "
   ]
  },
  {
   "cell_type": "code",
   "execution_count": 38,
   "metadata": {},
   "outputs": [
    {
     "data": {
      "text/plain": [
       "[<matplotlib.lines.Line2D at 0x11abf7518>]"
      ]
     },
     "execution_count": 38,
     "metadata": {},
     "output_type": "execute_result"
    },
    {
     "data": {
      "image/png": "[encoded data removed]",
      "text/plain": [
       "<Figure size 432x288 with 1 Axes>"
      ]
     },
     "metadata": {
      "needs_background": "light"
     },
     "output_type": "display_data"
    }
   ],
   "source": [
    "plt.plot(X_train.numpy()[:,1], Y_train.numpy()[:,0], 'bo')\n",
    "plt.plot(X_train.numpy()[:,1], predicted.t().detach().numpy()[0] - .1, c = \"g\", alpha = .4)\n",
    "plt.plot(X_train.numpy()[:,1], OLS_line(X_train[:,1].numpy()), c='r', alpha = .4)"
   ]
  },
  {
   "cell_type": "markdown",
   "metadata": {},
   "source": [
    "Pretty cool huh? I'll leave it up to you to decide which method you like better, but hopefully this demonstrates the flexibility of a neural network. Later on, we'll see how this package can be used to learn far more complicated patterns in data. "
   ]
  }
 ],
 "metadata": {
  "kernelspec": {
   "display_name": "Python (Computational Methods)",
   "language": "python",
   "name": "cm"
  },
  "language_info": {
   "codemirror_mode": {
    "name": "ipython",
    "version": 3
   },
   "file_extension": ".py",
   "mimetype": "text/x-python",
   "name": "python",
   "nbconvert_exporter": "python",
   "pygments_lexer": "ipython3",
   "version": "3.6.8"
  }
 },
 "nbformat": 4,
 "nbformat_minor": 2
}
