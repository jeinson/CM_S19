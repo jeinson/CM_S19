{
 "cells": [
  {
   "cell_type": "markdown",
   "metadata": {},
   "source": [
    "![spicy_meme](https://jeinson.github.io/images/mem2.jpg)\n",
    "\n",
    "<center>Depends who you ask...</center>"
   ]
  },
  {
   "cell_type": "markdown",
   "metadata": {},
   "source": [
    "# Lab 3: Linear Regression with Stochatic Gradient Descent \n",
    "\n",
    "In the previous lab, we introduced auto differentiation, then used gradient descent to maximize the likelihood for simple model parameters. Today, we'll build on this knowledge by implementing linear regression using pytorch's Neural Network package, `torch.nn`. \n",
    "\n",
    "To review, in least squares linear regression we have a feature matrix $X$ and a set of corresponding outcomes $Y$, and the goal is to learn a $\\beta$ such that $\\hat{Y} = X^\\top \\beta + \\epsilon$ minimizes the loss function $\\sum_i (Y - \\hat{Y})^2$, with $\\mathbb{E}[\\epsilon] = 0$\n",
    "\n",
    "In the simple case of one feature and one output (see above meme):\n",
    "\n",
    "$$ \n",
    "Y = \n",
    "\\begin{bmatrix}\n",
    "Y_1 \\\\\n",
    "Y_2 \\\\\n",
    "\\vdots \\\\\n",
    "Y_n \n",
    "\\end{bmatrix}  , \n",
    "X = \\begin{bmatrix}\n",
    "1 & X_1 \\\\\n",
    "1 & X_2 \\\\\n",
    "\\vdots & \\vdots \\\\\n",
    "1 & X_n \n",
    "\\end{bmatrix} ,\n",
    "\\beta = \n",
    " \\begin{bmatrix}\n",
    "\\beta_1 \\\\\n",
    "\\beta_2 \n",
    "\\end{bmatrix}, \\text{and } \n",
    "\\epsilon = \n",
    "\\begin{bmatrix}\n",
    "\\epsilon_1 \\\\\n",
    "\\epsilon_2 \\\\ \n",
    "\\vdots \\\\\n",
    "\\epsilon_n\n",
    "\\end{bmatrix}\n",
    "$$\n",
    "\n",
    "In $X$, the leading column of 1s allows for an intercept parameter. "
   ]
  },
  {
   "cell_type": "markdown",
   "metadata": {},
   "source": [
    "The most common method used for solving linear equations is the **Method of Least Squares**. This is what popular packages like scikit learn or R's `lm` function are doing under the hood. With some fun matrix algebra, the solution pops out fairly easily. \n",
    "\n",
    "$$\\begin{align}\n",
    "X\\beta &= Y\\\\\n",
    "X^\\top X\\beta &= X^\\top Y \\\\\n",
    "(X^\\top X)^{-1}X^\\top X \\beta&= (X^\\top X)^{-1} X^\\top Y \\\\\n",
    "&\\implies \\\\\n",
    "\\hat{\\beta}&= (X^\\top X)^{-1} X^\\top Y\n",
    "\\end{align}\n",
    "$$\n",
    "\n",
    "This solution involves taking the inverse of a matrix, which gets computationally very expensive as the size of your dataset increases. Therefore, we can think of the problem of optimizing $\\beta$ in terms of the machine learning workflow discussed in class, where essentially, we try to mimize the quantity $Q$ in \n",
    "$$ (X^\\top \\beta -  Y)^\\top (X^\\top \\beta - Y) = Q $$\n",
    "The matrix calculus needed to find an optimal solution to this equation is pretty ugly, but fortunately we can use autodifferentiation and gradient descent to arrive at an optimal solution. "
   ]
  },
  {
   "cell_type": "code",
   "execution_count": 1,
   "metadata": {},
   "outputs": [],
   "source": [
    "# Import the following packages. These are the only ones needed to complete the lab. \n",
    "# -.5 for using any other packages\n",
    "import matplotlib.pyplot as plt\n",
    "import torch\n",
    "import torch.nn as nn"
   ]
  },
  {
   "cell_type": "markdown",
   "metadata": {},
   "source": [
    "## Part 1: Simulate some data"
   ]
  },
  {
   "cell_type": "markdown",
   "metadata": {},
   "source": [
    "Using torch tensors, randomly draw a `[2 x 1] `$\\beta$ vector, and 50 random $X_i$s for training. Then matrix multiply $X$ and $\\beta$, and add some Gaussian noise, to make a $Y$ vector. This will be the training set used for training your regression model."
   ]
  },
  {
   "cell_type": "code",
   "execution_count": 3,
   "metadata": {},
   "outputs": [],
   "source": [
    "#### your code here ####\n",
    "\n",
    "n = 50\n",
    "\n",
    "beta = torch.randn(2,1)\n",
    "\n",
    "X_train = torch.cat((torch.ones(n,1), torch.rand(n,1) * 10), 1)\n",
    "Y_train = X_train.mm(beta) + (torch.randn(n, 1))"
   ]
  },
  {
   "cell_type": "markdown",
   "metadata": {},
   "source": [
    "Plot X and Y to verify their linear relationship. "
   ]
  },
  {
   "cell_type": "code",
   "execution_count": 4,
   "metadata": {},
   "outputs": [
    {
     "data": {
      "text/plain": [
       "[<matplotlib.lines.Line2D at 0x7f2173bd33c8>]"
      ]
     },
     "execution_count": 4,
     "metadata": {},
     "output_type": "execute_result"
    },
    {
     "data": {
      "image/png": "[encoded data removed]",
      "text/plain": [
       "<Figure size 432x288 with 1 Axes>"
      ]
     },
     "metadata": {
      "needs_background": "light"
     },
     "output_type": "display_data"
    }
   ],
   "source": [
    "#### your code here ####\n",
    "plt.plot(X_train.numpy()[:,1], Y_train.detach().numpy()[:,0], 'bo')"
   ]
  },
  {
   "cell_type": "markdown",
   "metadata": {},
   "source": [
    "## Part 2: Solve Ordinary Least Squares\n",
    "\n",
    "Using the formula derived in the introduction, find the least squares solution for your sample dataset. "
   ]
  },
  {
   "cell_type": "code",
   "execution_count": 5,
   "metadata": {},
   "outputs": [],
   "source": [
    "#### your code here ####\n",
    "OLS = torch.inverse(X_train.t().mm(X_train)).mm(X_train.t()).mm(Y_train)\n",
    "OLS = OLS.numpy()"
   ]
  },
  {
   "cell_type": "code",
   "execution_count": 6,
   "metadata": {},
   "outputs": [
    {
     "data": {
      "text/plain": [
       "array([-1.7947087, -2.950029 ], dtype=float32)"
      ]
     },
     "execution_count": 6,
     "metadata": {},
     "output_type": "execute_result"
    }
   ],
   "source": [
    "OLS.cumsum()"
   ]
  },
  {
   "cell_type": "markdown",
   "metadata": {},
   "source": [
    "Now plot a trend line on your data using your least squares estimate. "
   ]
  },
  {
   "cell_type": "code",
   "execution_count": 7,
   "metadata": {},
   "outputs": [
    {
     "data": {
      "text/plain": [
       "[<matplotlib.lines.Line2D at 0x7f2173bb4518>]"
      ]
     },
     "execution_count": 7,
     "metadata": {},
     "output_type": "execute_result"
    },
    {
     "data": {
      "image/png": "[encoded data removed]",
      "text/plain": [
       "<Figure size 432x288 with 1 Axes>"
      ]
     },
     "metadata": {
      "needs_background": "light"
     },
     "output_type": "display_data"
    }
   ],
   "source": [
    "def OLS_line(x):\n",
    "    return(OLS[0] + x*OLS[1])\n",
    "\n",
    "plt.plot(X_train.numpy()[:,1], Y_train.detach().numpy()[:,0], 'bo')\n",
    "plt.plot(X_train.numpy()[:,1], OLS_line(X_train[:,1].numpy()), c='r')"
   ]
  },
  {
   "cell_type": "markdown",
   "metadata": {},
   "source": [
    "## Part 3: Defining the model as a neural network\n",
    "\n",
    "In pytorch, neural networks are are typically defined by defining a class. "
   ]
  },
  {
   "cell_type": "markdown",
   "metadata": {},
   "source": [
    "Fill in the missing pieces to make a neural network class called `LinearRegression` ."
   ]
  },
  {
   "cell_type": "code",
   "execution_count": 8,
   "metadata": {},
   "outputs": [],
   "source": [
    "class LinearRegression(nn.Module):\n",
    "    \n",
    "    # The class constructor defines the parameters (ie layers) of the neural network\n",
    "    def __init__(self):\n",
    "        super(LinearRegression, self).__init__()\n",
    "        # What type of parameters do we need to add?\n",
    "        #### your code here ####\n",
    "        self.linear = nn.Linear(1,1)    \n",
    "    \n",
    "    # The forward method ties the layers together to build the network.\n",
    "    # We take the gradient of this composite function using back propogation\n",
    "    def forward(self, x):\n",
    "        #### your code here ###\n",
    "        out = self.linear(x)\n",
    "        return(out)"
   ]
  },
  {
   "cell_type": "markdown",
   "metadata": {},
   "source": [
    "Before training, the model initializes with random parameters. Define a new LinearRegression object, and print the values of the parameters. "
   ]
  },
  {
   "cell_type": "code",
   "execution_count": 9,
   "metadata": {},
   "outputs": [],
   "source": [
    "#### your code here ####\n",
    "lr_model = LinearRegression()"
   ]
  },
  {
   "cell_type": "markdown",
   "metadata": {},
   "source": [
    "The next step is defining a loss function, which our model will attempt to miminize during training, and an optimization function, which specifies the learning method and learning rate. The most commonly used optimizer is **Stochastic Gradient Descent**, which is conveniently implemented as `torch.optim.SGD`. More on this [here](https://pytorch.org/docs/stable/optim.html). Which loss function should you use to optimizer the parameters in linear regression? [Check here for some options](https://pytorch.org/docs/stable/nn.html#loss-functions)\n",
    "\n",
    "Define a loss object called `criterion` and an optimizer object called `optimizer`, for the parameters of your new `LinearRegression` object, and with a learning rate of .01. (You may have to play around with the learning rate if your model diverges off to infinity)"
   ]
  },
  {
   "cell_type": "code",
   "execution_count": 10,
   "metadata": {},
   "outputs": [],
   "source": [
    "#### your code here ###\n",
    "criterion = torch.nn.MSELoss(size_average = False)\n",
    "optimizer = torch.optim.SGD(lr_model.parameters(), lr = .0001, momentum = 0.9)"
   ]
  },
  {
   "cell_type": "markdown",
   "metadata": {},
   "source": [
    "Finally, let's train the model. This is where the magic happens! In training, we iterate through the process of choosing parameters, calculating the loss, then marching down the gradient until the parameters converge. "
   ]
  },
  {
   "cell_type": "code",
   "execution_count": 11,
   "metadata": {},
   "outputs": [
    {
     "name": "stdout",
     "output_type": "stream",
     "text": [
      "torch.Size([50, 1])\n",
      "torch.Size([50, 2])\n"
     ]
    }
   ],
   "source": [
    "print(Y_train.shape)\n",
    "print(X_train.shape)"
   ]
  },
  {
   "cell_type": "code",
   "execution_count": 12,
   "metadata": {},
   "outputs": [],
   "source": [
    "import copy"
   ]
  },
  {
   "cell_type": "code",
   "execution_count": 13,
   "metadata": {},
   "outputs": [
    {
     "name": "stdout",
     "output_type": "stream",
     "text": [
      "loss 4445.4384765625, beta 1 [-0.60978407]\n",
      "loss 1576.5028076171875, beta 1 [-0.7766077]\n",
      "loss 407.0886535644531, beta 1 [-1.0280508]\n",
      "loss 92.58504486083984, beta 1 [-1.2597166]\n",
      "loss 46.047035217285156, beta 1 [-1.4395756]\n"
     ]
    }
   ],
   "source": [
    "epochs = 50\n",
    "beta_1s = []\n",
    "beta_0s = []\n",
    "for epoch in range(epochs):\n",
    "        \n",
    "    # Estimate Y_hat with the current model\n",
    "    X_train_new = X_train[:,1:]\n",
    "    \n",
    "    Y_hat = lr_model(X_train_new)#[:,1:])\n",
    "    \n",
    "    # Compute the loss\n",
    "    loss = criterion(Y_hat, Y_train)\n",
    "        \n",
    "    # Compute the gradient of the loss\n",
    "    optimizer.zero_grad()\n",
    "    loss.backward()\n",
    "    optimizer.step()\n",
    "    \n",
    "    beta_0s.append(copy.deepcopy(list(lr_model.parameters())[0].detach().numpy()))\n",
    "    beta_1s.append(copy.deepcopy(list(lr_model.parameters())[1].detach().numpy()))\n",
    "    \n",
    "    if epoch % 10 == 0:\n",
    "        print(\"loss {}, beta 1 {}\".format(loss,list(lr_model.parameters())[1].detach().numpy()))"
   ]
  },
  {
   "cell_type": "code",
   "execution_count": 14,
   "metadata": {},
   "outputs": [],
   "source": [
    "predicted = lr_model(X_train[:,1:])"
   ]
  },
  {
   "cell_type": "code",
   "execution_count": 15,
   "metadata": {},
   "outputs": [
    {
     "data": {
      "text/plain": [
       "numpy.ndarray"
      ]
     },
     "execution_count": 15,
     "metadata": {},
     "output_type": "execute_result"
    }
   ],
   "source": [
    "type(beta_1s[1])"
   ]
  },
  {
   "cell_type": "code",
   "execution_count": 16,
   "metadata": {},
   "outputs": [
    {
     "data": {
      "text/plain": [
       "[array([[-0.19395834]], dtype=float32),\n",
       " array([[-1.019971]], dtype=float32),\n",
       " array([[-1.8553089]], dtype=float32),\n",
       " array([[-2.4321713]], dtype=float32),\n",
       " array([[-2.5919013]], dtype=float32),\n",
       " array([[-2.324699]], dtype=float32),\n",
       " array([[-1.7578719]], dtype=float32),\n",
       " array([[-1.1015196]], dtype=float32),\n",
       " array([[-0.57323414]], dtype=float32),\n",
       " array([[-0.32794073]], dtype=float32),\n",
       " array([[-0.41474575]], dtype=float32),\n",
       " array([[-0.77185875]], dtype=float32),\n",
       " array([[-1.2574015]], dtype=float32),\n",
       " array([[-1.7026857]], dtype=float32),\n",
       " array([[-1.968716]], dtype=float32),\n",
       " array([[-1.9875691]], dtype=float32),\n",
       " array([[-1.77696]], dtype=float32),\n",
       " array([[-1.4260308]], dtype=float32),\n",
       " array([[-1.0597723]], dtype=float32),\n",
       " array([[-0.79556626]], dtype=float32),\n",
       " array([[-0.70650107]], dtype=float32),\n",
       " array([[-0.80248576]], dtype=float32),\n",
       " array([[-1.0334092]], dtype=float32),\n",
       " array([[-1.3111311]], dtype=float32),\n",
       " array([[-1.5414062]], dtype=float32),\n",
       " array([[-1.6545631]], dtype=float32),\n",
       " array([[-1.6252761]], dtype=float32),\n",
       " array([[-1.4762113]], dtype=float32),\n",
       " array([[-1.265997]], dtype=float32),\n",
       " array([[-1.0669246]], dtype=float32),\n",
       " array([[-0.9405196]], dtype=float32),\n",
       " array([[-0.9189904]], dtype=float32),\n",
       " array([[-0.9978851]], dtype=float32),\n",
       " array([[-1.1411783]], dtype=float32),\n",
       " array([[-1.2959216]], dtype=float32),\n",
       " array([[-1.4108288]], dtype=float32),\n",
       " array([[-1.4524715]], dtype=float32),\n",
       " array([[-1.4141577]], dtype=float32),\n",
       " array([[-1.3153939]], dtype=float32),\n",
       " array([[-1.1930412]], dtype=float32),\n",
       " array([[-1.0878205]], dtype=float32),\n",
       " array([[-1.0309352]], dtype=float32),\n",
       " array([[-1.0350673]], dtype=float32),\n",
       " array([[-1.0921842]], dtype=float32),\n",
       " array([[-1.1781719]], dtype=float32),\n",
       " array([[-1.2621362]], dtype=float32),\n",
       " array([[-1.3169369]], dtype=float32),\n",
       " array([[-1.32747]], dtype=float32),\n",
       " array([[-1.2942829]], dtype=float32),\n",
       " array([[-1.2318342]], dtype=float32)]"
      ]
     },
     "execution_count": 16,
     "metadata": {},
     "output_type": "execute_result"
    }
   ],
   "source": [
    "beta_0s"
   ]
  },
  {
   "cell_type": "code",
   "execution_count": 17,
   "metadata": {},
   "outputs": [
    {
     "data": {
      "text/plain": [
       "[array([-0.60978407], dtype=float32),\n",
       " array([-0.74147606], dtype=float32),\n",
       " array([-0.8769209], dtype=float32),\n",
       " array([-0.9749534], dtype=float32),\n",
       " array([-1.0111015], dtype=float32),\n",
       " array([-0.9836513], dtype=float32),\n",
       " array([-0.9118515], dtype=float32),\n",
       " array([-0.8276145], dtype=float32),\n",
       " array([-0.764012], dtype=float32),\n",
       " array([-0.7445564], dtype=float32),\n",
       " array([-0.7766077], dtype=float32),\n",
       " array([-0.8505966], dtype=float32),\n",
       " array([-0.9447306], dtype=float32),\n",
       " array([-1.0331318], dtype=float32),\n",
       " array([-1.0944681], dtype=float32),\n",
       " array([-1.1182736], dtype=float32),\n",
       " array([-1.1071733], dtype=float32),\n",
       " array([-1.0747114], dtype=float32),\n",
       " array([-1.0399158], dtype=float32),\n",
       " array([-1.0206584], dtype=float32),\n",
       " array([-1.0280508], dtype=float32),\n",
       " array([-1.0635589], dtype=float32),\n",
       " array([-1.1194847], dtype=float32),\n",
       " array([-1.1823254], dtype=float32),\n",
       " array([-1.2376502], dtype=float32),\n",
       " array([-1.2747864], dtype=float32),\n",
       " array([-1.2898395], dtype=float32),\n",
       " array([-1.2862499], dtype=float32),\n",
       " array([-1.2729548], dtype=float32),\n",
       " array([-1.2609819], dtype=float32),\n",
       " array([-1.2597166], dtype=float32),\n",
       " array([-1.2740684], dtype=float32),\n",
       " array([-1.3033482], dtype=float32),\n",
       " array([-1.342046], dtype=float32),\n",
       " array([-1.3820684], dtype=float32),\n",
       " array([-1.4155773], dtype=float32),\n",
       " array([-1.4374644], dtype=float32),\n",
       " array([-1.4467069], dtype=float32),\n",
       " array([-1.4462857], dtype=float32),\n",
       " array([-1.4418341], dtype=float32),\n",
       " array([-1.4395756], dtype=float32),\n",
       " array([-1.4442809], dtype=float32),\n",
       " array([-1.4578921], dtype=float32),\n",
       " array([-1.4791873], dtype=float32),\n",
       " array([-1.5044888], dtype=float32),\n",
       " array([-1.5290836], dtype=float32),\n",
       " array([-1.5488325], dtype=float32),\n",
       " array([-1.5614356], dtype=float32),\n",
       " array([-1.566984], dtype=float32),\n",
       " array([-1.5676947], dtype=float32)]"
      ]
     },
     "execution_count": 17,
     "metadata": {},
     "output_type": "execute_result"
    }
   ],
   "source": [
    "beta_1s"
   ]
  },
  {
   "cell_type": "markdown",
   "metadata": {},
   "source": [
    "Now plot the dataset with a trend line defined by the parameters your neural network learned, in addition to the OLS trend line, and label which is which. Try setting the alpha if they end up right on top of each other. "
   ]
  },
  {
   "cell_type": "code",
   "execution_count": 18,
   "metadata": {},
   "outputs": [
    {
     "data": {
      "text/plain": [
       "[<matplotlib.lines.Line2D at 0x7f21722ddcc0>]"
      ]
     },
     "execution_count": 18,
     "metadata": {},
     "output_type": "execute_result"
    },
    {
     "data": {
      "image/png": "[encoded data removed]",
      "text/plain": [
       "<Figure size 432x288 with 1 Axes>"
      ]
     },
     "metadata": {
      "needs_background": "light"
     },
     "output_type": "display_data"
    }
   ],
   "source": [
    "plt.plot(X_train.numpy()[:,1], Y_train.numpy()[:,0], 'bo')\n",
    "plt.plot(X_train.numpy()[:,1], predicted.t().detach().numpy()[0] - .1, c = \"g\", alpha = .4)\n",
    "\n",
    "plt.plot(X_train.numpy()[:,1], OLS_line(X_train[:,1].numpy()), c='r', alpha = .4)"
   ]
  },
  {
   "cell_type": "markdown",
   "metadata": {},
   "source": [
    "Pretty cool huh? I'll leave it up to you to decide which method you like better, but hopefully this demonstrates the flexibility of a neural network. Later on, we'll see how this package can be used to learn far more complicated patterns in data. "
   ]
  }
 ],
 "metadata": {
  "kernelspec": {
   "display_name": "Python (Computational Methods)",
   "language": "python",
   "name": "cm"
  },
  "language_info": {
   "codemirror_mode": {
    "name": "ipython",
    "version": 3
   },
   "file_extension": ".py",
   "mimetype": "text/x-python",
   "name": "python",
   "nbconvert_exporter": "python",
   "pygments_lexer": "ipython3",
   "version": "3.6.8"
  }
 },
 "nbformat": 4,
 "nbformat_minor": 2
}
