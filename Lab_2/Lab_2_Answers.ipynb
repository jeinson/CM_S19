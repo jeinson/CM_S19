{
 "cells": [
  {
   "cell_type": "code",
   "execution_count": 1,
   "metadata": {
    "collapsed": true
   },
   "outputs": [],
   "source": [
    "# 1) Random sampling (torch.randn, torch.rand, torch.distributions module)\n",
    "# 2) Demonstration of central limit theorem through simulation\n",
    "# 3) Autodiff and computational graph construction (grad fields for tensors, backward method (and how it discards the implicitly created computational graph), optimizers, loss functions)\n",
    "# 4) Application of autodiff to a very simple problem (like fitting a normal and/or a beta distribution through maximum likelihood)"
   ]
  },
  {
   "cell_type": "code",
   "execution_count": 12,
   "metadata": {},
   "outputs": [],
   "source": [
    "%matplotlib inline  \n",
    "import torch\n",
    "import numpy as np\n",
    "import matplotlib.pyplot as plt"
   ]
  },
  {
   "cell_type": "markdown",
   "metadata": {},
   "source": [
    "# Part 1: Generating some data\n",
    "In order to do this lab you're gonna need some data. Usually I wouldn't suggest doing this but why don't we just make up our data. Using PyTorch's __[built in distribution sampling functions](https://pytorch.org/docs/stable/distributions.html)__ create a dataset sampled from a Bernoulli, and another dataset sampled from a normal distribution"
   ]
  },
  {
   "cell_type": "markdown",
   "metadata": {},
   "source": [
    "## Sampling from a normal distribution\n",
    "First, draw a sample from a normal distribution using the parameters below. Story your data in the variable named `X_norm`, and print out the sample mean and standard deviation"
   ]
  },
  {
   "cell_type": "code",
   "execution_count": 13,
   "metadata": {},
   "outputs": [
    {
     "name": "stdout",
     "output_type": "stream",
     "text": [
      "Inaccurate sample mean: 1.560785174369812, sample std: 0.12180041521787643\n"
     ]
    }
   ],
   "source": [
    "trueMu = 1.491# mean\n",
    "trueSig = 0.1876# standard deviation\n",
    "nNormal = 10\n",
    "#### your code here ####\n",
    "normalDist = torch.distributions.normal.Normal(loc = trueMu, scale = trueSig)\n",
    "X_norm = torch.autograd.Variable(normalDist.sample(sample_shape = [nNormal,]))\n",
    "X_norm = normalDist.sample(sample_shape = [nNormal,])\n",
    "print(\"Inaccurate sample mean: {}, sample std: {}\".format(X_norm.mean(), np.std(torch.Tensor.numpy(X_norm))))"
   ]
  },
  {
   "cell_type": "markdown",
   "metadata": {},
   "source": [
    "How close are the sample estimates of the mean and standard deviation to the true values? How can you improve the sample estimation of these values? What is the theorem that backs up your answer? Please describe how you might do that below and then implement your solution. Continue to store your data in the variable `X_norm`.\n",
    "\n",
    "Note, we care more about you explaining that you know what you're doing, rather than how close you can get your estimates. \n",
    "### 1) Your answer here"
   ]
  },
  {
   "cell_type": "code",
   "execution_count": 15,
   "metadata": {},
   "outputs": [
    {
     "name": "stdout",
     "output_type": "stream",
     "text": [
      "More accurate sample mean: 1.490164041519165, sample std: 0.18644008040428162\n"
     ]
    }
   ],
   "source": [
    "#### your code here ####\n",
    "nNormal = 10000\n",
    "X_norm = torch.autograd.Variable(normalDist.sample(sample_shape = [nNormal,]))\n",
    "X_norm = normalDist.sample(sample_shape = [nNormal,])\n",
    "print(\"More accurate sample mean: {}, sample std: {}\".format(X_norm.mean(), np.std(torch.Tensor.numpy(X_norm))))"
   ]
  },
  {
   "cell_type": "markdown",
   "metadata": {},
   "source": [
    "## Binary data generation\n",
    "Follow the same steps as above, but instead of a normal distribution we want binary data. What distribution can you use to sample binary data? Please ensure that the sample estimate probability of seeing a value of `1` is close to `trueP` "
   ]
  },
  {
   "cell_type": "code",
   "execution_count": 4,
   "metadata": {},
   "outputs": [
    {
     "name": "stdout",
     "output_type": "stream",
     "text": [
      "Sample estimate P(1): 0.22619999945163727\n"
     ]
    }
   ],
   "source": [
    "trueP = 0.23\n",
    "nBinary = 10000\n",
    "#### your code here ####\n",
    "bern = torch.distributions.bernoulli.Bernoulli(torch.tensor([trueP]))\n",
    "# X_bin = torch.autograd.Variable(bern.sample(sample_shape = [100,]))\n",
    "X_bin = bern.sample(sample_shape = [nBinary,])\n",
    "print(\"Sample estimate P(1): {}\".format(X_bin.mean()))"
   ]
  },
  {
   "cell_type": "markdown",
   "metadata": {},
   "source": [
    "# Part 2: Maximum Likelihood Expectation\n",
    "You'll be learning more about maximum likelihood expectation (MLE) next week, but you'll have a chance to gain some intuition, and see how one can implement MLE here.\n",
    "\n",
    "In the previous section you learned how more data can help you estimate the parameters of distributions that observations are drawn from. In the example of data drawn from a normal distribution it's intuitive how we can estimate the mean and standard deviation which parameterize the distribution which generated the data. Put another way, given the data we've seen and an idea for the function which generated this data (ie a normal distribution) we want find the parameters that likely describe how this data was generated. \n",
    "\n",
    "Let's examine some of the moving parts. We have some data, $X \\in R^{n}$, and we know that each observation $x^{i}$ was generated with probability defined by $f(x^{i}|\\theta)$ where $\\theta$ are the parameters that help us define this function. I know this is a little handwavy but just bear with me here. You'll get a better theoretical understanding in class. Let's look at the example of the normal distribution as a data generating function. Here $f(x^{i}|\\theta) = f(x^{i}|\\mu, \\sigma) = \\frac{1}{2\\pi\\sigma^2}exp(-\\frac{(x^{i}-\\mu)^2}{2\\sigma^2})$ which isthe probability density function of the __[normal distribution](https://en.wikipedia.org/wiki/Normal_distribution)__. \n",
    "\n",
    "So that's the probability of observing one $x^i$, but what about all $n$ of those dudes? Well since we're dealing with indpendently and identically distributed data we just multiply that function over and over to get the likelihood of observing our data. That is $f(X|\\mu, \\sigma) = \\prod_{i = 1}^{n}f(x^{i}|\\mu, \\sigma) = \\frac{1}{2\\pi\\sigma^2}^{\\frac{n}{2}}exp(-\\frac{\\sum_{i=1}^{n}(x^{i}-\\mu)^2}{2\\sigma^2})$\n",
    "\n",
    "Ok, so that was alot. But essentially we're just deriving the probability of seeing all our data. The next and final step is to take the log of the final equation above. We do this because of numerical stability. When you're dealing with small numbers, like fractions, repeatedly muliplying them can lead to underflow. $$L(X|\\mu, \\sigma) = \\frac{-n}{2}log(2\\pi\\sigma^2) - \\frac{1}{2\\pi\\sigma^2}\\sum_{i=1}^{n}(x^i - \\mu)^2$$"
   ]
  },
  {
   "cell_type": "markdown",
   "metadata": {},
   "source": [
    "During MLE our goal is to find the parameters $\\theta$ which maximize the function $L(X|\\theta)$. In the cell below fix $\\sigma$ at the true value of `0.1876` and calculate the likelihood function for the data observed with varied $\\mu$ between 1 and 2 with a step size of 0.05"
   ]
  },
  {
   "cell_type": "code",
   "execution_count": 53,
   "metadata": {},
   "outputs": [
    {
     "data": {
      "image/png": "[encoded data removed]",
      "text/plain": [
       "<Figure size 432x288 with 1 Axes>"
      ]
     },
     "metadata": {
      "needs_background": "light"
     },
     "output_type": "display_data"
    }
   ],
   "source": [
    "#### your code here ####\n",
    "muList = np.arange(1, 2.05, 0.05)\n",
    "logLikList = []\n",
    "for mu in muList:\n",
    "    logLik = (-(n/2)*np.log(2*np.pi*(trueSig**2)) - (1/(2*(trueSig**2)))*np.sum((X_norm.data.numpy() - mu)**2))\n",
    "    logLikList.append(logLik)\n",
    "plt.plot(muList, logLikList)\n",
    "plt.show()"
   ]
  },
  {
   "cell_type": "markdown",
   "metadata": {},
   "source": [
    "## MLE: Normal\n",
    "So from above we can see that at the true values of $\\sigma$ and $\\mu$ the log likelihood is maximized. So how can we learn what these parameters should be in order to maximize the MLE? With a little PyTorch and gradient descent we can do just that."
   ]
  },
  {
   "cell_type": "code",
   "execution_count": 68,
   "metadata": {},
   "outputs": [
    {
     "name": "stdout",
     "output_type": "stream",
     "text": [
      "Initial Mu: tensor([0.0438], requires_grad=True)\n",
      "Initial Sigma: tensor([0.4724], requires_grad=True)\n",
      "log likelihood: [2607.0684], learned mu = [0.04380232], learned sigma [0.47238147]\n",
      "log likelihood: [2607.0684], learned mu = [1.1628319], learned sigma [0.6082121]\n",
      "log likelihood: [2607.0684], learned mu = [1.4901638], learned sigma [0.1864401]\n",
      "log likelihood: [2607.0684], learned mu = [1.4901638], learned sigma [0.1864401]\n",
      "log likelihood: [2607.0684], learned mu = [1.4901638], learned sigma [0.1864401]\n",
      "log likelihood: [2607.0684], learned mu = [1.4901638], learned sigma [0.1864401]\n",
      "log likelihood: [2607.0684], learned mu = [1.4901638], learned sigma [0.1864401]\n",
      "log likelihood: [2607.0684], learned mu = [1.4901638], learned sigma [0.1864401]\n",
      "log likelihood: [2607.0684], learned mu = [1.4901638], learned sigma [0.1864401]\n",
      "log likelihood: [2607.0684], learned mu = [1.4901638], learned sigma [0.1864401]\n"
     ]
    }
   ],
   "source": [
    "# Instantiate the parameters to learn. Notice how requires_grad is set to true. This is because we want\n",
    "# to update this parameter.\n",
    "learnedMu = torch.autograd.Variable(torch.rand(1), requires_grad = True)\n",
    "learnedSigma = torch.autograd.Variable(torch.rand(1), requires_grad = True)\n",
    "print(\"Initial Mu: {}\".format(learnedMu))\n",
    "print(\"Initial Sigma: {}\".format(learnedSigma))\n",
    "\n",
    "\n",
    "learningRate = 0.000001\n",
    "# learnedProb.zero_()\n",
    "n = X_norm.shape[0]\n",
    "for myIter in range(1000):\n",
    "    #Instantiate the MLE for a normal distribution here using torch functions.\n",
    "    #### your code here ####\n",
    "    MLE = -((n/2)*torch.log(2*np.pi*(learnedSigma**2)) + (1/(2*(learnedSigma**2)))*torch.sum((X_norm - learnedMu)**2))\n",
    "    #### end code here ####\n",
    "    MLE.backward()\n",
    "    # Now we run over the data multiple times, and each time we calculate how far away we are from\n",
    "    # the maximized MLE and update our parameters accordingly\n",
    "    if myIter % 100 == 0:\n",
    "        print(\"log likelihood: {}, learned mu = {}, learned sigma {}\".format(lossFunc.data.numpy(),\n",
    "                                                                          learnedMu.data.numpy(),\n",
    "                                                                          learnedSigma.data.numpy()))\n",
    "    # SGD update for our learned parameters\n",
    "    learnedMu.data = learnedMu.data + learnedMu.grad.data*learningRate\n",
    "    learnedSigma.data = learnedSigma.data + learnedSigma.grad.data*learningRate\n",
    "    # Clear out the gradient information\n",
    "    learnedMu.grad.data.zero_()\n",
    "    learnedSigma.grad.data.zero_()"
   ]
  },
  {
   "cell_type": "markdown",
   "metadata": {},
   "source": [
    "## MLE: Bernoulli"
   ]
  },
  {
   "cell_type": "code",
   "execution_count": 57,
   "metadata": {},
   "outputs": [
    {
     "name": "stdout",
     "output_type": "stream",
     "text": [
      "log likelihood: -11837.533203125, learned prob = [0.7658536], update = [-30094.062]\n",
      "log likelihood: -5346.43017578125, learned prob = [0.22619966], update = [0.00195312]\n",
      "log likelihood: -5346.43017578125, learned prob = [0.22619966], update = [0.00195312]\n",
      "log likelihood: -5346.43017578125, learned prob = [0.22619966], update = [0.00195312]\n",
      "log likelihood: -5346.43017578125, learned prob = [0.22619966], update = [0.00195312]\n",
      "log likelihood: -5346.43017578125, learned prob = [0.22619966], update = [0.00195312]\n",
      "log likelihood: -5346.43017578125, learned prob = [0.22619966], update = [0.00195312]\n",
      "log likelihood: -5346.43017578125, learned prob = [0.22619966], update = [0.00195312]\n",
      "log likelihood: -5346.43017578125, learned prob = [0.22619966], update = [0.00195312]\n",
      "log likelihood: -5346.43017578125, learned prob = [0.22619966], update = [0.00195312]\n"
     ]
    }
   ],
   "source": [
    "learnedP = torch.autograd.Variable(torch.rand(1), requires_grad = True)\n",
    "learningRate = 0.00001\n",
    "# learnedProb.zero_()\n",
    "for myIter in range(1000):\n",
    "    lossFunc = torch.sum(torch.log(X_bin*learnedP + (1-X_bin)*(1-learnedP)))\n",
    "    lossFunc.backward()\n",
    "    if myIter % 100 == 0:\n",
    "        print(\"log likelihood: {}, learned prob = {}, update = {}\".format(lossFunc.data.numpy(),\n",
    "                                                                          learnedP.data.numpy(),\n",
    "                                                                          learnedP.grad.data.numpy()))\n",
    "    learnedP.data = learnedP.data + learnedP.grad.data*learningRate\n",
    "    learnedP.grad.data.zero_()"
   ]
  },
  {
   "cell_type": "code",
   "execution_count": null,
   "metadata": {
    "collapsed": true
   },
   "outputs": [],
   "source": []
  }
 ],
 "metadata": {
  "kernelspec": {
   "display_name": "Python (Computational Methods)",
   "language": "python",
   "name": "compmeth"
  },
  "language_info": {
   "codemirror_mode": {
    "name": "ipython",
    "version": 3
   },
   "file_extension": ".py",
   "mimetype": "text/x-python",
   "name": "python",
   "nbconvert_exporter": "python",
   "pygments_lexer": "ipython3",
   "version": "3.6.8"
  }
 },
 "nbformat": 4,
 "nbformat_minor": 2
}
