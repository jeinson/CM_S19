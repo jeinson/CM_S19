{
 "cells": [
  {
   "cell_type": "code",
   "execution_count": null,
   "metadata": {},
   "outputs": [],
   "source": [
    "# 1) Random sampling (torch.randn, torch.rand, torch.distributions module)\n",
    "# 2) Demonstration of central limit theorem through simulation\n",
    "# 3) Autodiff and computational graph construction (grad fields for tensors, backward method (and how it discards the implicitly created computational graph), optimizers, loss functions)\n",
    "# 4) Application of autodiff to a very simple problem (like fitting a normal and/or a beta distribution through maximum likelihood)"
   ]
  },
  {
   "cell_type": "code",
   "execution_count": 1,
   "metadata": {},
   "outputs": [],
   "source": [
    "import torch\n",
    "import numpy as np"
   ]
  },
  {
   "cell_type": "markdown",
   "metadata": {},
   "source": [
    "# Bernoulli MLE example"
   ]
  },
  {
   "cell_type": "code",
   "execution_count": 59,
   "metadata": {},
   "outputs": [
    {
     "name": "stdout",
     "output_type": "stream",
     "text": [
      "tensor(0.2100)\n"
     ]
    }
   ],
   "source": [
    "trueProb = 0.23\n",
    "bern = torch.distributions.bernoulli.Bernoulli(torch.tensor([trueProb]))\n",
    "X_bin = torch.autograd.Variable(bern.sample(sample_shape = [100,]))\n",
    "X_bin = bern.sample(sample_shape = [100,])\n",
    "print(X_bin.mean())"
   ]
  },
  {
   "cell_type": "code",
   "execution_count": 49,
   "metadata": {},
   "outputs": [
    {
     "name": "stdout",
     "output_type": "stream",
     "text": [
      "tensor([0.1430], requires_grad=True)\n"
     ]
    }
   ],
   "source": [
    "learnedProb = torch.autograd.Variable(torch.rand(1), requires_grad = True)\n",
    "print(learnedProb)"
   ]
  },
  {
   "cell_type": "code",
   "execution_count": 51,
   "metadata": {},
   "outputs": [
    {
     "name": "stdout",
     "output_type": "stream",
     "text": [
      "log likelihood: 53.28410339355469, learned prob = [0.26722452], update = <built-in method numpy of Tensor object at 0x7fb155589d38>\n",
      "log likelihood: 52.96193313598633, learned prob = [0.25148225], update = <built-in method numpy of Tensor object at 0x7fb1554ee798>\n",
      "log likelihood: 52.784645080566406, learned prob = [0.23828968], update = <built-in method numpy of Tensor object at 0x7fb1554ee678>\n",
      "log likelihood: 52.72193908691406, learned prob = [0.23045349], update = <built-in method numpy of Tensor object at 0x7fb1554ee678>\n",
      "log likelihood: 52.70085144042969, learned prob = [0.22591306], update = <built-in method numpy of Tensor object at 0x7fb1554ee678>\n",
      "log likelihood: 52.69398880004883, learned prob = [0.22332391], update = <built-in method numpy of Tensor object at 0x7fb1554ee678>\n",
      "log likelihood: 52.69180679321289, learned prob = [0.22186166], update = <built-in method numpy of Tensor object at 0x7fb1554ee678>\n",
      "log likelihood: 52.69111633300781, learned prob = [0.22104053], update = <built-in method numpy of Tensor object at 0x7fb1554ee678>\n",
      "log likelihood: 52.690895080566406, learned prob = [0.22058085], update = <built-in method numpy of Tensor object at 0x7fb1554ee678>\n",
      "log likelihood: 52.69083023071289, learned prob = [0.22032405], update = <built-in method numpy of Tensor object at 0x7fb1554ee678>\n"
     ]
    }
   ],
   "source": [
    "learningRate = 0.00001\n",
    "# learnedProb.zero_()\n",
    "for myIter in range(1000):\n",
    "    lossFunc = -torch.sum(torch.log(X_bin*learnedProb + (1-X_bin)*(1-learnedProb)))\n",
    "    lossFunc.backward()\n",
    "    if myIter % 100 == 0:\n",
    "        print(\"log likelihood: {}, learned prob = {}, update = {}\".format(lossFunc.data.numpy(),\n",
    "                                                                          learnedProb.data.numpy(),\n",
    "                                                                          learnedProb.grad.data.numpy))\n",
    "    learnedProb.data = learnedProb.data - learnedProb.grad.data*learningRate\n",
    "    learnedProb.grad.data.zero_()"
   ]
  },
  {
   "cell_type": "code",
   "execution_count": 45,
   "metadata": {},
   "outputs": [
    {
     "name": "stdout",
     "output_type": "stream",
     "text": [
      "tensor(52.6908, grad_fn=<NegBackward>)\n"
     ]
    }
   ],
   "source": [
    "print(lossFunc)"
   ]
  },
  {
   "cell_type": "markdown",
   "metadata": {},
   "source": [
    "# Normal distribution MLE example"
   ]
  },
  {
   "cell_type": "code",
   "execution_count": 122,
   "metadata": {},
   "outputs": [
    {
     "name": "stdout",
     "output_type": "stream",
     "text": [
      "tensor(1.5275)\n",
      "0.20134597\n"
     ]
    }
   ],
   "source": [
    "trueMu = 1.491\n",
    "trueSig = 0.1876\n",
    "normalDist = torch.distributions.normal.Normal(loc = trueMu, scale = trueSig)\n",
    "# X_bin = torch.autograd.Variable(bern.sample(sample_shape = [100,]))\n",
    "X_norm = torch.autograd.Variable(normalDist.sample(sample_shape = [100,]))\n",
    "print(X_norm.mean())\n",
    "print(np.std(torch.Tensor.numpy(X_norm)))"
   ]
  },
  {
   "cell_type": "code",
   "execution_count": 123,
   "metadata": {},
   "outputs": [
    {
     "name": "stdout",
     "output_type": "stream",
     "text": [
      "tensor([0.3247], requires_grad=True)\n",
      "tensor([0.4949], requires_grad=True)\n"
     ]
    }
   ],
   "source": [
    "learnedMu = torch.autograd.Variable(torch.rand(1), requires_grad = True)\n",
    "learnedSigma = torch.autograd.Variable(torch.rand(1), requires_grad = True)\n",
    "print(learnedMu)\n",
    "print(leanedSigma)"
   ]
  },
  {
   "cell_type": "code",
   "execution_count": 124,
   "metadata": {},
   "outputs": [
    {
     "name": "stdout",
     "output_type": "stream",
     "text": [
      "log likelihood: [528.74347], learned mu = [0.32467383], learned sigma [0.37262374]\n",
      "log likelihood: [147.85068], learned mu = [0.5823783], learned sigma [0.7317697]\n",
      "log likelihood: [124.17253], learned mu = [0.7185364], learned sigma [0.7791844]\n",
      "log likelihood: [110.40022], learned mu = [0.8294394], learned sigma [0.77866924]\n",
      "log likelihood: [98.75214], learned mu = [0.92838806], learned sigma [0.7531023]\n",
      "log likelihood: [87.07585], learned mu = [1.0209675], learned sigma [0.70938164]\n",
      "log likelihood: [74.14524], learned mu = [1.1105324], learned sigma [0.64946795]\n",
      "log likelihood: [58.698563], learned mu = [1.1997578], learned sigma [0.57261634]\n",
      "log likelihood: [38.86735], learned mu = [1.2913963], learned sigma [0.47569034]\n",
      "log likelihood: [12.012688], learned mu = [1.3882916], learned sigma [0.35441273]\n"
     ]
    }
   ],
   "source": [
    "learningRate = 0.000009\n",
    "# learnedProb.zero_()\n",
    "n = X_norm.shape[0]\n",
    "for myIter in range(1000):\n",
    "    lossFunc = ((n/2)*torch.log(2*np.pi*(learnedSigma**2)) + (1/(2*(learnedSigma**2)))*torch.sum((X_norm - learnedMu)**2))\n",
    "    lossFunc.backward()\n",
    "    if myIter % 100 == 0:\n",
    "        print(\"log likelihood: {}, learned mu = {}, learned sigma {}\".format(lossFunc.data.numpy(),\n",
    "                                                                          learnedMu.data.numpy(),\n",
    "                                                                          learnedSigma.data.numpy()))\n",
    "    learnedMu.data = learnedMu.data - learnedMu.grad.data*learningRate\n",
    "    learnedSigma.data = learnedSigma.data - learnedSigma.grad.data*learningRate\n",
    "    learnedMu.grad.data.zero_()\n",
    "    learnedSigma.grad.data.zero_()"
   ]
  },
  {
   "cell_type": "code",
   "execution_count": 125,
   "metadata": {},
   "outputs": [],
   "source": [
    "n = X_norm.shape[0]"
   ]
  },
  {
   "cell_type": "code",
   "execution_count": 69,
   "metadata": {},
   "outputs": [
    {
     "data": {
      "text/plain": [
       "100"
      ]
     },
     "execution_count": 69,
     "metadata": {},
     "output_type": "execute_result"
    }
   ],
   "source": [
    "n"
   ]
  },
  {
   "cell_type": "code",
   "execution_count": 72,
   "metadata": {},
   "outputs": [
    {
     "data": {
      "text/plain": [
       "3.141592653589793"
      ]
     },
     "execution_count": 72,
     "metadata": {},
     "output_type": "execute_result"
    }
   ],
   "source": [
    "np.pi"
   ]
  },
  {
   "cell_type": "code",
   "execution_count": null,
   "metadata": {},
   "outputs": [],
   "source": []
  }
 ],
 "metadata": {
  "kernelspec": {
   "display_name": "Python (Computational Methods)",
   "language": "python",
   "name": "computational_methods"
  },
  "language_info": {
   "codemirror_mode": {
    "name": "ipython",
    "version": 3
   },
   "file_extension": ".py",
   "mimetype": "text/x-python",
   "name": "python",
   "nbconvert_exporter": "python",
   "pygments_lexer": "ipython3",
   "version": "3.6.6"
  }
 },
 "nbformat": 4,
 "nbformat_minor": 2
}
