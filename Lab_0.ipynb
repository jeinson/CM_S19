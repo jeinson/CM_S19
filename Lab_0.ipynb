{
 "cells": [
  {
   "attachments": {},
   "cell_type": "markdown",
   "metadata": {},
   "source": [
    "![Columbia_Med](http://cumc.p.cumcweb.org/sites/default/files/styles/spotlight_image/public/cumc-building.jpg?itok=I5x7WIaT)"
   ]
  },
  {
   "cell_type": "markdown",
   "metadata": {},
   "source": [
    "# Lab 0: Intro to Jupyter, Python, and package management\n",
    "\n",
    "Please please complete this tutorial before the first lab. Feel free to reach out with any questions. The TA's are Jonah Einson (jee2142@cumc.columbia.edu) and Oliver Bear Don't Walk (ob2285@cumc.columbia.edu)\n",
    "\n",
    "Let's get started!"
   ]
  },
  {
   "cell_type": "markdown",
   "metadata": {},
   "source": [
    "## 0.1 Install Anaconda\n",
    "The python programming language is ubiquitous in data science, and it certaintly comes with its caveats. There are many packages available for python, and installing them so they don't fight with each other can sometimes be a challenge. In this course, all modules used for labs will be installed through Anaconda. This is a package management tool, which is very useful for dealing with these types of issues. Before coming to class, download [Anaconda 3.7](https://www.anaconda.com/download/) for whatever system you use (Mac, PC, or Linux) and create an environment called `Computational_methods`, by running the following command:\n",
    "\n",
    "`conda create --name Computational_methods`\n",
    "\n",
    "Navigate to a folder where you'll save your labs (I'm calling mine `CM_S19`), and activate your new environment by running `source activate Computational_methods` (or just `activate Computational_methods` on Windows). Your terminal should now look something like this:\n",
    "\n",
    "`(Computational_methods) jonah@spectre-x360:~/CM_S19$`\n",
    "\n",
    "This means that when you run python, your computer will look for the version in the `Computational_methods` directory, and not the one that is in your global path. This can be very useful if you have programs that need different versions of python: (2.7 or 3.6 for example). To see where python is, type `which python`. Now deactivate the environment by running `source deactivate`, and locate python again. What is the difference?\n",
    "\n",
    "For more information on Anaconda environments, check out the [conda-cheatsheet](https://conda.io/docs/_downloads/conda-cheatsheet.pdf). "
   ]
  },
  {
   "cell_type": "markdown",
   "metadata": {},
   "source": [
    "## 0.2 Set up Jupyter\n",
    "All of our labs will be done through Jupyter notebooks. Fortunately, this tool comes in the box with Anaconda. In order for Jupyter to recognize packages you install in your `Computational_methods` environment, you must install a new python kernel from the environment's version of python. Activate your `Computational_methods` environment again, and run\n",
    "\n",
    "`python -m ipykernel install --user --name CM --display-name \"Python (Computational Methods)\"`\n",
    "\n",
    "Now, run `jupyter notebook`, and click URL to open the program in your preferred browser. (It should look something like `http://localhost:8888/?token=e539f0b7d27173cae9b36bf69912d40f5fa9f027cb4175bf`) Once Jupyter is running, open a new notebook by clicking `New > Python (Computational Methods)`, in the upper right corner. The packages you instal using the `conda` package installer will now be accessible from jupyter. \n"
   ]
  },
  {
   "cell_type": "markdown",
   "metadata": {},
   "source": [
    "### ***Pro Tip!***\n",
    "Initialize a new git repository in your `Computational_methods` folder. Using version control is a good habit to get into, and can save you from losing work if something goes wrong. Read more about version control [here](https://thenewstack.io/tutorial-git-for-absolutely-everyone/)"
   ]
  },
  {
   "cell_type": "markdown",
   "metadata": {},
   "source": [
    "Once you've done all of this, you can open `Lab_0.ipynb` with Jupyter, and continue the rest of this lab interactively! The rest of the labs will be distributed and run this way. "
   ]
  },
  {
   "cell_type": "markdown",
   "metadata": {},
   "source": [
    "Now it's time to actually install the packages needed for the first lab. Once you've activated your virutal environment, run the following commands:"
   ]
  },
  {
   "cell_type": "code",
   "execution_count": 8,
   "metadata": {},
   "outputs": [
    {
     "name": "stdout",
     "output_type": "stream",
     "text": [
      "Collecting pyro\n",
      "  Using cached https://files.pythonhosted.org/packages/61/68/0978adae315261b87acd216517c2c7f00780396e4d1426c5412458c6a28f/Pyro-3.16.tar.gz\n",
      "    Complete output from command python setup.py egg_info:\n",
      "    Traceback (most recent call last):\n",
      "      File \"<string>\", line 1, in <module>\n",
      "      File \"/tmp/pip-install-d0psy5q4/pyro/setup.py\", line 23\n",
      "        exec code in constants\n",
      "                ^\n",
      "    SyntaxError: Missing parentheses in call to 'exec'\n",
      "    \n",
      "    ----------------------------------------\n",
      "Collecting torch\n",
      "  Using cached https://files.pythonhosted.org/packages/7e/60/66415660aa46b23b5e1b72bc762e816736ce8d7260213e22365af51e8f9c/torch-1.0.0-cp36-cp36m-manylinux1_x86_64.whl\n",
      "Installing collected packages: torch\n",
      "Successfully installed torch-1.0.0\n"
     ]
    },
    {
     "name": "stderr",
     "output_type": "stream",
     "text": [
      "Command \"python setup.py egg_info\" failed with error code 1 in /tmp/pip-install-d0psy5q4/pyro/\n"
     ]
    }
   ],
   "source": [
    "%%bash\n",
    "pip install pyro\n",
    "pip install torch"
   ]
  },
  {
   "cell_type": "code",
   "execution_count": 2,
   "metadata": {},
   "outputs": [],
   "source": [
    "import torch"
   ]
  },
  {
   "cell_type": "code",
   "execution_count": 1,
   "metadata": {},
   "outputs": [],
   "source": [
    "import sys\n",
    "import matplotlib.pyplot as plt"
   ]
  },
  {
   "cell_type": "code",
   "execution_count": 3,
   "metadata": {},
   "outputs": [],
   "source": [
    "import tensorflow"
   ]
  }
 ],
 "metadata": {
  "kernelspec": {
   "display_name": "Python (Computational Methods)",
   "language": "python",
   "name": "cm"
  },
  "language_info": {
   "codemirror_mode": {
    "name": "ipython",
    "version": 3
   },
   "file_extension": ".py",
   "mimetype": "text/x-python",
   "name": "python",
   "nbconvert_exporter": "python",
   "pygments_lexer": "ipython3",
   "version": "3.6.7"
  }
 },
 "nbformat": 4,
 "nbformat_minor": 2
}
