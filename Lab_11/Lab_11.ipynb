{
 "cells": [
  {
   "cell_type": "markdown",
   "metadata": {},
   "source": [
    "![networking_skills](https://memegenerator.net/img/instances/64552892/ive-got-skills-sweet-networking-skills.jpg)\n",
    "\n",
    "\n",
    "# Lab 11: Networks and Graphs and Centrality \n",
    "##### (oh my)\n",
    "\n",
    "This weeks's lab will give you experience in network analysis and visualization using the `igraph` library for python. `igraph` provides data types and functions for the implementation of several graph algorithms. \n",
    "\n",
    "First things first, install the igraph package in your `Computational_methods` environment. Mac and Linux users can simply run \n",
    "\n",
    "    conda install -c conda-forge python-igraph\n",
    "\n",
    "Sorry windows users, but since this package requires a C compiler, installation is a bit trickier. Just follow the instructions on [igraph website](https://igraph.org/python/#pyinstall), (or consider using your VM from acculturation, since I couldn't get it to work on my windows machine...)"
   ]
  },
  {
   "cell_type": "code",
   "execution_count": null,
   "metadata": {},
   "outputs": [],
   "source": [
    "from igraph import *\n",
    "#import cairocffi # You may need this to use the built in plotting function. If you get errors, consult Mr. Google"
   ]
  },
  {
   "cell_type": "markdown",
   "metadata": {},
   "source": [
    "## 1 Zachary's Karate Club\n",
    "The goal of this section is to \"gently\" explore, by example, some commonly used `igraph` functions. We will play with the \"Zachary's Karate Club\" dataset, a social network of friendhips between members of a karate club at a US university in the '70s. \n",
    "\n",
    "Unfortunately, because neutral stars with strong magnetic dipole fields can form helical dynamo action during the first few seconds after gravitational collapse, a fact circumstantially supported by the general relativistic magneto-hydro-dynamic (GRMHD) black hole accretion flow simulation of thick disks, and recently imaged by the [Event Horizon Telescope](https://iopscience.iop.org/article/10.3847/2041-8213/ab0ec7/meta), all the comments have been deleted.\n",
    "\n",
    "![black_hole](https://media0.giphy.com/media/3oEjI7fU1jLnk9O0pO/giphy.gif?cid=790b76115cb9d0896d6b496551cb9ed2)\n",
    "\n",
    "Your task, should you choose to accept it, is to understand and document the following code. The [python igraph documentation](https://igraph.org/python/#docs) is quite 'extensive,' but has some good examples in the tutorial that will be useful. "
   ]
  },
  {
   "cell_type": "code",
   "execution_count": null,
   "metadata": {},
   "outputs": [],
   "source": [
    "karate = Graph.Read_GML(\"daytuh/karate.gml\")"
   ]
  },
  {
   "cell_type": "code",
   "execution_count": null,
   "metadata": {},
   "outputs": [],
   "source": [
    "print(karate.vcount()) # Who am I?\n",
    "print(karate.ecount()) # What do I do?\n",
    "print(karate.is_connected())\n",
    "print(karate.is_directed())"
   ]
  },
  {
   "cell_type": "code",
   "execution_count": null,
   "metadata": {},
   "outputs": [],
   "source": [
    "plot(karate, \n",
    "     vertex_size = 9, \n",
    "     vertex_color = \"pink\", \n",
    "     bbox=(300,300))"
   ]
  },
  {
   "cell_type": "code",
   "execution_count": null,
   "metadata": {},
   "outputs": [],
   "source": [
    "better_karate = karate\n",
    "\n",
    "better_karate.vs[\"color\"] = \"orange\"\n",
    "\n",
    "d = better_karate.degree()\n",
    "better_karate.vs[d.index(min(d))][\"color\"] = \"red\"#\n",
    "better_karate.vs[d.index(max(d))][\"color\"] = \"green\"\n",
    "\n",
    "layout = better_karate.layout(\"fr\")\n",
    "\n",
    "better_karate.vs[\"label\"] = [int(i) for i in better_karate.vs['id']]\n",
    "\n",
    "plot(better_karate, \n",
    "             layout = layout,\n",
    "             bbox=(400,400), \n",
    "             margin = 20)"
   ]
  },
  {
   "cell_type": "code",
   "execution_count": null,
   "metadata": {},
   "outputs": [],
   "source": [
    "import pandas as pd\n",
    "\n",
    "centrality_metrics = pd.DataFrame(\n",
    "     {'vid':karate.vs['id'], \n",
    "      'deg':karate.degree(), \n",
    "      'bet':karate.betweenness(), \n",
    "      'eig':karate.evcent()}\n",
    ")"
   ]
  },
  {
   "cell_type": "code",
   "execution_count": null,
   "metadata": {},
   "outputs": [],
   "source": [
    "drawing.plot(better_karate, \n",
    "             layout = layout,\n",
    "             vertex_size = centrality_metrics['eig'] * 30,\n",
    "             bbox=(400,400), \n",
    "             margin = 20)"
   ]
  },
  {
   "cell_type": "code",
   "execution_count": null,
   "metadata": {
    "scrolled": true
   },
   "outputs": [],
   "source": [
    "karate_communities = karate.community_label_propagation()\n",
    "plot(karate_communities, \n",
    "     mark_groups = True, \n",
    "     bbox=(250,250))\n",
    "\n",
    "# Try running this a couple of times. Why does the output change?"
   ]
  },
  {
   "cell_type": "markdown",
   "metadata": {},
   "source": [
    "## 2 Coauthorship Network\n",
    "\n",
    "Now that we've learned our way arund the software, we'll try to apply some of the network analysis algorithms we learend to gain insight into a so-called \"Coauthorship\" network\" \n",
    "\n",
    "### 2.0 Data Description and Background\n",
    "The zip archived data from the \"Coauthorships in network and science\" data is available both on the course website and online at [Mark Newman's network data webage](http://www-personal.umich.edu/~mejn/netdata/])[.](https://i.imgur.com/yNlQWRM.jpg) This file contains two files: `netscience.gml`, which contains the geraph data, and `netscience.txt`, which is a text file with information about the dataset. <br>\n",
    "Prior to doin any analysis on the `netscience.gml` dataset, we should try to understand what kind of data we're working with. We can explore the contents by reading the author's description of the dataset and by inspecting the content of the dataset.\n",
    "\n",
    "**Task:** Take some time to familiarize yourself with the dataset. Begin by reading the `netscience.txt` file. Now view the `netscience.gml` datafile using a text editor. "
   ]
  },
  {
   "cell_type": "markdown",
   "metadata": {},
   "source": [
    "### 2.1 Loading data\n",
    "\n",
    "Read the dataset into python and give it an appropriate name. "
   ]
  },
  {
   "cell_type": "code",
   "execution_count": null,
   "metadata": {},
   "outputs": [],
   "source": [
    "#### your code here ####"
   ]
  },
  {
   "cell_type": "markdown",
   "metadata": {},
   "source": [
    "### 2.2 Graph Structure and Statistics\n",
    "Let's explore some basic structural features of the coauthorship network. The `igraph` class provides many tools for investigating statistics of a graph object. \n",
    "\n",
    "**Question:** How many nodes are in the graph? How many edges are in the graph? Is the graph director or undirected? Describe the degree distribution of the graph, either using plots or summary statistics. "
   ]
  },
  {
   "cell_type": "code",
   "execution_count": null,
   "metadata": {},
   "outputs": [],
   "source": [
    "#### your code here ####"
   ]
  },
  {
   "cell_type": "markdown",
   "metadata": {},
   "source": [
    "### 2.3 Mining Data About Authors\n",
    "Lets start extracting some useful information from this network. In the next few sections, we'll compute and accumulate data about each of the authors in the network. You'll need a place to store this data. While there are many ways to structure this, by far the most idiomatic is to build a data frame with various columns, one for each property for authors / vertices. \n",
    "\n",
    "**Task:** From the graph, obtain both the numeric IDs and a character vector label for each vertex. You'll need both because on (ID) uniquely identifies the vertex in your graph data structure, while the other (label) provices human readable names (and I suppose, meaning) for the vertices. Place these in a usable data structure. "
   ]
  },
  {
   "cell_type": "code",
   "execution_count": null,
   "metadata": {},
   "outputs": [],
   "source": [
    "#### your code here ####"
   ]
  },
  {
   "cell_type": "markdown",
   "metadata": {},
   "source": [
    "### 2.4 Kingpins and Corner Kids\n",
    "We can us `igraph` to compute graph theoretic measures that will help identify the important authors within the network. \n",
    "\n",
    "**Task:** Compute the degree centrality (i.e. the degree) of all the authors, and return the top 5 authors by degree. "
   ]
  },
  {
   "cell_type": "code",
   "execution_count": null,
   "metadata": {},
   "outputs": [],
   "source": [
    "#### your code here ####"
   ]
  },
  {
   "cell_type": "markdown",
   "metadata": {},
   "source": [
    "**Task:** Compute the betweenness centrality of all vertices and rank the authors by their decreasing betweenness centrality. What are the authors top 5 authors by this metric? Are they different than degree centrality? Why?"
   ]
  },
  {
   "cell_type": "code",
   "execution_count": null,
   "metadata": {},
   "outputs": [],
   "source": [
    "#### your code here ####"
   ]
  },
  {
   "cell_type": "markdown",
   "metadata": {},
   "source": [
    "### 2.5 Community Detection\n",
    "Community detection, especially in complex networks, is an ongoing and fecund subfield of network science research. One of the oldest and \"Classic\" algorithms used for community detection is the Girvan-Newman Algorithm, as discussed in the reading. It is implemented as the `community_edge_betweenness` method from the `GraphBase` class. \n",
    "\n",
    "**Task:** Use the Girvan-Newman algorithm to choose communities of authors, then plot the network, coloring by community. The function can decide what the optimal number of communities is, but try specifying some different sizes. <br> There are many sparsely connected authors, so first you should get a subgraph that contains the largest connected component. "
   ]
  },
  {
   "cell_type": "code",
   "execution_count": null,
   "metadata": {},
   "outputs": [],
   "source": [
    "#### your code here ####"
   ]
  }
 ],
 "metadata": {
  "kernelspec": {
   "display_name": "Python (Computational Methods)",
   "language": "python",
   "name": "cm"
  },
  "language_info": {
   "codemirror_mode": {
    "name": "ipython",
    "version": 3
   },
   "file_extension": ".py",
   "mimetype": "text/x-python",
   "name": "python",
   "nbconvert_exporter": "python",
   "pygments_lexer": "ipython3",
   "version": "3.6.8"
  }
 },
 "nbformat": 4,
 "nbformat_minor": 2
}
