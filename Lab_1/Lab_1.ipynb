{
 "cells": [
  {
   "cell_type": "markdown",
   "metadata": {},
   "source": [
    "![Pyton_comic](https://biomedicalhub.github.io/python-data/images/python.png)"
   ]
  },
  {
   "cell_type": "markdown",
   "metadata": {},
   "source": [
    "# Lab 1: Python Refresher and Autodiff"
   ]
  },
  {
   "cell_type": "markdown",
   "metadata": {},
   "source": [
    "## Part 1: Manipulating data with Pandas\n",
    "Before you do any statistics, you need to get data into the python environment. In this part you will learn how to \n",
    " 1. Load data from CSV files\n",
    " 2. Subset data frames\n",
    " 3. Edit data to make it easier to manage\n",
    " 4. Merge multiple datasets\n",
    " \n",
    "Pandas is a python module used to handle tabular data, in a format similar to R's data.frame data structure. We will be using it extensively throuhgout the semester. If pandas is not installed already, use `conda` to install it into your `Computational_methods` environment. For a quick reference of pandas methods, check out the [Pandas cheat sheet](https://pandas.pydata.org/Pandas_Cheat_Sheet.pdf). Google is also your friend here 😁"
   ]
  },
  {
   "cell_type": "code",
   "execution_count": 2,
   "metadata": {},
   "outputs": [],
   "source": [
    "import pandas as pd"
   ]
  },
  {
   "cell_type": "markdown",
   "metadata": {},
   "source": [
    "### 1.1 Load CSV File"
   ]
  },
  {
   "cell_type": "markdown",
   "metadata": {},
   "source": [
    "a. Use`pandas` to read `rhc.csv`. A description of this dataset is [here](http://biostat.mc.vanderbilt.edu/wiki/pub/Main/DataSets/rhc.html). "
   ]
  },
  {
   "cell_type": "code",
   "execution_count": 3,
   "metadata": {},
   "outputs": [],
   "source": [
    "#### your code here ####"
   ]
  },
  {
   "cell_type": "markdown",
   "metadata": {},
   "source": [
    "b. View your new data frame, and get all of the feature names. "
   ]
  },
  {
   "cell_type": "code",
   "execution_count": 1,
   "metadata": {},
   "outputs": [],
   "source": [
    "#### your code here ####"
   ]
  },
  {
   "cell_type": "markdown",
   "metadata": {},
   "source": [
    "### 1.2 Structure\n",
    "a. What are the dimensions of the data frame, and the classes of each column? Can you get a summary of every feature in the data? (Try the `describe` method)"
   ]
  },
  {
   "cell_type": "code",
   "execution_count": 6,
   "metadata": {},
   "outputs": [
    {
     "data": {
      "text/plain": [
       "(5735, 63)"
      ]
     },
     "execution_count": 6,
     "metadata": {},
     "output_type": "execute_result"
    }
   ],
   "source": [
    "#### your code here ####"
   ]
  },
  {
   "cell_type": "markdown",
   "metadata": {},
   "source": [
    "### 1.3 Subset\n",
    "a. Select the first 10 columns of the data frame. (! Remember that that the first element of any list or vector in Python is indexed as 0 !)"
   ]
  },
  {
   "cell_type": "code",
   "execution_count": 2,
   "metadata": {},
   "outputs": [],
   "source": [
    "#### your code here ####"
   ]
  },
  {
   "cell_type": "markdown",
   "metadata": {},
   "source": [
    "b. Select individuals between 10 and 25 years of age. How many such individuals are there?"
   ]
  },
  {
   "cell_type": "code",
   "execution_count": 3,
   "metadata": {},
   "outputs": [],
   "source": [
    "#### your code here ####"
   ]
  },
  {
   "cell_type": "markdown",
   "metadata": {},
   "source": [
    "c. Select rows that are not missing any missing data."
   ]
  },
  {
   "cell_type": "code",
   "execution_count": 4,
   "metadata": {},
   "outputs": [],
   "source": [
    "#### your code here ####"
   ]
  },
  {
   "cell_type": "markdown",
   "metadata": {},
   "source": [
    "### 1.5 Editing\n",
    "\n",
    "a. Add a `lengthstay` column with the difference between the study admission date `sadmdte` and the discharge date `dschdte`. The date is in a censored format to protect the identify of the individuals in the dataset. "
   ]
  },
  {
   "cell_type": "code",
   "execution_count": 5,
   "metadata": {},
   "outputs": [],
   "source": [
    "#### your code here ####"
   ]
  },
  {
   "cell_type": "markdown",
   "metadata": {},
   "source": [
    "b. Normalize the values of a lab test of your choice. i.e. subtract the mean value and divide by the standard deviation. "
   ]
  },
  {
   "cell_type": "code",
   "execution_count": 6,
   "metadata": {},
   "outputs": [],
   "source": [
    "#### your code here ####"
   ]
  },
  {
   "cell_type": "markdown",
   "metadata": {},
   "source": [
    "### 1.4 Merging\n",
    "\n",
    "Load `rhc_1.csv` and `rhc_2.csv`. Select the first 10 columns of both tables, then combine them. Save the ouput as `rhc_new.csv`, and include this as part of your submission on Courseworks. "
   ]
  },
  {
   "cell_type": "code",
   "execution_count": 7,
   "metadata": {},
   "outputs": [],
   "source": [
    "#### your code here ####"
   ]
  },
  {
   "cell_type": "markdown",
   "metadata": {},
   "source": [
    "## Part 2: Python Basics and Object Oriented Programming (OOP)\n",
    "While data frames are a good way to manage data in the format it is give to you in, you may want to organize your data in a way that makes more sense from a computational standpoint. Fortunately, python has rich support for Object Oriented Programming. In Python, classes are types of objects. You can think of a class as a scaffold that will hold more data in a structured way. Classes can contain *attributes*, which describe the object, and *methods*, which perform some function on the object. \n",
    "\n",
    "This is an example of a class called `Patient`, which is initialized with an ID and age attribute. `Patient` also has a class attribute, which is the same for all instances. This is fine for us, but it you happen to be a veterinary informatician, you may want to change `species` to `'Felis catus'`. There is also a method which prints the patients ID and age. "
   ]
  },
  {
   "cell_type": "markdown",
   "metadata": {},
   "source": [
    "a. Add an attribute to `Patient` for their disease category, an attribute for one lab test value, and a method called `DieseaseDescription` which prints the patient's ID, disease, and lab test value, in some human readable format. "
   ]
  },
  {
   "cell_type": "code",
   "execution_count": 18,
   "metadata": {},
   "outputs": [],
   "source": [
    "class Patient:\n",
    "    \n",
    "    # Class Attribute\n",
    "    species = 'Homo sapiens'\n",
    "    \n",
    "    # Initializer / Instance Attributes\n",
    "    def __init__(self, ID, age):\n",
    "        self.ID = ID\n",
    "        self.age = age\n",
    "        #### your code here ####\n",
    "    \n",
    "    # Instance method\n",
    "    def description(self):\n",
    "        return \"Patient #{} is {} years old\".format(self.ID, self.age)\n",
    "    #### your code here ####\n",
    "    "
   ]
  },
  {
   "cell_type": "code",
   "execution_count": 19,
   "metadata": {
    "scrolled": true
   },
   "outputs": [
    {
     "name": "stdout",
     "output_type": "stream",
     "text": [
      "Patient #9 is 25 years old\n",
      "Homo sapiens\n"
     ]
    }
   ],
   "source": [
    "# Example Patient\n",
    "ex_pnt = Patient(9, 25)\n",
    "print(ex_pnt.description())\n",
    "print(ex_pnt.species)"
   ]
  },
  {
   "cell_type": "markdown",
   "metadata": {},
   "source": [
    "b. For the first 100 individuals in `rhc` with non-missing values for their disease and lab test you chose, initialize a `Patient` object for each, and save it in a list data structure. Then call the `DiseaseDescription` method for each object in the list. "
   ]
  },
  {
   "cell_type": "code",
   "execution_count": 20,
   "metadata": {},
   "outputs": [],
   "source": [
    "#### your code here ####"
   ]
  },
  {
   "cell_type": "markdown",
   "metadata": {},
   "source": [
    "## Part 3: Vectorized programming with pytorch\n",
    "Let's turn up the heat a bit 🔥🔥🔥. A central focus of this course is learning neural network architecture, and PyTorch is one of the most common Python modules used for this task. If you haven't already, install it into your `Computational_methods` environment. More information on installing Pytorch is [here](https://pytorch.org/get-started/locally/). Do whatever instructions apply to your computer, but make sure you install PyTorch using conda, and that it installs into your environment. "
   ]
  },
  {
   "cell_type": "code",
   "execution_count": 37,
   "metadata": {},
   "outputs": [],
   "source": [
    "import torch\n",
    "import numpy as np"
   ]
  },
  {
   "cell_type": "markdown",
   "metadata": {},
   "source": [
    "### 3.1 Tensors\n",
    "Primarily, Pytorch can be used as a replacement for Numpy, to take advantage of the parallel processing power of GPUs. Torch tensors are defined similarly to `np.array`s, so the syntax should be familiar if you have used Numpy before. Check out a cheat sheet for Pytorch [here](https://www.sznajdman.com/wp-content/uploads/2018/02/pytorch-cheat.jpg)\n",
    "\n",
    "You can easily make random tensors of any dimensions. Use `torch.rand` to draw from a Uniform distribution between 0 and 1, and `torch.randn` to draw from a Gaussian with $\\mu = 0$ and $\\sigma = 1$. For this exercise, all matrix entries must be greater than 0, so draw random values from the appropriate distribution. "
   ]
  },
  {
   "cell_type": "markdown",
   "metadata": {},
   "source": [
    "a. Intialize a random 5 x 1 tensor called `T1` and print it. "
   ]
  },
  {
   "cell_type": "code",
   "execution_count": 8,
   "metadata": {},
   "outputs": [],
   "source": [
    "#### your code here ####"
   ]
  },
  {
   "cell_type": "markdown",
   "metadata": {},
   "source": [
    "b. Initialize a random 5 x 3 tensor called `T2`, and print it. "
   ]
  },
  {
   "cell_type": "code",
   "execution_count": 9,
   "metadata": {},
   "outputs": [],
   "source": [
    "#### your code here ####"
   ]
  },
  {
   "cell_type": "markdown",
   "metadata": {},
   "source": [
    "c. Initialize a random 5 x 3 x 2 tensor called `T3`, and print it. "
   ]
  },
  {
   "cell_type": "code",
   "execution_count": 11,
   "metadata": {},
   "outputs": [],
   "source": [
    "#### your code here ####"
   ]
  },
  {
   "cell_type": "markdown",
   "metadata": {},
   "source": [
    "### 3.2 Tensor Operations\n",
    "Try some basic math operations (+, -, \\*, / ) on your three new tensors. "
   ]
  },
  {
   "cell_type": "code",
   "execution_count": 12,
   "metadata": {},
   "outputs": [],
   "source": [
    "#### your code here ####"
   ]
  },
  {
   "cell_type": "markdown",
   "metadata": {},
   "source": [
    "a. What is the difference between `T1 * T2`, `T1.t().mm(T2)`, and `T2.t().mm(T1)`?"
   ]
  },
  {
   "cell_type": "code",
   "execution_count": 13,
   "metadata": {},
   "outputs": [],
   "source": [
    "#### your code here ####"
   ]
  },
  {
   "cell_type": "markdown",
   "metadata": {},
   "source": [
    "b. Is there any way to do a matrix operation on `T2` and `T3`? Why or why not?"
   ]
  },
  {
   "cell_type": "markdown",
   "metadata": {},
   "source": [
    "c. The logit function maps numbers between 0 and 1 to $\\mathbb{R}$. It is defined $$ logit(x) = \\log \\left( \\frac{x}{1-x} \\right) $$\n",
    "Implement the logit function, and apply it to all values in `T2`"
   ]
  },
  {
   "cell_type": "code",
   "execution_count": 14,
   "metadata": {},
   "outputs": [],
   "source": [
    "#### your code here ####"
   ]
  },
  {
   "cell_type": "markdown",
   "metadata": {},
   "source": [
    "Now make an inverse logit function, and apply it to the result of the previous call to show that you have recovered `T2`"
   ]
  },
  {
   "cell_type": "code",
   "execution_count": 15,
   "metadata": {},
   "outputs": [],
   "source": [
    "#### your code here ####"
   ]
  },
  {
   "cell_type": "markdown",
   "metadata": {},
   "source": [
    "### 3.3 CUDA Tensors\n",
    "If you happen to be using a computer with a GPU, you can speed up learning by using CUDA. (As a demonstration. We won't take off points if you don't have a GPU...)"
   ]
  },
  {
   "cell_type": "code",
   "execution_count": null,
   "metadata": {},
   "outputs": [],
   "source": [
    "# let us run this cell only if CUDA is available\n",
    "# We will use ``torch.device`` objects to move tensors in and out of GPU\n",
    "if torch.cuda.is_available():\n",
    "    device = torch.device(\"cuda\")          # a CUDA device object\n",
    "    y = torch.ones_like(x, device=device)  # directly create a tensor on GPU\n",
    "    x = x.to(device)                       # or just use strings ``.to(\"cuda\")``\n",
    "    z = x + y\n",
    "    print(z)\n",
    "    print(z.to(\"cpu\", torch.double))       # ``.to`` can also change dtype together!"
   ]
  },
  {
   "cell_type": "markdown",
   "metadata": {},
   "source": [
    "## Part 4: Autodifferentiation \n",
    "Calculating the derivative of of a function is an essential step in training a neural network. In PyTorch, tensors can be set up to automatically track the derivative every time an operation is performed on them. This is convenient for many different applications in deep learning. Read a more detailed explanation of Autodiff [here](https://pytorch.org/tutorials/beginner/blitz/autograd_tutorial.html#sphx-glr-beginner-blitz-autograd-tutorial-py)\n",
    "\n",
    "Essentially, if you set the `.requires_grad` attribute when defining a tensor to `True`, all of the operations will be tracked automatically. For example:"
   ]
  },
  {
   "cell_type": "code",
   "execution_count": 205,
   "metadata": {},
   "outputs": [
    {
     "name": "stdout",
     "output_type": "stream",
     "text": [
      "tensor([[0.9485, 0.1009],\n",
      "        [0.1269, 0.3392]], requires_grad=True)\n"
     ]
    }
   ],
   "source": [
    "tracked_tensor = torch.rand(2,2, requires_grad = True)\n",
    "print(tracked_tensor)"
   ]
  },
  {
   "cell_type": "code",
   "execution_count": 206,
   "metadata": {},
   "outputs": [],
   "source": [
    "sin_tracked_tensor = torch.sin(tracked_tensor)"
   ]
  },
  {
   "cell_type": "code",
   "execution_count": 207,
   "metadata": {},
   "outputs": [
    {
     "name": "stdout",
     "output_type": "stream",
     "text": [
      "tensor([[0.8126, 0.1008],\n",
      "        [0.1266, 0.3327]], grad_fn=<SinBackward>)\n"
     ]
    }
   ],
   "source": [
    "print(sin_tracked_tensor)"
   ]
  },
  {
   "cell_type": "markdown",
   "metadata": {},
   "source": [
    "a. Make 1-D tensors $x$ and $y$, where $y = x^2$, on range of -3 to 3, with 61 points between. Make sure to set `requires_grad` to `True` when you define the `x` tensor!"
   ]
  },
  {
   "cell_type": "code",
   "execution_count": 16,
   "metadata": {},
   "outputs": [],
   "source": [
    "#### your code here ####"
   ]
  },
  {
   "cell_type": "markdown",
   "metadata": {},
   "source": [
    "Now print `x` and `y` as Numpy arrays. "
   ]
  },
  {
   "cell_type": "code",
   "execution_count": 17,
   "metadata": {},
   "outputs": [],
   "source": [
    "#### your code here ####"
   ]
  },
  {
   "cell_type": "markdown",
   "metadata": {},
   "source": [
    "b. Plot a graph of your function of $y = x^2$"
   ]
  },
  {
   "cell_type": "code",
   "execution_count": 18,
   "metadata": {},
   "outputs": [],
   "source": [
    "#### your code here ####"
   ]
  },
  {
   "cell_type": "markdown",
   "metadata": {},
   "source": [
    "c. Now, take the derviative of $y$ at $x = 1.5$ using PyTorch's autodifferentiation, and save it as `m`."
   ]
  },
  {
   "cell_type": "code",
   "execution_count": 19,
   "metadata": {},
   "outputs": [],
   "source": [
    "#### your code here ####"
   ]
  },
  {
   "cell_type": "markdown",
   "metadata": {},
   "source": [
    "d. Add the tangent line at $y'(1.5)$ to the original plot of $y = x^2$ (Hint: Remember you can solve $y = mx + b$ for $b$ to find the y-intercept)"
   ]
  },
  {
   "cell_type": "code",
   "execution_count": 20,
   "metadata": {},
   "outputs": [],
   "source": [
    "#### your code here ####"
   ]
  }
 ],
 "metadata": {
  "kernelspec": {
   "display_name": "Python (Computational Methods)",
   "language": "python",
   "name": "cm"
  },
  "language_info": {
   "codemirror_mode": {
    "name": "ipython",
    "version": 3
   },
   "file_extension": ".py",
   "mimetype": "text/x-python",
   "name": "python",
   "nbconvert_exporter": "python",
   "pygments_lexer": "ipython3",
   "version": "3.6.7"
  }
 },
 "nbformat": 4,
 "nbformat_minor": 2
}
