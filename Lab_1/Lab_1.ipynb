{
 "cells": [
  {
   "cell_type": "markdown",
   "metadata": {},
   "source": [
    "![Pyton_comic](https://biomedicalhub.github.io/python-data/images/python.png)"
   ]
  },
  {
   "cell_type": "markdown",
   "metadata": {},
   "source": [
    "# Lab 1: Python Refresher and Autodiff"
   ]
  },
  {
   "cell_type": "markdown",
   "metadata": {},
   "source": [
    "## Part 1: Manipulating data with Pandas\n",
    "Before you do any statistics, you need to get data into the python environment. In this part you will learn how to \n",
    " 1. Load data from CSV files\n",
    " 2. Subset data frames\n",
    " 3. Edit data to make it easier to manage\n",
    " 4. Merge multiple datasets\n",
    " \n",
    "Pandas is a python module used to handle tabular data, in a format similar to R's data.frame data structure. We will be using it extensively throuhgout the semester. If pandas is not installed already, use `conda` to install it into your `Computational_methods` environment. For a quick reference of pandas methods, check out the [Pandas cheat sheet](https://pandas.pydata.org/Pandas_Cheat_Sheet.pdf). Google is also your friend here 😁"
   ]
  },
  {
   "cell_type": "markdown",
   "metadata": {},
   "source": [
    "### 1.1 Load CSV File"
   ]
  },
  {
   "cell_type": "code",
   "execution_count": null,
   "metadata": {},
   "outputs": [],
   "source": [
    "import pandas as pd"
   ]
  },
  {
   "cell_type": "markdown",
   "metadata": {},
   "source": [
    "a. Use`pandas` to read `rhc.csv`. A description of this dataset is [here](http://biostat.mc.vanderbilt.edu/wiki/pub/Main/DataSets/rhc.html). "
   ]
  },
  {
   "cell_type": "code",
   "execution_count": null,
   "metadata": {},
   "outputs": [],
   "source": [
    "rhc = pd.read_csv(\"rhc.csv\")"
   ]
  },
  {
   "cell_type": "markdown",
   "metadata": {},
   "source": [
    "b. View your new data frame, and get all of the feature names. "
   ]
  },
  {
   "cell_type": "code",
   "execution_count": null,
   "metadata": {},
   "outputs": [],
   "source": [
    "rhc"
   ]
  },
  {
   "cell_type": "code",
   "execution_count": null,
   "metadata": {},
   "outputs": [],
   "source": [
    "print(rhc.columns.values)"
   ]
  },
  {
   "cell_type": "markdown",
   "metadata": {},
   "source": [
    "### 1.2 Structure\n",
    "a. What are the dimensions of the data frame, and the classes of each column? Can you get a summary of every feature in the data? (Try the `describe` method)"
   ]
  },
  {
   "cell_type": "code",
   "execution_count": null,
   "metadata": {},
   "outputs": [],
   "source": [
    "rhc.shape"
   ]
  },
  {
   "cell_type": "code",
   "execution_count": null,
   "metadata": {},
   "outputs": [],
   "source": [
    "rhc.dtypes[1:10,]"
   ]
  },
  {
   "cell_type": "code",
   "execution_count": null,
   "metadata": {},
   "outputs": [],
   "source": [
    "rhc.describe"
   ]
  },
  {
   "cell_type": "markdown",
   "metadata": {},
   "source": [
    "### 1.3 Subset\n",
    "a. Select the first 10 columns of the data frame. (! Remember that that the first element of any list or vector in Python is indexed as 0 !)"
   ]
  },
  {
   "cell_type": "code",
   "execution_count": null,
   "metadata": {},
   "outputs": [],
   "source": [
    "rhc.iloc[0:10,0:10]"
   ]
  },
  {
   "cell_type": "markdown",
   "metadata": {},
   "source": [
    "b. Select individuals between 10 and 25 years of age. How many such individuals are there?"
   ]
  },
  {
   "cell_type": "code",
   "execution_count": null,
   "metadata": {},
   "outputs": [],
   "source": [
    "rhc[(rhc['age'] > 10) & (rhc['age'] < 25)]"
   ]
  },
  {
   "cell_type": "markdown",
   "metadata": {},
   "source": [
    "c. Select rows that are not missing any missing data."
   ]
  },
  {
   "cell_type": "code",
   "execution_count": null,
   "metadata": {},
   "outputs": [],
   "source": [
    "rhc.dropna()"
   ]
  },
  {
   "cell_type": "code",
   "execution_count": null,
   "metadata": {},
   "outputs": [],
   "source": [
    "rhc.shape"
   ]
  },
  {
   "cell_type": "markdown",
   "metadata": {},
   "source": [
    "### 1.4 Editing\n",
    "\n",
    "a. Add a `lengthstay` column with the difference between the study admission date `sadmdte` and the discharge date `dschdte`. The date is in a censored format to protect the identify of the individuals in the dataset. "
   ]
  },
  {
   "cell_type": "code",
   "execution_count": null,
   "metadata": {},
   "outputs": [],
   "source": [
    "print(rhc['dschdte'][0:10])\n",
    "print(rhc['sadmdte'][0:10])"
   ]
  },
  {
   "cell_type": "code",
   "execution_count": null,
   "metadata": {},
   "outputs": [],
   "source": [
    "#'sadmdte' 'dschdte' \n",
    "rhc['lengthstay'] = rhc['dschdte'] - rhc['sadmdte']\n",
    "rhc.columns.values"
   ]
  },
  {
   "cell_type": "markdown",
   "metadata": {},
   "source": [
    "b. Normalize the values of a lab test of your choice. i.e. subtract the mean value and divide by the standard deviation. "
   ]
  },
  {
   "cell_type": "code",
   "execution_count": null,
   "metadata": {},
   "outputs": [],
   "source": []
  },
  {
   "cell_type": "markdown",
   "metadata": {},
   "source": [
    "### 1.4 Merging\n",
    "\n",
    "Load `rhc_1.csv` and `rhc_2.csv`. Select the first 10 columns of both tables, then combine them. Save the ouput as `rhc_new.csv`, and include this as part of your submission on Courseworks. "
   ]
  },
  {
   "cell_type": "code",
   "execution_count": null,
   "metadata": {},
   "outputs": [],
   "source": [
    "rhc_1 = pd.read_csv(\"rhc_1.csv\").iloc[:,0:10]\n",
    "rhc_2 = pd.read_csv(\"rhc_2.csv\").iloc[:,0:10]\n",
    "\n",
    "rhc_new = pd.concat([rhc_1, rhc_2], axis = 0)"
   ]
  },
  {
   "cell_type": "code",
   "execution_count": null,
   "metadata": {},
   "outputs": [],
   "source": [
    "print(rhc_1.shape)\n",
    "print(rhc_2.shape)"
   ]
  },
  {
   "cell_type": "code",
   "execution_count": null,
   "metadata": {},
   "outputs": [],
   "source": [
    "rhc_new.to_csv(\"rhc_new.csv\")"
   ]
  },
  {
   "cell_type": "markdown",
   "metadata": {},
   "source": [
    "# 2 Part 2: "
   ]
  }
 ],
 "metadata": {
  "kernelspec": {
   "display_name": "Python (Computational Methods)",
   "language": "python",
   "name": "cm"
  },
  "language_info": {
   "codemirror_mode": {
    "name": "ipython",
    "version": 3
   },
   "file_extension": ".py",
   "mimetype": "text/x-python",
   "name": "python",
   "nbconvert_exporter": "python",
   "pygments_lexer": "ipython3",
   "version": "3.6.7"
  }
 },
 "nbformat": 4,
 "nbformat_minor": 2
}
