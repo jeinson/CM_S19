{
 "cells": [
  {
   "cell_type": "code",
   "execution_count": 2,
   "metadata": {},
   "outputs": [],
   "source": [
    "from __future__ import unicode_literals, print_function, division\n",
    "from io import open\n",
    "import glob\n",
    "import os\n",
    "\n",
    "def findFiles(path): return glob.glob(path)"
   ]
  },
  {
   "cell_type": "code",
   "execution_count": 3,
   "metadata": {},
   "outputs": [
    {
     "name": "stdout",
     "output_type": "stream",
     "text": [
      "['data/names/Czech.txt', 'data/names/German.txt', 'data/names/Arabic.txt', 'data/names/Japanese.txt', 'data/names/Chinese.txt', 'data/names/Vietnamese.txt', 'data/names/Russian.txt', 'data/names/French.txt', 'data/names/Irish.txt', 'data/names/English.txt', 'data/names/Spanish.txt', 'data/names/Greek.txt', 'data/names/Italian.txt', 'data/names/Portuguese.txt', 'data/names/Scottish.txt', 'data/names/Dutch.txt', 'data/names/Korean.txt', 'data/names/Polish.txt']\n"
     ]
    }
   ],
   "source": [
    "print(findFiles('data/names/*.txt'))"
   ]
  },
  {
   "cell_type": "code",
   "execution_count": 4,
   "metadata": {},
   "outputs": [],
   "source": [
    "import unicodedata\n",
    "import string"
   ]
  },
  {
   "cell_type": "code",
   "execution_count": 5,
   "metadata": {},
   "outputs": [],
   "source": [
    "all_letters = string.ascii_letters + \" .,;'\"\n",
    "n_letters = len(all_letters)"
   ]
  },
  {
   "cell_type": "code",
   "execution_count": 9,
   "metadata": {},
   "outputs": [],
   "source": [
    "def unicodeToAscii(s):\n",
    "    return ''.join(\n",
    "        c for c in unicodedata.normalize('NFD',s)\n",
    "        if unicodedata.category(c) != 'Mn'\n",
    "        and c in all_letters\n",
    "    )"
   ]
  },
  {
   "cell_type": "code",
   "execution_count": 10,
   "metadata": {},
   "outputs": [
    {
     "name": "stdout",
     "output_type": "stream",
     "text": [
      "Slusarski\n"
     ]
    }
   ],
   "source": [
    "print(unicodeToAscii('Ślusàrski'))"
   ]
  },
  {
   "cell_type": "code",
   "execution_count": 18,
   "metadata": {},
   "outputs": [],
   "source": [
    "# Build the category_lines dictionary, a list of names per language\n",
    "category_lines = {}\n",
    "all_categories = []"
   ]
  },
  {
   "cell_type": "code",
   "execution_count": 19,
   "metadata": {},
   "outputs": [],
   "source": [
    "# Read a file and split it into lines\n",
    "def readLines(filename):\n",
    "    lines = open(filename, encoding='utf-8').read().strip().split('\\n')\n",
    "    return [unicodeToAscii(line) for line in lines]\n",
    "\n",
    "for filename in findFiles('data/names/*.txt'):\n",
    "    category = os.path.splitext(os.path.basename(filename))[0]\n",
    "    all_categories.append(category)\n",
    "    lines = readLines(filename)\n",
    "    category_lines[category] = lines\n",
    "\n",
    "n_categories = len(all_categories)"
   ]
  },
  {
   "cell_type": "code",
   "execution_count": 16,
   "metadata": {},
   "outputs": [
    {
     "data": {
      "text/plain": [
       "'Czech'"
      ]
     },
     "execution_count": 16,
     "metadata": {},
     "output_type": "execute_result"
    }
   ],
   "source": [
    "filename = findFiles('data/names/*.txt')[0]\n",
    "os.path.splitext(os.path.basename(filename))[0]"
   ]
  },
  {
   "cell_type": "code",
   "execution_count": 23,
   "metadata": {},
   "outputs": [
    {
     "data": {
      "text/plain": [
       "['Adamidis',\n",
       " 'Adamou',\n",
       " 'Agelakos',\n",
       " 'Akrivopoulos',\n",
       " 'Alexandropoulos',\n",
       " 'Anetakis',\n",
       " 'Angelopoulos',\n",
       " 'Antimisiaris',\n",
       " 'Antipas',\n",
       " 'Antonakos',\n",
       " 'Antoniadis',\n",
       " 'Antonopoulos',\n",
       " 'Antonopoulos',\n",
       " 'Antonopoulos',\n",
       " 'Arvanitoyannis',\n",
       " 'Avgerinos',\n",
       " 'Banos',\n",
       " 'Batsakis',\n",
       " 'Bekyros',\n",
       " 'Belesis',\n",
       " 'Bertsimas',\n",
       " 'Bilias',\n",
       " 'Blades',\n",
       " 'Bouloukos',\n",
       " 'Brisimitzakis',\n",
       " 'Bursinos',\n",
       " 'Calogerakis',\n",
       " 'Calpis',\n",
       " 'Chellos',\n",
       " 'Christakos',\n",
       " 'Christodoulou',\n",
       " 'Christou',\n",
       " 'Chrysanthopoulos',\n",
       " 'Chrysanthopoulos',\n",
       " 'Comino',\n",
       " 'Close',\n",
       " 'Close',\n",
       " 'Close',\n",
       " 'Close',\n",
       " 'Close',\n",
       " 'Close',\n",
       " 'Close',\n",
       " 'Close',\n",
       " 'Dalianis',\n",
       " 'Danas',\n",
       " 'Dasios',\n",
       " 'Demakis',\n",
       " 'Demarchis',\n",
       " 'Demas',\n",
       " 'Demetrious',\n",
       " 'Dertilis',\n",
       " 'Diakogeorgiou',\n",
       " 'Dioletis',\n",
       " 'Dounias',\n",
       " 'Dritsas',\n",
       " 'Drivakis',\n",
       " 'Eatros',\n",
       " 'Egonidis',\n",
       " 'Eliopoulos',\n",
       " 'Forakis',\n",
       " 'Fotopoulos',\n",
       " 'Fourakis',\n",
       " 'Frangopoulos',\n",
       " 'Galanopoulos',\n",
       " 'Garofalis',\n",
       " 'Gavril',\n",
       " 'Gavrilopoulos',\n",
       " 'Georgeakopoulos',\n",
       " 'Geracimos',\n",
       " 'Gianakopulos',\n",
       " 'Giannakopoulos',\n",
       " 'Giannakos',\n",
       " 'Glynatsis',\n",
       " 'Gomatos',\n",
       " 'Grammatakakis',\n",
       " 'Gravari',\n",
       " 'Hadjiyianakies',\n",
       " 'Hagias',\n",
       " 'Haritopoulos',\n",
       " 'Honjas',\n",
       " 'Horiatis',\n",
       " 'Houlis',\n",
       " 'Jamussa',\n",
       " 'Kaglantge',\n",
       " 'Kalakos',\n",
       " 'Kalogeria',\n",
       " 'Kaloxylos',\n",
       " 'Kanavos',\n",
       " 'Kapsimalles',\n",
       " 'Karahalios',\n",
       " 'Karameros',\n",
       " 'Karkampasis',\n",
       " 'Karnoupakis',\n",
       " 'Katsourinis',\n",
       " 'Kefalas',\n",
       " 'Kokkali',\n",
       " 'Kokoris',\n",
       " 'Kolovos',\n",
       " 'Konstantatos',\n",
       " 'Kosmas',\n",
       " 'Kotsilimbas',\n",
       " 'Kotsiopoulos',\n",
       " 'Kouches',\n",
       " 'Koulaxizis',\n",
       " 'Koumanidis',\n",
       " 'Kourempes',\n",
       " 'Kouretas',\n",
       " 'Kouropoulos',\n",
       " 'Kouros',\n",
       " 'Koustoubos',\n",
       " 'Koutsoubos',\n",
       " 'Kreskas',\n",
       " 'Kringos',\n",
       " 'Kyritsis',\n",
       " 'Laganas',\n",
       " 'Leontarakis',\n",
       " 'Letsos',\n",
       " 'Liatos',\n",
       " 'Lillis',\n",
       " 'Lolos',\n",
       " 'Louverdis',\n",
       " 'Makricosta',\n",
       " 'Malihoudis',\n",
       " 'Maneates',\n",
       " 'Manos',\n",
       " 'Manoukarakis',\n",
       " 'Matsoukis',\n",
       " 'Mentis',\n",
       " 'Mersinias',\n",
       " 'Metrofanis',\n",
       " 'Michalaras',\n",
       " 'Milionis',\n",
       " 'Missiakos',\n",
       " 'Moraitopoulos',\n",
       " 'Nikolaou',\n",
       " 'Nomikos',\n",
       " 'Paitakes',\n",
       " 'Paloumbas',\n",
       " 'Panayiotopoulos',\n",
       " 'Panoulias',\n",
       " 'Pantelakos',\n",
       " 'Pantelas',\n",
       " 'Papadelias',\n",
       " 'Papadopulos',\n",
       " 'Papageorge',\n",
       " 'Papoutsis',\n",
       " 'Pappayiorgas',\n",
       " 'Paraskevopoulos',\n",
       " 'Paraskos',\n",
       " 'Paschalis',\n",
       " 'Patrianakos',\n",
       " 'Patselas',\n",
       " 'Pefanis',\n",
       " 'Petimezas',\n",
       " 'Petrakis',\n",
       " 'Pezos',\n",
       " 'Phocas',\n",
       " 'Pispinis',\n",
       " 'Polites',\n",
       " 'Polymenakou',\n",
       " 'Poniros',\n",
       " 'Protopsaltis',\n",
       " 'Rallis',\n",
       " 'Rigatos',\n",
       " 'Rorris',\n",
       " 'Rousses',\n",
       " 'Ruvelas',\n",
       " 'Sakelaris',\n",
       " 'Sakellariou',\n",
       " 'Samios',\n",
       " 'Sardelis',\n",
       " 'Sfakianos',\n",
       " 'Sklavenitis',\n",
       " 'Sortras',\n",
       " 'Sotiris',\n",
       " 'Spyridis',\n",
       " 'Stamatas',\n",
       " 'Stamatelos',\n",
       " 'Stavropoulos',\n",
       " 'Strilakos',\n",
       " 'Stroggylis',\n",
       " 'Tableriou',\n",
       " 'Taflambas',\n",
       " 'Tassioglou',\n",
       " 'Telis',\n",
       " 'Tsoumada',\n",
       " 'Theofilopoulos',\n",
       " 'Theohari',\n",
       " 'Totolos',\n",
       " 'Tourna',\n",
       " 'Tsahalis',\n",
       " 'Tsangaris',\n",
       " 'Tselios',\n",
       " 'Tsogas',\n",
       " 'Vamvakidis',\n",
       " 'Varvitsiotes',\n",
       " 'Vassilikos',\n",
       " 'Vassilopulos',\n",
       " 'Vlahos',\n",
       " 'Vourlis',\n",
       " 'Xydis',\n",
       " 'Zaloumi',\n",
       " 'Zouvelekis']"
      ]
     },
     "execution_count": 23,
     "metadata": {},
     "output_type": "execute_result"
    }
   ],
   "source": [
    "category_lines['Greek']"
   ]
  },
  {
   "cell_type": "markdown",
   "metadata": {},
   "source": [
    "Making these letters \"one hot\""
   ]
  },
  {
   "cell_type": "code",
   "execution_count": 24,
   "metadata": {},
   "outputs": [],
   "source": [
    "import torch"
   ]
  },
  {
   "cell_type": "code",
   "execution_count": 46,
   "metadata": {},
   "outputs": [
    {
     "name": "stdout",
     "output_type": "stream",
     "text": [
      "torch.Size([5, 1, 57])\n"
     ]
    }
   ],
   "source": [
    "# Find letter index from all_letters, e.g. \"a\" = 0\n",
    "def letterToIndex(letter):\n",
    "    return all_letters.find(letter)\n",
    "\n",
    "# Just for demonstration, turn a letter into a <1 x n_letters> Tensor\n",
    "def letterToTensor(letter):\n",
    "    tensor = torch.zeros(1, n_letters)\n",
    "    tensor[0][letterToIndex(letter)] = 1\n",
    "    return tensor\n",
    "\n",
    "# Turn a line into a <line_length x 1 x 1_n_letters> tensor\n",
    "# or an array of one-hot letter vectors\n",
    "def lineToTensor(line):\n",
    "    tensor = torch.zeros(len(line), 1, n_letters)\n",
    "    for li, letter in enumerate(line):\n",
    "        tensor[li][0][letterToIndex(letter)] = 1\n",
    "    return tensor\n",
    "\n",
    "print(lineToTensor('Jones').size())"
   ]
  },
  {
   "cell_type": "code",
   "execution_count": 29,
   "metadata": {},
   "outputs": [
    {
     "data": {
      "text/plain": [
       "<enumerate at 0x1088d9e58>"
      ]
     },
     "execution_count": 29,
     "metadata": {},
     "output_type": "execute_result"
    }
   ],
   "source": [
    "enumerate('Jones')"
   ]
  },
  {
   "cell_type": "markdown",
   "metadata": {},
   "source": [
    "Define the model now!"
   ]
  },
  {
   "cell_type": "code",
   "execution_count": 68,
   "metadata": {},
   "outputs": [],
   "source": [
    "import torch.nn as nn\n",
    "\n",
    "class RNN(nn.Module):\n",
    "    def __init__(self, input_size, hidden_size, output_size):\n",
    "        super(RNN, self).__init__()\n",
    "        \n",
    "        self.hidden_size = hidden_size\n",
    "        \n",
    "        self.i2h = nn.Linear(input_size + hidden_size, hidden_size)\n",
    "        self.i2o = nn.Linear(input_size + hidden_size, output_size)\n",
    "        self.softmax = nn.LogSoftmax(dim=1)\n",
    "        \n",
    "    def forward(self, input, hidden):\n",
    "        combined = torch.cat((input, hidden), 1)\n",
    "        hidden = self.i2h(combined)\n",
    "        output = self.i2o(combined)\n",
    "        output = self.softmax(output)\n",
    "        return output, hidden\n",
    "        \n",
    "    def initHidden(self):\n",
    "        return torch.zeros(1, self.hidden_size)"
   ]
  },
  {
   "cell_type": "code",
   "execution_count": 69,
   "metadata": {},
   "outputs": [],
   "source": [
    "n_hidden = 128\n",
    "rnn = RNN(n_letters, n_hidden, n_categories)"
   ]
  },
  {
   "cell_type": "code",
   "execution_count": 76,
   "metadata": {},
   "outputs": [
    {
     "name": "stdout",
     "output_type": "stream",
     "text": [
      "tensor([[-2.9734, -2.8987, -2.8916, -2.8084, -2.8256, -2.8982, -2.9237, -2.8870,\n",
      "         -2.9557, -2.8994, -2.8292, -2.9081, -2.9521, -2.9233, -2.8917, -2.8412,\n",
      "         -2.8692, -2.8678]], grad_fn=<LogSoftmaxBackward>)\n"
     ]
    }
   ],
   "source": [
    "input = lineToTensor('asdfjkl')\n",
    "hidden = torch.zeros(1, n_hidden)\n",
    "output, next_hidden = rnn(input[0], hidden)\n",
    "print(output)"
   ]
  },
  {
   "cell_type": "markdown",
   "metadata": {},
   "source": [
    "Make functions that help with the training process"
   ]
  },
  {
   "cell_type": "code",
   "execution_count": 77,
   "metadata": {},
   "outputs": [
    {
     "name": "stdout",
     "output_type": "stream",
     "text": [
      "('Japanese', 3)\n"
     ]
    }
   ],
   "source": [
    "def categoryFromOutput(output):\n",
    "    top_n, top_i = output.topk(1)\n",
    "    category_i = top_i[0].item()\n",
    "    return all_categories[category_i], category_i\n",
    "\n",
    "print(categoryFromOutput(output))"
   ]
  },
  {
   "cell_type": "code",
   "execution_count": 96,
   "metadata": {},
   "outputs": [
    {
     "name": "stdout",
     "output_type": "stream",
     "text": [
      "category = Korean / line = Ryu\n",
      "category = Italian / line = Marmo\n",
      "category = German / line = Maas\n",
      "category = Russian / line = Billevich\n",
      "category = Greek / line = Missiakos\n",
      "category = Irish / line = Muirchertach\n",
      "category = Italian / line = Bellandini\n",
      "category = Polish / line = Skala\n",
      "category = Dutch / line = Kappel\n",
      "category = Korean / line = Choe\n"
     ]
    }
   ],
   "source": [
    "import random\n",
    "\n",
    "def randomChoice(l):\n",
    "    return l[random.randint(0, len(l) - 1)]\n",
    "\n",
    "def randomTrainingExample():\n",
    "    category = randomChoice(all_categories)\n",
    "    line = randomChoice(category_lines[category])\n",
    "    category_tensor = torch.tensor([all_categories.index(category)], dtype = torch.long)\n",
    "    line_tensor = lineToTensor(line)\n",
    "    return category, line, category_tensor, line_tensor\n",
    "\n",
    "for i in range(10):\n",
    "    category, line, category_tensor, line_tensor = randomTrainingExample()\n",
    "    print('category =', category, '/ line =', line)"
   ]
  },
  {
   "cell_type": "markdown",
   "metadata": {},
   "source": [
    "Actually do the training!"
   ]
  },
  {
   "cell_type": "code",
   "execution_count": 205,
   "metadata": {},
   "outputs": [],
   "source": [
    "criterion = nn.NLLLoss()"
   ]
  },
  {
   "cell_type": "code",
   "execution_count": 206,
   "metadata": {},
   "outputs": [],
   "source": [
    "learning_rate = 0.005\n",
    "\n",
    "def train(category_tensor, line_tensor):\n",
    "    hidden = rnn.initHidden()\n",
    "    \n",
    "    rnn.zero_grad()\n",
    "    \n",
    "    for i in range(line_tensor.size()[0]):\n",
    "        output, hidden = rnn(line_tensor[i], hidden)\n",
    "    \n",
    "    loss = criterion(output, category_tensor)\n",
    "    loss.backward()\n",
    "    \n",
    "    # Add parameters' gradients o their values, multiplied by learning rate\n",
    "    for p in rnn.parameters():\n",
    "        p.data.add_(-learning_rate, p.grad.data)\n",
    "    \n",
    "    return output, loss.item()"
   ]
  },
  {
   "cell_type": "code",
   "execution_count": 209,
   "metadata": {},
   "outputs": [],
   "source": [
    "import time\n",
    "import math\n",
    "\n",
    "n_iters = 100000\n",
    "print_every = 5000\n",
    "plot_every = 1000\n",
    "\n",
    "# Keep track of losses for plotting\n",
    "current_loss = 0\n",
    "all_losses = []\n",
    "\n",
    "def timeSince(since):\n",
    "    now = time.time()\n",
    "    s = now - since\n",
    "    m = math.floor(s / 60)\n",
    "    s -= m * 60\n",
    "    return '%dm %ds' % (m, s)\n",
    "\n",
    "start = time.time()"
   ]
  },
  {
   "cell_type": "code",
   "execution_count": null,
   "metadata": {},
   "outputs": [],
   "source": []
  },
  {
   "cell_type": "code",
   "execution_count": 210,
   "metadata": {},
   "outputs": [
    {
     "name": "stdout",
     "output_type": "stream",
     "text": [
      "5000 5% (0m 12s) 2.0010 Ansaldi / Italian ✓\n",
      "10000 10% (0m 23s) 3.5328 Bugg / Chinese ✗ (English)\n",
      "15000 15% (0m 34s) 1.5817 Kattan / Arabic ✓\n",
      "20000 20% (0m 45s) 2.9153 Szewc / English ✗ (Polish)\n",
      "25000 25% (0m 57s) 0.9708 Courtemanche / French ✓\n",
      "30000 30% (1m 8s) 5.1989 Boulos / Greek ✗ (Arabic)\n",
      "35000 35% (1m 20s) 1.9804 Proulx / Spanish ✗ (French)\n",
      "40000 40% (1m 34s) 0.8112 Paterson / Scottish ✓\n",
      "45000 45% (1m 46s) 2.8270 Koning / Chinese ✗ (Dutch)\n",
      "50000 50% (1m 57s) 0.1630 O'Grady / Irish ✓\n",
      "55000 55% (2m 9s) 0.8956 Touma / Arabic ✓\n",
      "60000 60% (2m 20s) 3.1551 Whalen / German ✗ (Irish)\n",
      "65000 65% (2m 31s) 1.5633 Pinho / Portuguese ✓\n",
      "70000 70% (2m 43s) 1.7669 Tsen / Dutch ✗ (Chinese)\n",
      "75000 75% (2m 54s) 2.3344 Mcnab / Scottish ✗ (Irish)\n",
      "80000 80% (3m 6s) 2.5090 Santos / Arabic ✗ (Spanish)\n",
      "85000 85% (3m 17s) 0.4414 Castro / Portuguese ✓\n",
      "90000 90% (3m 29s) 0.6736 Kouches / Greek ✓\n",
      "95000 95% (3m 40s) 0.4477 Naoimhin / Irish ✓\n",
      "100000 100% (3m 52s) 1.1087 Meeuwsen / Dutch ✓\n"
     ]
    }
   ],
   "source": [
    "for iter in range(1, n_iters + 1):\n",
    "    category, line, category_tensor, line_tensor = randomTrainingExample()\n",
    "    output, loss = train(category_tensor, line_tensor)\n",
    "    current_loss += loss\n",
    "    \n",
    "    # Print iter number, loss, name and guess\n",
    "    if iter % print_every == 0:\n",
    "        guess, guess_i = categoryFromOutput(output)\n",
    "        correct = '✓' if guess == category else '✗ (%s)' % category\n",
    "        print('%d %d%% (%s) %.4f %s / %s %s' % (iter, iter / n_iters * 100, timeSince(start), loss, line, guess, correct))\n",
    "    \n",
    "    # Add current loss avt to list of losses\n",
    "    if iter % plot_every == 0:\n",
    "        all_losses.append(current_loss / plot_every)\n",
    "        current_loss = 0"
   ]
  },
  {
   "cell_type": "code",
   "execution_count": null,
   "metadata": {},
   "outputs": [],
   "source": []
  }
 ],
 "metadata": {
  "kernelspec": {
   "display_name": "Python (Computational Methods)",
   "language": "python",
   "name": "cm"
  },
  "language_info": {
   "codemirror_mode": {
    "name": "ipython",
    "version": 3
   },
   "file_extension": ".py",
   "mimetype": "text/x-python",
   "name": "python",
   "nbconvert_exporter": "python",
   "pygments_lexer": "ipython3",
   "version": "3.6.8"
  }
 },
 "nbformat": 4,
 "nbformat_minor": 2
}
