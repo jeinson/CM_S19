{
 "cells": [
  {
   "cell_type": "markdown",
   "metadata": {},
   "source": [
    "![dory_meme](dory-meme.png)"
   ]
  },
  {
   "cell_type": "markdown",
   "metadata": {},
   "source": [
    "# Lab 9: RNNs and LSTMs\n",
    "\n",
    "Proteins are biological molecules made of chains of amino acids. They do pretty much everying in the body. Different amino acids have different physical characteristics, so their combinations can be viewed as combinations of words in a sentence, depending on their function. In bioinformatics, we represent proteins as strings of characters. With the mighthy power of recurrent neural networks, we can desipher the protein code!\n",
    "\n",
    "The goal of this lab is to differentiate between trans-membrane proteins and proteins in non-membrane bound organelled (These are both GO identifiers)\n",
    "\n",
    "![membrane_protein](https://upload.wikimedia.org/wikipedia/commons/d/db/Polytopic_membrane_protein.png)"
   ]
  },
  {
   "cell_type": "code",
   "execution_count": 1,
   "metadata": {},
   "outputs": [],
   "source": [
    "from Bio import SeqIO\n",
    "from Bio import Alphabet\n",
    "import numpy as np\n",
    "import torch"
   ]
  },
  {
   "cell_type": "markdown",
   "metadata": {},
   "source": [
    "In general, RNN's for text processing follow the following workflow: \n",
    "1. Load in and visualize data\n",
    "2. Process data - create vocab, encode the words, and encode the labels. Remove outliers and weird looking text pieces\n",
    "3. Split data into training, testing, and validation sets\n",
    "4. Define a data loader to feed data into the network. \n",
    "5. Define the LSTM architecture and modelclas\n",
    "6. Train the network, and test on user-generated data\n",
    "\n",
    "Protein data is simpler than free text, so we can encode using one-hot encoding, where each amino acid is represented as a 20 dimensional vector of zeros, with a one in the position represnting the particular type of amino acid. "
   ]
  },
  {
   "cell_type": "markdown",
   "metadata": {},
   "source": [
    "First things first, we're gonna have to load the protein sequence data and process it in a way the network can understand. We'll do this through one-hot encoding. "
   ]
  },
  {
   "cell_type": "code",
   "execution_count": 2,
   "metadata": {},
   "outputs": [],
   "source": [
    "nmb_sequences = [x.seq for x in SeqIO.parse(\"protein_data/nmb_organelles_filter.fasta\", \"fasta\")]\n",
    "membrane_sequences = [x.seq for x in SeqIO.parse(\"protein_data/transmembrane.filter.fasta\", \"fasta\")]"
   ]
  },
  {
   "cell_type": "code",
   "execution_count": 3,
   "metadata": {},
   "outputs": [],
   "source": [
    "import matplotlib.pyplot as plt"
   ]
  },
  {
   "cell_type": "code",
   "execution_count": 4,
   "metadata": {},
   "outputs": [
    {
     "data": {
      "text/plain": [
       "(array([2.731e+03, 1.480e+02, 4.800e+01, 3.000e+00, 1.000e+00, 0.000e+00,\n",
       "        0.000e+00, 0.000e+00, 0.000e+00, 3.000e+00]),\n",
       " array([   8. ,  514.2, 1020.4, 1526.6, 2032.8, 2539. , 3045.2, 3551.4,\n",
       "        4057.6, 4563.8, 5070. ]),\n",
       " <a list of 10 Patch objects>)"
      ]
     },
     "execution_count": 4,
     "metadata": {},
     "output_type": "execute_result"
    },
    {
     "data": {
      "image/png": "[encoded data removed]",
      "text/plain": [
       "<Figure size 432x288 with 1 Axes>"
      ]
     },
     "metadata": {
      "needs_background": "light"
     },
     "output_type": "display_data"
    }
   ],
   "source": [
    "plt.hist([len(x) for x in nmb_sequences])"
   ]
  },
  {
   "cell_type": "code",
   "execution_count": 5,
   "metadata": {},
   "outputs": [
    {
     "data": {
      "text/plain": [
       "(array([1995.,  647.,  146.,   12.,    6.,    5.,    0.,    0.,    0.,\n",
       "           4.]),\n",
       " array([4.0000e+00, 5.0730e+02, 1.0106e+03, 1.5139e+03, 2.0172e+03,\n",
       "        2.5205e+03, 3.0238e+03, 3.5271e+03, 4.0304e+03, 4.5337e+03,\n",
       "        5.0370e+03]),\n",
       " <a list of 10 Patch objects>)"
      ]
     },
     "execution_count": 5,
     "metadata": {},
     "output_type": "execute_result"
    },
    {
     "data": {
      "image/png": "[encoded data removed]",
      "text/plain": [
       "<Figure size 432x288 with 1 Axes>"
      ]
     },
     "metadata": {
      "needs_background": "light"
     },
     "output_type": "display_data"
    }
   ],
   "source": [
    "plt.hist([len(x) for x in membrane_sequences])"
   ]
  },
  {
   "cell_type": "markdown",
   "metadata": {},
   "source": [
    "Let's filter out some of the sequences that are really long, since that will make our lives easier down that road. The maximum length chosen for the sequence will also be the number of time steps needed when defining your LSTM, so choose carefully :-)"
   ]
  },
  {
   "cell_type": "code",
   "execution_count": 18,
   "metadata": {},
   "outputs": [],
   "source": [
    "time_steps = 2000"
   ]
  },
  {
   "cell_type": "code",
   "execution_count": 19,
   "metadata": {},
   "outputs": [],
   "source": [
    "nmb_sequences = [seq for seq in nmb_sequences if len(seq) < time_steps]\n",
    "membrane_sequences = [seq for seq in membrane_sequences if len(seq) < time_steps]"
   ]
  },
  {
   "cell_type": "code",
   "execution_count": 20,
   "metadata": {},
   "outputs": [],
   "source": [
    "labels = [\"organelle\" for _ in range(len(nmb_sequences))] +\\\n",
    "[\"membrane\"  for _ in range(len(membrane_sequences))]"
   ]
  },
  {
   "cell_type": "code",
   "execution_count": 10,
   "metadata": {},
   "outputs": [],
   "source": [
    "sequences = nmb_sequences + membrane_sequences"
   ]
  },
  {
   "cell_type": "markdown",
   "metadata": {},
   "source": [
    "In NLP, the next task is typically to create a vocabulary of all words used in the training data. For classifying proteins, this process is easy. (Hint, the vocabulary is defined in the next cell)"
   ]
  },
  {
   "cell_type": "code",
   "execution_count": 11,
   "metadata": {
    "scrolled": true
   },
   "outputs": [
    {
     "name": "stdout",
     "output_type": "stream",
     "text": [
      "ACDEFGHIKLMNPQRSTVWY 20\n"
     ]
    }
   ],
   "source": [
    "protein_alphabet = Alphabet.IUPAC.IUPACProtein.letters\n",
    "n_aas = len(protein_alphabet)\n",
    "print(protein_alphabet, n_aas)"
   ]
  },
  {
   "cell_type": "markdown",
   "metadata": {},
   "source": [
    "The next step is to encode the words. In our simple one hot encoding method, we need a way to map amino acids to an index, and then map a string of amino acids to a one-hot encoded tensor. "
   ]
  },
  {
   "cell_type": "code",
   "execution_count": 12,
   "metadata": {},
   "outputs": [],
   "source": [
    "def aaToIndex(aa):\n",
    "    return protein_alphabet.find(aa)\n",
    "\n",
    "# To feed a one hot encoded data into an RNN or LSTM, \n",
    "# every data point has to be the same dimension\n",
    "def proteinToTensor(protein, train_length = 400):\n",
    "    tensor = torch.zeros(train_length, 1, n_aas)\n",
    "    for aa_i, aa in enumerate(protein):\n",
    "        if aa_i < train_length:\n",
    "            tensor[aa_i][0][aaToIndex(aa)] == 1\n",
    "    return tensor"
   ]
  },
  {
   "cell_type": "code",
   "execution_count": 13,
   "metadata": {},
   "outputs": [],
   "source": [
    "protein_int = []\n",
    "for protein in sequences:\n",
    "    p = [aaToIndex(aa) for i, aa in enumerate(protein)]\n",
    "    protein_int.append(p)"
   ]
  },
  {
   "cell_type": "markdown",
   "metadata": {},
   "source": [
    "Encode the labels. This can simply be a 0 or 1 for `membrane` and `organelle`. "
   ]
  },
  {
   "cell_type": "code",
   "execution_count": 14,
   "metadata": {},
   "outputs": [],
   "source": [
    "encoded_labels = [0 if label == 'organelle' else 1 for label in labels]"
   ]
  },
  {
   "cell_type": "markdown",
   "metadata": {},
   "source": [
    "Shuffle the data. At this point, we can mix the data up so the labels aren't all zeros followed by all ones. Just make sure the apply the same ordering to the list of data as the list of labels!"
   ]
  },
  {
   "cell_type": "code",
   "execution_count": 15,
   "metadata": {},
   "outputs": [
    {
     "data": {
      "text/plain": [
       "5730"
      ]
     },
     "execution_count": 15,
     "metadata": {},
     "output_type": "execute_result"
    }
   ],
   "source": [
    "len(encoded_labels)"
   ]
  },
  {
   "cell_type": "code",
   "execution_count": 16,
   "metadata": {},
   "outputs": [],
   "source": [
    "import random\n",
    "shuffle_order = random.sample(range(len(encoded_labels)), len(encoded_labels))\n",
    "\n",
    "protein_int = [protein_int[i] for i in shuffle_order]\n",
    "encoded_labels = [encoded_labels[i] for i in shuffle_order]\n"
   ]
  },
  {
   "cell_type": "markdown",
   "metadata": {},
   "source": [
    "### Pad the data\n",
    "For all the sequences that didn't that aren't as long as the cutoff, add 0 to each element of the `protein_int` to get them up to the maximum length. "
   ]
  },
  {
   "cell_type": "code",
   "execution_count": 21,
   "metadata": {},
   "outputs": [],
   "source": [
    "protein_features = torch.zeros(len(protein_int), time_steps)\n",
    "for i, seq in enumerate(protein_int):    \n",
    "    seq_len = len(seq)\n",
    "    zeros = list(torch.zeros(time_steps - seq_len))\n",
    "    new = seq + zeros\n",
    "    protein_features[i,:] = torch.tensor(new)\n",
    "    "
   ]
  },
  {
   "cell_type": "code",
   "execution_count": 23,
   "metadata": {},
   "outputs": [
    {
     "data": {
      "text/plain": [
       "tensor([[13.,  2., 11.,  ...,  0.,  0.,  0.],\n",
       "        [10.,  2.,  2.,  ...,  0.,  0.,  0.],\n",
       "        [17.,  9., 15.,  ...,  0.,  0.,  0.],\n",
       "        ...,\n",
       "        [ 2., 12.,  8.,  ...,  0.,  0.,  0.],\n",
       "        [ 5., 15.,  0.,  ...,  0.,  0.,  0.],\n",
       "        [10.,  3., 17.,  ...,  0.,  0.,  0.]])"
      ]
     },
     "execution_count": 23,
     "metadata": {},
     "output_type": "execute_result"
    }
   ],
   "source": [
    "protein_features[0:10,:]"
   ]
  },
  {
   "cell_type": "markdown",
   "metadata": {},
   "source": [
    "### Split the data into training and testing\n",
    "Split the data and labels into 80% for training, 10% for validation, and 10% for testing"
   ]
  },
  {
   "cell_type": "code",
   "execution_count": 43,
   "metadata": {},
   "outputs": [],
   "source": [
    "split_frac = 0.8\n",
    "train_x = protein_features[0:int(split_frac*len(protein_int))]\n",
    "train_y = encoded_labels[0:int(split_frac*len(protein_int))]\n",
    "\n",
    "remaining_x = protein_features[int(split_frac*len(protein_int)):]\n",
    "remaining_y = encoded_labels[int(split_frac*len(protein_int)):]\n",
    "\n",
    "valid_x = remaining_x[0:int(len(remaining_x)*0.5)]\n",
    "valid_y = encoded_labels[0:int(len(remaining_y)*0.5)]\n",
    "\n",
    "test_x = remaining_x[int(len(remaining_x)*0.5):]\n",
    "test_y = remaining_y[int(len(remaining_x)*0.5):]"
   ]
  },
  {
   "cell_type": "markdown",
   "metadata": {},
   "source": [
    "### Define data loaders\n",
    "Again, these make loading data into your model a lot easier during training. "
   ]
  },
  {
   "cell_type": "code",
   "execution_count": 45,
   "metadata": {},
   "outputs": [],
   "source": [
    "from torch.utils.data import DataLoader, TensorDataset\n",
    "\n",
    "# create \n",
    "train_data = TensorDataset(train_x, torch.IntTensor(train_y))\n",
    "valid_data = TensorDataset(valid_x, torch.IntTensor(valid_y))\n",
    "test_data = TensorDataset(test_x, torch.IntTensor(test_y))\n",
    "\n",
    "# dataloaders \n",
    "batch_size = 50\n",
    "\n",
    "# make sure to SHUFFLE your data\n",
    "train_loader = DataLoader(train_data, shuffle=True, batch_size=batch_size)\n",
    "valid_loader = DataLoader(train_data, shuffle=True, batch_size=batch_size)\n",
    "test_loader = DataLoader(test_data, shuffle=True, batch_size=batch_size)"
   ]
  },
  {
   "cell_type": "markdown",
   "metadata": {},
   "source": [
    "### Define the model!!\n",
    "Our \"unrolled\" model will look like this, as we slide along the protein sequence:\n",
    "![LSTM_model](https://github.com/jeinson/jeinson.github.io/blob/master/images/LSTM%20Diagram.png?raw=true)\n",
    "\n",
    "It wil take in the integer coded protein sequence, convert it to a one-hot encoded vector, and apply the LSTM transformation. "
   ]
  },
  {
   "cell_type": "code",
   "execution_count": 56,
   "metadata": {},
   "outputs": [
    {
     "data": {
      "text/plain": [
       "12"
      ]
     },
     "execution_count": 56,
     "metadata": {},
     "output_type": "execute_result"
    }
   ],
   "source": [
    "aaToIndex('P')"
   ]
  }
 ],
 "metadata": {
  "kernelspec": {
   "display_name": "Python (Computational Methods)",
   "language": "python",
   "name": "cm"
  },
  "language_info": {
   "codemirror_mode": {
    "name": "ipython",
    "version": 3
   },
   "file_extension": ".py",
   "mimetype": "text/x-python",
   "name": "python",
   "nbconvert_exporter": "python",
   "pygments_lexer": "ipython3",
   "version": "3.6.8"
  }
 },
 "nbformat": 4,
 "nbformat_minor": 2
}
