{
 "cells": [
  {
   "cell_type": "markdown",
   "metadata": {
    "collapsed": true
   },
   "source": [
    "# Lab 10: Word Embeddings\n",
    "\n",
    "## Introduction\n",
    "In this lab you'll learn how [Skip-Gram](https://papers.nips.cc/paper/5021-distributed-representations-of-words-and-phrases-and-their-compositionality.pdf) is implemented. The skip-gram model works by training a single layer neural network to predict the surrounding words given a center word. The goal is to have a network that learns which words are more likely to appear in the context of a given word. The model is trained using word pairs given a center word, and the context words that appear within a fixed window around the word. The example below shows the word pairs created using different center words and a window size of 2\n",
    "\n",
    "![trainingWordPairs](http://mccormickml.com/assets/word2vec/training_data.png)\n",
    "\n",
    "\n",
    "[Cool](https://www.youtube.com/watch?v=A8q8PXoJwVk). So how does this model actually work? The model has two main moving parts, a set of weights representing the center word and context word embeddings or $V$ and $V^{\\prime}$. Each matrix has separate weights and $\\in R^{v, e}$ where v is the size of the vocabulary and e is the embedding dimension (a hyperparameter you choose).\n",
    "\n",
    "The model learns to minimize the following function.\n",
    "\n",
    "$$L = log(\\sigma(v^{\\prime}_{c_o}v_{c_e}^{T})) + \\sum_{c_o,c_e \\in \\bar{D}} log(\\sigma(-v^{\\prime}_{c_o}v_{c_e}^{T}))$$\n",
    "\n",
    "Where $c_o$ and $c_e$ are the context and center words respectively, $v$ and $v^{\\prime}$ represent the center and context embeddings respectively and $\\bar{D}$ is the set of word pairs where $c_o$ are the negatively sampled context embeddings.\n",
    "\n",
    "## Negative Sampling\n",
    "Please refer to [this](http://mccormickml.com/2017/01/11/word2vec-tutorial-part-2-negative-sampling/) tutorial to understand more about negative sampling. You don't have to build the unigram table but you'll need to know how it's used.\n",
    "\n",
    "## Data\n",
    "There are two datasets extracted for you. One is from the ap news data, and the other is a pull from pubmed. We'll train two sets of word embeddings and compare them at the end. There is also a test corpus which you can use for debugging and getting the model to run. Extra points ($\\leq 0$) if you can [guess](www.google.com) where the corpus comes from.\n",
    "\n",
    "## Installs\n",
    "tqdm is a nice wrapper for loops to check your progress as you go\n",
    "\n",
    "conda install -c conda-forge tqdm\n",
    "\n",
    "ipywidgets makes tqdm look pretty\n",
    "\n",
    "conda install -c conda-forge ipywidgets\n",
    "\n",
    "Tokenization and NLP toolkit\n",
    "\n",
    "conda install -c anaconda nltk \n"
   ]
  },
  {
   "cell_type": "markdown",
   "metadata": {},
   "source": [
    "## Janitorial Work\n",
    "All of the data cleaning is handled for you. But please familiarize yourself with the objects created by extractVocabMappers as you'll be using these in the code."
   ]
  },
  {
   "cell_type": "code",
   "execution_count": 47,
   "metadata": {},
   "outputs": [],
   "source": [
    "testCorpus = [\"First of all, quit grinnin’ like an idiot. Indians ain’t supposed to smile like that. Get stoic.\",\n",
    "             \"No. Like this. You gotta look mean, or people won’t respect you.\",\n",
    "              \" people will run all over you if you don’t look mean.\",\n",
    "              \"You gotta look like a warrior. You gotta look like you just came back from killing a buffalo.\",\n",
    "             \"But our tribe never hunted buffalo. We were fishermen.\"\n",
    "             \"What? You wanna look like you just came back from catching a fish?\",\n",
    "             \"This ain’t dances with salmon, you know. Thomas, you gotta look like a warrior.\"]\n",
    "\n",
    "# NOTE: reduce this number if you can't get things to run quickly.\n",
    "maxDocs = 2000"
   ]
  },
  {
   "cell_type": "code",
   "execution_count": 48,
   "metadata": {},
   "outputs": [
    {
     "name": "stderr",
     "output_type": "stream",
     "text": [
      "[nltk_data] Downloading package stopwords to /home/ob2285/nltk_data...\n",
      "[nltk_data]   Package stopwords is already up-to-date!\n"
     ]
    },
    {
     "data": {
      "text/plain": [
       "True"
      ]
     },
     "execution_count": 48,
     "metadata": {},
     "output_type": "execute_result"
    }
   ],
   "source": [
    "import nltk\n",
    "from nltk.corpus import stopwords\n",
    "nltk.download('stopwords')"
   ]
  },
  {
   "cell_type": "code",
   "execution_count": 49,
   "metadata": {},
   "outputs": [
    {
     "name": "stdout",
     "output_type": "stream",
     "text": [
      "1767 pub med abstracts\n"
     ]
    }
   ],
   "source": [
    "# Read in pubmed corpus into a text file\n",
    "\n",
    "import glob\n",
    "pubMedDataFolderPath = \"data/pubMed_corpus/\"\n",
    "pubMedDataFiles = glob.glob(pubMedDataFolderPath + \"*.txt\")\n",
    "pubMedCorpus = [\"\"]*len(pubMedDataFiles)\n",
    "for idx, pubMedDataPath in enumerate(pubMedDataFiles):\n",
    "    with open(pubMedDataPath, \"r\") as pubMedFile:\n",
    "        text = pubMedFile.read().strip()\n",
    "        pubMedCorpus[idx] = text\n",
    "pubMedCorpus = pubMedCorpus[0:maxDocs]\n",
    "print(\"{} pub med abstracts\".format(len(pubMedCorpus)))"
   ]
  },
  {
   "cell_type": "code",
   "execution_count": 50,
   "metadata": {},
   "outputs": [
    {
     "name": "stdout",
     "output_type": "stream",
     "text": [
      "2000 ap articles\n"
     ]
    }
   ],
   "source": [
    "# Read in the ap corpus\n",
    "apTextFile = \"data/ap.txt\"\n",
    "apCorpus = []\n",
    "readText = False\n",
    "with open(apTextFile) as apDataFile:\n",
    "    for line in apDataFile:\n",
    "        if readText:\n",
    "            apCorpus.append(line.strip())\n",
    "            readText = False\n",
    "        if line == \"<TEXT>\\n\":\n",
    "            readText = True\n",
    "apCorpus = apCorpus[0:maxDocs]\n",
    "print(\"{} ap articles\".format(len(apCorpus)))"
   ]
  },
  {
   "cell_type": "code",
   "execution_count": 79,
   "metadata": {},
   "outputs": [
    {
     "name": "stderr",
     "output_type": "stream",
     "text": [
      "[nltk_data] Downloading package stopwords to /home/ob2285/nltk_data...\n",
      "[nltk_data]   Package stopwords is already up-to-date!\n",
      "[nltk_data] Downloading package punkt to /home/ob2285/nltk_data...\n",
      "[nltk_data]   Package punkt is already up-to-date!\n"
     ]
    }
   ],
   "source": [
    "import string\n",
    "import nltk\n",
    "from nltk.tokenize import word_tokenize \n",
    "nltk.download('stopwords')\n",
    "nltk.download('punkt')\n",
    "from nltk.corpus import stopwords\n",
    "import re\n",
    "def removePunctuation(myStr):\n",
    "    excludedCharacters = string.punctuation + \"’\" + \"\\%\"\n",
    "    newStr = \"\".join(char for char in myStr if char not in excludedCharacters)\n",
    "    return(newStr)\n",
    "def removeStopWords(tokenList):\n",
    "    newTokenList = [tok for tok in tokenList if tok not in stopwords.words('english')]\n",
    "    return(newTokenList)\n",
    "def cleanDocStr(docStr):\n",
    "    docStr = docStr.lower()\n",
    "    docStr = removePunctuation(docStr)\n",
    "    docStr = re.sub('\\d', '%d%', docStr)\n",
    "    docStrTokenized = nltk.tokenize.word_tokenize(docStr)\n",
    "    myStopWords = set(stopwords.words('english'))\n",
    "    docStrTokenized = [tok for tok in docStrTokenized if tok not in myStopWords]\n",
    "    return(docStrTokenized)\n",
    "def tokenize_corpus(corpus):\n",
    "    tokens = [cleanDocStr(x) for x in corpus]\n",
    "    return tokens\n",
    "\n",
    "apCorpusTokenized = tokenize_corpus(apCorpus)\n",
    "pubMedCorpusTokenized = tokenize_corpus(pubMedCorpus)\n",
    "testCorpusTokenized = tokenize_corpus(testCorpus)"
   ]
  },
  {
   "cell_type": "code",
   "execution_count": 80,
   "metadata": {},
   "outputs": [
    {
     "name": "stdout",
     "output_type": "stream",
     "text": [
      "Building ap corpus vocabulary\n",
      "Vocab size: 9932\n",
      "ap data tokenized in 0.23006987571716309 seconds\n",
      "\n",
      "Building pubMed corpus vocabulary\n",
      "Vocab size: 4993\n",
      "pubmed data tokenized in 0.1014561653137207 seconds\n",
      "\n",
      "Building test corpus vocabulary\n",
      "Vocab size: 37\n",
      "test data tokenized in 0.00024819374084472656 seconds\n"
     ]
    }
   ],
   "source": [
    "import time\n",
    "from tqdm import tqdm, tqdm_notebook\n",
    "from collections import Counter\n",
    "\n",
    "minVocabOccurence = 5\n",
    "\n",
    "def extractVocabMappers(tokenizedCorpus, minVocabOccurence = 0):\n",
    "    \"\"\"\n",
    "    Decription: \n",
    "    Input:\n",
    "        tokenizedCorpus (list(list(str))): A list where each index is a document from the corpus.\n",
    "            Each document is further tokenized into a list of tokens. \n",
    "            [doc1, doc2,...] where doc1 = [tok1, tok2, ...]\n",
    "        minVocabOccurence (int): Minimum number of times a word needs to show up to be considered\n",
    "            for the vocabulary\n",
    "    Output:\n",
    "        word2Idx (dict): A dictionary mapping each word to its integer ID\n",
    "        idx2Word (dict): A dictionary mapping each integer ID to its word\n",
    "        wordCounts (list(tuples)): A list of tuples mapping each vocab to its count in the\n",
    "            corpus\n",
    "        newTokenizedCorpus (list(list(str))): Same as tokenized corpus but out of vocabulary terms are\n",
    "            mapped to <UNK>\n",
    "        \n",
    "    \"\"\"\n",
    "    UNK = \"<UNK>\"\n",
    "    flattenedCorpus = [item for sublist in tokenizedCorpus for item in sublist]\n",
    "    wordCounts = Counter(flattenedCorpus).most_common()\n",
    "    wordCounts = [(w, c) for w,c in wordCounts if c > minVocabOccurence]\n",
    "#     wordCounts = wordCounts.most_common(vocabSizeMax)\n",
    "    vocabulary = [word for word, count in wordCounts]\n",
    "    \n",
    "    # below is more readable but significantly slower code\n",
    "    if False:\n",
    "        vocabulary = []\n",
    "        for sentence in tqdm(tokenizedCorpus):\n",
    "            for token in sentence:\n",
    "                if token not in vocabulary:\n",
    "                    vocabulary.append(token)\n",
    "#     vocabulary.append(UNK)\n",
    "    print(\"Vocab size: {}\".format(len(vocabulary)))\n",
    "    word2idx = {w: idx for (idx, w) in enumerate(vocabulary)}\n",
    "    idx2word = {idx: w for (idx, w) in enumerate(vocabulary)}\n",
    "    newTokenizedCorpus = []# all words missing from vocab replaced with <UNK>\n",
    "    # JK Im removing them\n",
    "    for doc in tokenizedCorpus:\n",
    "        newDoc = [word for word in doc if word in word2idx]# remove UNK from corpus\n",
    "#         newDoc = [word if word in word2idx else UNK for word in doc]\n",
    "        newTokenizedCorpus.append(newDoc)\n",
    "    return(word2idx, idx2word, wordCounts, newTokenizedCorpus)\n",
    "\n",
    "start = time.time()\n",
    "print(\"Building ap corpus vocabulary\")\n",
    "word2Idx_ap, idx2Word_ap, vocabCount_ap, finalTokenizedCorpus_ap = extractVocabMappers(apCorpusTokenized,\n",
    "                                                                                      minVocabOccurence = minVocabOccurence)\n",
    "print(\"ap data tokenized in {} seconds\\n\".format(time.time() - start))\n",
    "start = time.time()\n",
    "print(\"Building pubMed corpus vocabulary\")\n",
    "word2Idx_pubMed, idx2Word_pubMed, vocabCount_pubMed, finalTokenizedCorpus_pubMed = extractVocabMappers(pubMedCorpusTokenized,\n",
    "                                                                                                      minVocabOccurence = minVocabOccurence)\n",
    "print(\"pubmed data tokenized in {} seconds\\n\".format(time.time() - start))\n",
    "start = time.time()\n",
    "print(\"Building test corpus vocabulary\")\n",
    "word2Idx_test, idx2Word_test, vocabCount_test, finalTokenizedCorpus_test = extractVocabMappers(testCorpusTokenized,\n",
    "                                                                                              minVocabOccurence = 0)\n",
    "print(\"test data tokenized in {} seconds\".format(time.time() - start))"
   ]
  },
  {
   "cell_type": "markdown",
   "metadata": {},
   "source": [
    "## Word2Vec Implementation"
   ]
  },
  {
   "cell_type": "code",
   "execution_count": 81,
   "metadata": {},
   "outputs": [],
   "source": [
    "import numpy as np\n",
    "import torch\n",
    "from torch import nn\n",
    "import random"
   ]
  },
  {
   "cell_type": "code",
   "execution_count": 89,
   "metadata": {},
   "outputs": [],
   "source": [
    "def generateObservations(tokenizedCorpus, word2Idx):\n",
    "    \"\"\"\n",
    "    Decription: Iterates through every token in the corpus and creates a (center, context)\n",
    "        pair for each context word in the window on either side of the center word. Please\n",
    "        refer to the first figure to understand how word pairs are created\n",
    "    Input:\n",
    "        tokenizedCorpus (list(list(str))): A list where each index is a document from the corpus.\n",
    "            Each document is further tokenized into a list of tokens. \n",
    "            [doc1, doc2,...] where doc1 = [tok1, tok2, ...]\n",
    "        word2Idx (dict): A dictionary mapping words to their integer IDs\n",
    "    Output:\n",
    "        idxPairs (list(tuples)): A list of tuples where each tuple is a (center, context word)\n",
    "    \"\"\"\n",
    "    window_size = 3\n",
    "    idxPairs = []\n",
    "    for sentence in tokenizedCorpus:\n",
    "        for center_word_pos in range(len(sentence)):\n",
    "            # Your code here\n",
    "            # for each window position\n",
    "            for w in range(-window_size, window_size + 1):\n",
    "                context_word_pos = center_word_pos + w\n",
    "                # make sure not jump out sentence\n",
    "                if context_word_pos < 0 or context_word_pos >= len(sentence) or center_word_pos == context_word_pos:\n",
    "                    continue\n",
    "                idxPairs.append((sentence[center_word_pos], sentence[context_word_pos]))\n",
    "            # End your code\n",
    "    idxPairs = np.array(idxPairs)\n",
    "    return(idxPairs)\n",
    "\n",
    "\n",
    "def generateWordSamplingUnigramTable(vocabCount, word2Idx):\n",
    "    \"\"\"\n",
    "    Decription: Generates a unigram table to sample data from. The unigram table\n",
    "        should contains the index of every vocab index multiple times. The number\n",
    "        of times an element appears is dictated by its sample probability. The unigram\n",
    "        table can the be sampled. \n",
    "    Input:\n",
    "        vocabCount (list(tuples)): A list of tuples mapping each vocab to its count in the\n",
    "            corpus\n",
    "        word2Idx (dict): A dictionary mapping words to their integer IDs\n",
    "    Output:\n",
    "        unigram_table (list(int)): A list of integers as described above. For example\n",
    "        in a 3 word vocabulary it might look something like [0,0,1,1,1,1,1,1,1,2].\n",
    "        Sampling from the previous example will mean that 0 is sampled 2/10 times,\n",
    "        1 is sampled 7/10 times, and 2 is sampled 1/10 times.\n",
    "    \"\"\"\n",
    "    unigram_table = []\n",
    "#     numWords = np.sum([count for word, count in vocabCount])\n",
    "    numWords = np.sum([count**0.75 for word, count in vocabCount])\n",
    "    tableLength = 10000\n",
    "    for w,c in vocabCount:\n",
    "        unigram_table.extend([word2Idx[w]] * int((((c**0.75)/numWords))*tableLength))\n",
    "#         unigram_table.extend([word2Idx[w]] * int(((c/numWords)**0.75)/0.001))\n",
    "    return(unigram_table)\n",
    "    \n",
    "class SkipGram(nn.Module):\n",
    "    \"\"\"\n",
    "    Decription: Instantiates and implements the forward pass of the skip gram\n",
    "        algorithm with negative sampling.\n",
    "    Input:\n",
    "        vocabSize (int): Number of words to create embeddings for\n",
    "        embedSize (int): Dimension of word embeddings\n",
    "        word2Idx (dict): A dictionary mapping words to their integer IDs\n",
    "    Output:\n",
    "    \"\"\"\n",
    "    def __init__(self, vocabSize, embedSize, vocabCount, word2Idx):\n",
    "        super(SkipGram, self).__init__()\n",
    "        self.vocabSize = vocabSize\n",
    "        self.word2Idx = word2Idx\n",
    "        # Your code here\n",
    "        # Init the center and context embedding matrices. These are learnable parameters\n",
    "        self.centerEmbeddings = nn.Parameter(torch.randn(vocabSize,\n",
    "                                                     embedSize).float(), requires_grad=True)\n",
    "        self.contextEmbeddings = nn.Parameter(torch.randn(vocabSize,\n",
    "                                                      embedSize).float(), requires_grad=True)\n",
    "        # End your code\n",
    "        nn.init.xavier_uniform_(self.contextEmbeddings)\n",
    "        nn.init.xavier_uniform_(self.centerEmbeddings)\n",
    "        \n",
    "        self.unigram_table = generateWordSamplingUnigramTable(vocabCount, word2Idx)\n",
    "        self.logSigmoid = nn.LogSigmoid()\n",
    "    def getNegSample(self, k, centerWords):\n",
    "        \"\"\"\n",
    "        Decription: Randomly selects negative samples from the vocabulary. USes\n",
    "            self.unigram_table in order to sample words. \n",
    "        Input:\n",
    "            k (int): Number of negative samples to select\n",
    "            centerWords (list(str)): A list of the string center words. There should\n",
    "                be batchSize of these.\n",
    "        Output:\n",
    "            negSamples (list(numpyArray)): A list of numpy arrays where each numpy array\n",
    "                contains the indices of negative samples. There are batchSize numpy arrays\n",
    "        \"\"\"\n",
    "        negSamples = []\n",
    "        for centerWord in centerWords:\n",
    "            # Your code here\n",
    "            # Using self.unigram_table sample indices to use as your negative samples\n",
    "            # Be sure that for each center word you return negative samples, which\n",
    "            # don't contain the center word. Should't happen often but just ot be sure.\n",
    "            negSample = random.sample(self.unigram_table, k)\n",
    "            while self.word2Idx[centerWord] in negSample:\n",
    "                negSample = random.sample(self.unigram_table, k)\n",
    "            negSamples.append(negSample)\n",
    "        # End your code\n",
    "        return(negSamples)\n",
    "    def forward(self, center, context, negSampleIndices):\n",
    "        \"\"\"\n",
    "        Decription Forward pass for the skipgram model. \n",
    "        Input:\n",
    "            center (list(int)): A list of word integer IDs indicating all\n",
    "                batchSize center words. Matches one to one with context\n",
    "            context (list(int)): A list of word integer IDs indicating all\n",
    "                batchSize context words. Matches one to one with center\n",
    "            negSampleIndices (list(numpyArray)): A list of numpy arrays where\n",
    "                each numpy array contains the indices of negative samples.\n",
    "                There are batchSize numpy arrays. Returned by getNegSample()\n",
    "        Output:\n",
    "            logProb (tensor): The loss over the entire batch.\n",
    "        \"\"\"\n",
    "        # Your Code\n",
    "        # implement a forward pass of the model. Be sure to allow for varying batch sizes\n",
    "        embedCenter = self.centerEmbeddings[center]\n",
    "        embedContext = self.contextEmbeddings[context]    \n",
    "        posVal = self.logSigmoid(torch.sum(embedContext * embedCenter, dim = 1)).squeeze()\n",
    "        negSampleIndices = torch.autograd.Variable(torch.LongTensor(negSampleIndices))\n",
    "        negVal = torch.bmm(self.contextEmbeddings[negSampleIndices], embedCenter.unsqueeze(2)).squeeze()\n",
    "        negVal = torch.sum(self.logSigmoid(-negVal), dim = 1)\n",
    "        negLogProb = -(posVal + negVal).mean()\n",
    "        # End your code\n",
    "        return(negLogProb)\n",
    "\n",
    "\n",
    "def train_skipgram(embeddingSize, trainingData, vocabCount, word2Idx, idx2Word,\n",
    "                   k, referenceWords, batchSize = 1024):\n",
    "    \"\"\"\n",
    "    Decription: Instantiates and trains a skipgam model. The forward pass of the skipgram mode\n",
    "        handles the forward pass so all you have to do here is handle the loss, and\n",
    "        updating the weights.\n",
    "    Input:\n",
    "        embeddingSize (int): Size of each word embedding\n",
    "        trainingData (list(tuples)): A list of tuples generated by generateWordSamplingUnigramTable()\n",
    "            where each tuple is a center and context word\n",
    "        vocabCount (list(tuples)): A list of tuples mapping each vocab to its count in the\n",
    "            corpus\n",
    "        word2Idx (dict): A dictionary mapping each word to its integer ID\n",
    "        idx2Word (dict): A dictionary mapping each integer ID to its word\n",
    "        k (int): Dictates the number of sampls used during negative sampling\n",
    "        referenceWords (list(str)): A list of words to compare word embeddings for\n",
    "        batchSize (int): The number of (center, context) words to run through each forward\n",
    "            pass of the skipgram model.\n",
    "    Output:\n",
    "        model (SkipGram): The final trained SkipGram model\n",
    "    \"\"\"\n",
    "    print(\"training on {} observations\".format(len(trainingData)))\n",
    "    model = SkipGram(vocabSize = len(word2Idx), embedSize = embeddingSize,\n",
    "                     vocabCount = vocabCount, word2Idx = word2Idx)\n",
    "    optimizer = torch.optim.Adam(model.parameters(), lr=learning_rate)\n",
    "    optimizer = torch.optim.SGD(model.parameters(), lr=learning_rate)\n",
    "    listNearestWords(model = model, idx2Word = idx2Word,\n",
    "     referenceWords = referenceWords, topN = 5)\n",
    "    #         listNearestWords(model = model, idx2Word = idx2Word,\n",
    "#                  referenceWords = referenceWords, topN = 5)\n",
    "    for epoch in tqdm_notebook(range(n_epoch), position = 0):\n",
    "        total_loss = .0\n",
    "        avgLoss = 0.0\n",
    "        iteration = 0\n",
    "        for step in tqdm_notebook(range(0, len(trainingData), batchSize), position = 1):\n",
    "            endIdx = np.min([(step+batchSize), len(trainingData)])\n",
    "            myBatch = trainingData[step:(step+batchSize)]\n",
    "            centerWords = [elem[0] for elem in myBatch]\n",
    "            contextWords = [elem[1] for elem in myBatch]\n",
    "            negSamples = model.getNegSample(k = k, centerWords = centerWords)\n",
    "            centerIDs = [word2Idx[idx] for idx in centerWords]\n",
    "            contextIDs = [word2Idx[idx] for idx in contextWords]\n",
    "            model.zero_grad()\n",
    "            loss = model(centerIDs, contextIDs, negSampleIndices = negSamples)\n",
    "            \n",
    "            loss.backward()\n",
    "            optimizer.step()\n",
    "\n",
    "            total_loss += loss.data.numpy()\n",
    "            avgLoss += loss.data.numpy()\n",
    "            iteration += 1\n",
    "            if iteration % 500 == 0:\n",
    "                avgLoss = avgLoss/(500)\n",
    "                print(\"avg loss: {}\".format(avgLoss))\n",
    "        print(\"Loss at epoch {}: {}\".format(epoch, total_loss/iteration))\n",
    "        if epoch % 1 == 0:\n",
    "            listNearestWords(model = model, idx2Word = idx2Word,\n",
    "                         referenceWords = referenceWords, topN = 5)\n",
    "    return(model)"
   ]
  },
  {
   "cell_type": "code",
   "execution_count": 90,
   "metadata": {},
   "outputs": [],
   "source": [
    "from scipy.spatial.distance import cdist\n",
    "def listNearestWords(model, idx2Word, referenceWords, topN):\n",
    "    \"\"\"\n",
    "    Decription: Lists the topN closes words by cosine distance to each word in referenceWords\n",
    "    Input:\n",
    "        model (SkipGram): The final trained SkipGram model\n",
    "        idx2Word (dict): A dictionary mapping each integer ID to its word\n",
    "        referenceWords (list(str)): A list of words in the vocabulary of the model\n",
    "        topN (int): The number of closest words to print\n",
    "    Output:\n",
    "        None: Just prints\n",
    "    \"\"\"\n",
    "    assert len(idx2Word) == len(model.word2Idx), \"Possibly passed in two different vocabularies\"\n",
    "    embeddings = model.centerEmbeddings.data.numpy()\n",
    "    distMat = cdist(embeddings, embeddings, metric = \"cosine\")\n",
    "    # Your code here\n",
    "    # print the topN closest words to each word in referenceWords\n",
    "    for word in referenceWords:\n",
    "        wordIdx = model.word2Idx[word]\n",
    "        closestIndices = np.argsort(distMat[wordIdx,:])[0:topN]\n",
    "        closestWords = [(idx2Word[idx], distMat[wordIdx, idx]) for idx in closestIndices]\n",
    "        for elem in closestWords:\n",
    "            print(elem)\n",
    "        print(\"*\"*50 + \"\\n\")\n",
    "    # End your code"
   ]
  },
  {
   "cell_type": "code",
   "execution_count": 91,
   "metadata": {
    "scrolled": true
   },
   "outputs": [],
   "source": [
    "# embd_size = 100\n",
    "# learning_rate = 0.001\n",
    "# n_epoch = 60\n",
    "# idxPairsTest = generateObservations(tokenizedCorpus = finalTokenizedCorpus_test, word2Idx = word2Idx_test)\n",
    "# sg_model = train_skipgram(embeddingSize = 5, trainingData = idxPairsTest, vocabCount = vocabCount_test,\n",
    "#                                      word2Idx = word2Idx_test, idx2Word = idx2Word_test, k = 10,\n",
    "#                                     referenceWords = [\"thomas\", \"salmon\"])"
   ]
  },
  {
   "cell_type": "code",
   "execution_count": null,
   "metadata": {
    "scrolled": true
   },
   "outputs": [
    {
     "name": "stdout",
     "output_type": "stream",
     "text": [
      "training on 3222584 observations\n",
      "('bush', 2.220446049250313e-16)\n",
      "('sec', 0.5033803326733285)\n",
      "('rioting', 0.5067662979566089)\n",
      "('intimidation', 0.5135166104535183)\n",
      "('magazines', 0.5163957768156204)\n",
      "**************************************************\n",
      "\n",
      "('soviet', 0.0)\n",
      "('crocodile', 0.4442133180955036)\n",
      "('vargas', 0.5114584888316253)\n",
      "('governing', 0.5308375738131564)\n",
      "('associate', 0.5429682997449355)\n",
      "**************************************************\n",
      "\n",
      "('president', 0.0)\n",
      "('conventions', 0.4247066995169423)\n",
      "('clayton', 0.5261356510370664)\n",
      "('asked', 0.5466800235361514)\n",
      "('purchases', 0.5558109662720915)\n",
      "**************************************************\n",
      "\n",
      "('economy', 1.1102230246251565e-16)\n",
      "('hubble', 0.4727646238501564)\n",
      "('onefifth', 0.5193020374628007)\n",
      "('mountains', 0.5299678951447082)\n",
      "('elaine', 0.5440051248585133)\n",
      "**************************************************\n",
      "\n",
      "('american', 0.0)\n",
      "('volvo', 0.47128798438542185)\n",
      "('grigoryants', 0.49699213337556314)\n",
      "('broadway', 0.5160413740406908)\n",
      "('accepting', 0.5448161254138729)\n",
      "**************************************************\n",
      "\n"
     ]
    },
    {
     "data": {
      "application/vnd.jupyter.widget-view+json": {
       "model_id": "946385a21f664dc69501c6efe4b516e5",
       "version_major": 2,
       "version_minor": 0
      },
      "text/plain": [
       "HBox(children=(IntProgress(value=0, max=10), HTML(value='')))"
      ]
     },
     "metadata": {},
     "output_type": "display_data"
    },
    {
     "data": {
      "application/vnd.jupyter.widget-view+json": {
       "model_id": "50e3ce42c45c4089942cf04f2d610ad1",
       "version_major": 2,
       "version_minor": 0
      },
      "text/plain": [
       "HBox(children=(IntProgress(value=0, max=3148), HTML(value='')))"
      ]
     },
     "metadata": {},
     "output_type": "display_data"
    },
    {
     "name": "stdout",
     "output_type": "stream",
     "text": [
      "avg loss: 14.441185665130615\n",
      "avg loss: 13.031047929191589\n",
      "avg loss: 11.637958070017623\n",
      "avg loss: 11.421434345285848\n",
      "avg loss: 11.209687608127675\n",
      "avg loss: 10.79255691031147\n",
      "Loss at epoch 0: 12.008686547130914\n",
      "('bush', 0.0)\n",
      "('police', 0.008125627370117905)\n",
      "('time', 0.008860428975394852)\n",
      "('officials', 0.010291807219225846)\n",
      "('president', 0.01038304812295332)\n",
      "**************************************************\n",
      "\n",
      "('soviet', 0.0)\n",
      "('united', 0.011812184060174702)\n",
      "('today', 0.012273612522199495)\n",
      "('time', 0.012456200145919416)\n",
      "('state', 0.012552599276933418)\n",
      "**************************************************\n",
      "\n",
      "('president', 0.0)\n",
      "('also', 0.0055103221614903886)\n",
      "('first', 0.005928066864382631)\n",
      "('two', 0.006124949142827352)\n",
      "('would', 0.0062991929313442885)\n",
      "**************************************************\n",
      "\n",
      "('economy', 0.0)\n",
      "('company', 0.054801306915847836)\n",
      "('west', 0.057515728045184344)\n",
      "('aid', 0.061104225778775945)\n",
      "('army', 0.06132582333665881)\n",
      "**************************************************\n",
      "\n",
      "('american', 0.0)\n",
      "('bush', 0.010936715279249332)\n",
      "('officials', 0.012554640635562553)\n",
      "('soviet', 0.01281550418527666)\n",
      "('police', 0.013152336611178761)\n",
      "**************************************************\n",
      "\n"
     ]
    },
    {
     "data": {
      "application/vnd.jupyter.widget-view+json": {
       "model_id": "d5a5aa9a2f3c4844a60b21a72a7f5b43",
       "version_major": 2,
       "version_minor": 0
      },
      "text/plain": [
       "HBox(children=(IntProgress(value=0, max=3148), HTML(value='')))"
      ]
     },
     "metadata": {},
     "output_type": "display_data"
    },
    {
     "name": "stdout",
     "output_type": "stream",
     "text": [
      "avg loss: 10.45420519733429\n",
      "avg loss: 10.004259208047868\n",
      "avg loss: 9.425600674349477\n",
      "avg loss: 9.25088370614568\n",
      "avg loss: 8.978148099199402\n",
      "avg loss: 8.5882323477197\n",
      "Loss at epoch 1: 9.391745881439013\n",
      "('bush', 0.0)\n",
      "('officials', 0.0021495637996122863)\n",
      "('could', 0.002362294834993728)\n",
      "('time', 0.002532638214236327)\n",
      "('made', 0.002544349356465636)\n",
      "**************************************************\n",
      "\n",
      "('soviet', 2.220446049250313e-16)\n",
      "('today', 0.0022685270593599816)\n",
      "('united', 0.002293674430478232)\n",
      "('state', 0.0022997045000529015)\n",
      "('three', 0.0025253103627129736)\n",
      "**************************************************\n",
      "\n",
      "('president', 1.1102230246251565e-16)\n",
      "('government', 0.001670245720551078)\n",
      "('two', 0.0018294762866963854)\n",
      "('time', 0.002098749152494528)\n",
      "('also', 0.0021345506478709364)\n",
      "**************************************************\n",
      "\n",
      "('economy', 0.0)\n",
      "('aid', 0.009202815134043085)\n",
      "('good', 0.009603304259339973)\n",
      "('companies', 0.009944138744628406)\n",
      "('got', 0.009945848162657978)\n",
      "**************************************************\n",
      "\n",
      "('american', 0.0)\n",
      "('police', 0.0024202087233797798)\n",
      "('president', 0.0024272449024708154)\n",
      "('time', 0.002875339252464082)\n",
      "('soviet', 0.0028775169921502197)\n",
      "**************************************************\n",
      "\n"
     ]
    },
    {
     "data": {
      "application/vnd.jupyter.widget-view+json": {
       "model_id": "2c9c6662d3d44935bb8ed12a38a31a85",
       "version_major": 2,
       "version_minor": 0
      },
      "text/plain": [
       "HBox(children=(IntProgress(value=0, max=3148), HTML(value='')))"
      ]
     },
     "metadata": {},
     "output_type": "display_data"
    },
    {
     "name": "stdout",
     "output_type": "stream",
     "text": [
      "avg loss: 8.23786749458313\n",
      "avg loss: 7.830213976661682\n",
      "avg loss: 7.340277103568635\n",
      "avg loss: 7.1898030939658195\n",
      "avg loss: 6.977045694053761\n",
      "avg loss: 6.705270832616211\n",
      "Loss at epoch 2: 7.3350870226814\n",
      "('bush', 0.0)\n",
      "('officials', 0.0015741275738776483)\n",
      "('monday', 0.0016392242081517683)\n",
      "('made', 0.0016502463005277912)\n",
      "('could', 0.001707056668013962)\n",
      "**************************************************\n",
      "\n",
      "('soviet', 0.0)\n",
      "('today', 0.0015219491648776895)\n",
      "('state', 0.0015623499624791704)\n",
      "('american', 0.0015839152230978648)\n",
      "('united', 0.001610364951571408)\n",
      "**************************************************\n",
      "\n",
      "('president', 0.0)\n",
      "('also', 0.0012022502927377943)\n",
      "('would', 0.0012220096954603799)\n",
      "('first', 0.0012225480595149385)\n",
      "('government', 0.001322685314541494)\n",
      "**************************************************\n",
      "\n",
      "('economy', 0.0)\n",
      "('good', 0.004368336274991225)\n",
      "('aid', 0.004448516692103666)\n",
      "('companies', 0.0044603338385375)\n",
      "('economic', 0.004487299531662159)\n",
      "**************************************************\n",
      "\n",
      "('american', 0.0)\n",
      "('one', 0.0013461044261334765)\n",
      "('police', 0.00142799238712632)\n",
      "('soviet', 0.0015839152230978648)\n",
      "('president', 0.0015938176046860209)\n",
      "**************************************************\n",
      "\n"
     ]
    },
    {
     "data": {
      "application/vnd.jupyter.widget-view+json": {
       "model_id": "07e15070c27148f3b104ed89ea646d21",
       "version_major": 2,
       "version_minor": 0
      },
      "text/plain": [
       "HBox(children=(IntProgress(value=0, max=3148), HTML(value='')))"
      ]
     },
     "metadata": {},
     "output_type": "display_data"
    }
   ],
   "source": [
    "embeddingSize = 50\n",
    "learning_rate = 0.1\n",
    "n_epoch = 10\n",
    "idxPairsAP = generateObservations(tokenizedCorpus = finalTokenizedCorpus_ap, word2Idx = word2Idx_ap)\n",
    "sg_model_ap = train_skipgram(embeddingSize = embeddingSize, trainingData = idxPairsAP,\n",
    "                                     vocabCount = vocabCount_ap,\n",
    "                                     word2Idx = word2Idx_ap, idx2Word = idx2Word_ap, k = 20,\n",
    "                                          referenceWords = [\"bush\", \"soviet\", \"president\", \"economy\", \"american\"])"
   ]
  },
  {
   "cell_type": "code",
   "execution_count": 43,
   "metadata": {},
   "outputs": [
    {
     "name": "stdout",
     "output_type": "stream",
     "text": [
      "training on 1732584 observations\n",
      "('clinical', 0.0)\n",
      "('emergence', 0.4616474509367934)\n",
      "('excessive', 0.46306756316983244)\n",
      "('performs', 0.46741533353563347)\n",
      "('increased', 0.5455670205429406)\n",
      "**************************************************\n",
      "\n",
      "('obesity', 0.0)\n",
      "('frequency', 0.5168982691254621)\n",
      "('symbols', 0.5511356324926966)\n",
      "('exclusively', 0.5717091317033198)\n",
      "('decline', 0.5765558141966722)\n",
      "**************************************************\n",
      "\n",
      "('microbial', 0.0)\n",
      "('lcfa', 0.49922018838200666)\n",
      "('proportional', 0.5456135834035312)\n",
      "('appeared', 0.5615560018197324)\n",
      "('ldlcholesterol', 0.570285427428456)\n",
      "**************************************************\n",
      "\n",
      "('microbiome', 0.0)\n",
      "('rational', 0.5546636618615921)\n",
      "('resolved', 0.5739339776798444)\n",
      "('dose', 0.5846940592534022)\n",
      "('prove', 0.6016624000160318)\n",
      "**************************************************\n",
      "\n"
     ]
    },
    {
     "data": {
      "application/vnd.jupyter.widget-view+json": {
       "model_id": "f4909fda42bb4edabbd569d705974b40",
       "version_major": 2,
       "version_minor": 0
      },
      "text/plain": [
       "HBox(children=(IntProgress(value=0, max=10), HTML(value='')))"
      ]
     },
     "metadata": {},
     "output_type": "display_data"
    },
    {
     "data": {
      "application/vnd.jupyter.widget-view+json": {
       "model_id": "2eacdf0480914ad5afbda9e818aa6c5f",
       "version_major": 2,
       "version_minor": 0
      },
      "text/plain": [
       "HBox(children=(IntProgress(value=0, max=1692), HTML(value='')))"
      ]
     },
     "metadata": {},
     "output_type": "display_data"
    },
    {
     "name": "stdout",
     "output_type": "stream",
     "text": [
      "avg loss: 1.260457257628441\n",
      "avg loss: 1.0720387010776997\n",
      "avg loss: 0.9904536416945863\n",
      "Loss at epoch 0: 1.0871013186995302\n",
      "('clinical', 1.1102230246251565e-16)\n",
      "('using', 0.07755337021509479)\n",
      "('study', 0.08444943202264732)\n",
      "('human', 0.09007409896682372)\n",
      "('system', 0.09154468442436803)\n",
      "**************************************************\n",
      "\n",
      "('obesity', 0.0)\n",
      "('system', 0.14218763142405288)\n",
      "('health', 0.14616193104902797)\n",
      "('microbiome', 0.14672249733496334)\n",
      "('sedentary', 0.14833099824442253)\n",
      "**************************************************\n",
      "\n",
      "('microbial', 0.0)\n",
      "('clinical', 0.1101586736337904)\n",
      "('human', 0.1175735292982708)\n",
      "('using', 0.11797479406554334)\n",
      "('exercise', 0.12135022976846255)\n",
      "**************************************************\n",
      "\n",
      "('microbiome', 0.0)\n",
      "('system', 0.12527159435144575)\n",
      "('activity', 0.13453813531724257)\n",
      "('high', 0.1458028603156406)\n",
      "('health', 0.14586079997581736)\n",
      "**************************************************\n",
      "\n"
     ]
    },
    {
     "data": {
      "application/vnd.jupyter.widget-view+json": {
       "model_id": "700246364a9246c68c6154ff55190e09",
       "version_major": 2,
       "version_minor": 0
      },
      "text/plain": [
       "HBox(children=(IntProgress(value=0, max=1692), HTML(value='')))"
      ]
     },
     "metadata": {},
     "output_type": "display_data"
    },
    {
     "name": "stdout",
     "output_type": "stream",
     "text": [
      "avg loss: 0.892559583067894\n",
      "avg loss: 0.85271362008667\n",
      "avg loss: 0.821068516920845\n",
      "Loss at epoch 1: 0.8482917993820447\n",
      "('clinical', 0.0)\n",
      "('system', 0.06847316284926142)\n",
      "('human', 0.06976770035775548)\n",
      "('information', 0.07009410668572436)\n",
      "('associated', 0.07198495005043215)\n",
      "**************************************************\n",
      "\n",
      "('obesity', 0.0)\n",
      "('microbiome', 0.0982244949528086)\n",
      "('used', 0.10183675015158833)\n",
      "('system', 0.10680113902933586)\n",
      "('text', 0.10735598205269115)\n",
      "**************************************************\n",
      "\n",
      "('microbial', 1.1102230246251565e-16)\n",
      "('human', 0.07980026690815079)\n",
      "('exercise', 0.0826131681455543)\n",
      "('clinical', 0.08276219488625292)\n",
      "('natural', 0.08397793916199148)\n",
      "**************************************************\n",
      "\n",
      "('microbiome', 1.1102230246251565e-16)\n",
      "('system', 0.09507151039885287)\n",
      "('disease', 0.09712612695593648)\n",
      "('microbial', 0.09765670397357851)\n",
      "('high', 0.09791788219955255)\n",
      "**************************************************\n",
      "\n"
     ]
    },
    {
     "data": {
      "application/vnd.jupyter.widget-view+json": {
       "model_id": "8bac430d2df64faaa3e134dc0aae2518",
       "version_major": 2,
       "version_minor": 0
      },
      "text/plain": [
       "HBox(children=(IntProgress(value=0, max=1692), HTML(value='')))"
      ]
     },
     "metadata": {},
     "output_type": "display_data"
    },
    {
     "name": "stdout",
     "output_type": "stream",
     "text": [
      "avg loss: 0.7838031015396119\n",
      "avg loss: 0.7693898970408439\n",
      "avg loss: 0.7557271985400762\n",
      "Loss at epoch 2: 0.7662153598229372\n",
      "('clinical', 1.1102230246251565e-16)\n",
      "('system', 0.06844509062176896)\n",
      "('associated', 0.07236351267351615)\n",
      "('health', 0.07606088212339357)\n",
      "('information', 0.07745466775289767)\n",
      "**************************************************\n",
      "\n",
      "('obesity', 0.0)\n",
      "('microbiome', 0.09756338024805988)\n",
      "('used', 0.09936838508744006)\n",
      "('text', 0.10099147992038371)\n",
      "('based', 0.10550319876636749)\n",
      "**************************************************\n",
      "\n",
      "('microbial', 0.0)\n",
      "('human', 0.07363076776851629)\n",
      "('natural', 0.07862238015672496)\n",
      "('used', 0.0789489403363125)\n",
      "('two', 0.08234572868066892)\n",
      "**************************************************\n",
      "\n",
      "('microbiome', 1.1102230246251565e-16)\n",
      "('disease', 0.08450013477062279)\n",
      "('microbial', 0.08839752543655877)\n",
      "('development', 0.08859445755644135)\n",
      "('microbiota', 0.08906992472186959)\n",
      "**************************************************\n",
      "\n"
     ]
    },
    {
     "data": {
      "application/vnd.jupyter.widget-view+json": {
       "model_id": "5cadb0b504c344b99d6262cd152157fe",
       "version_major": 2,
       "version_minor": 0
      },
      "text/plain": [
       "HBox(children=(IntProgress(value=0, max=1692), HTML(value='')))"
      ]
     },
     "metadata": {},
     "output_type": "display_data"
    },
    {
     "name": "stdout",
     "output_type": "stream",
     "text": [
      "avg loss: 0.7375486475229264\n",
      "avg loss: 0.7299022284710408\n",
      "avg loss: 0.7218356183285641\n",
      "Loss at epoch 3: 0.7275256528375983\n",
      "('clinical', 0.0)\n",
      "('system', 0.07018826538244649)\n",
      "('associated', 0.07378492245924073)\n",
      "('health', 0.08366193985961445)\n",
      "('analysis', 0.0865225681720686)\n",
      "**************************************************\n",
      "\n",
      "('obesity', 1.1102230246251565e-16)\n",
      "('used', 0.1021481474955227)\n",
      "('based', 0.10388180175650408)\n",
      "('also', 0.10701152278681514)\n",
      "('microbiome', 0.11221727767282574)\n",
      "**************************************************\n",
      "\n",
      "('microbial', 0.0)\n",
      "('human', 0.07662806166846314)\n",
      "('natural', 0.08047610033515262)\n",
      "('two', 0.08551829923211196)\n",
      "('used', 0.08578694963507338)\n",
      "**************************************************\n",
      "\n",
      "('microbiome', 1.1102230246251565e-16)\n",
      "('disease', 0.0815838929906213)\n",
      "('development', 0.08195025629710162)\n",
      "('research', 0.08649439669650205)\n",
      "('related', 0.08685067256016099)\n",
      "**************************************************\n",
      "\n"
     ]
    },
    {
     "data": {
      "application/vnd.jupyter.widget-view+json": {
       "model_id": "b174ae2101e44fde8fc28671048e0af4",
       "version_major": 2,
       "version_minor": 0
      },
      "text/plain": [
       "HBox(children=(IntProgress(value=0, max=1692), HTML(value='')))"
      ]
     },
     "metadata": {},
     "output_type": "display_data"
    },
    {
     "name": "stdout",
     "output_type": "stream",
     "text": [
      "avg loss: 0.7108010559082031\n",
      "avg loss: 0.7055509817419051\n",
      "avg loss: 0.7005188082420464\n",
      "Loss at epoch 4: 0.7039014068707365\n",
      "('clinical', 0.0)\n",
      "('system', 0.06745904250023704)\n",
      "('associated', 0.07025648390607375)\n",
      "('analysis', 0.08226133722463447)\n",
      "('time', 0.08245953924195815)\n",
      "**************************************************\n",
      "\n",
      "('obesity', 0.0)\n",
      "('used', 0.1013200015084531)\n",
      "('based', 0.10362699358812044)\n",
      "('also', 0.11060965006688539)\n",
      "('found', 0.11193813520338913)\n",
      "**************************************************\n",
      "\n",
      "('microbial', 0.0)\n",
      "('human', 0.08376819721334572)\n",
      "('natural', 0.08729252879233651)\n",
      "('model', 0.08781971739397176)\n",
      "('metabolic', 0.09014354013724635)\n",
      "**************************************************\n",
      "\n",
      "('microbiome', 0.0)\n",
      "('development', 0.08002391893299288)\n",
      "('disease', 0.08345069300001529)\n",
      "('related', 0.08645054125928053)\n",
      "('research', 0.08947236005830606)\n",
      "**************************************************\n",
      "\n"
     ]
    },
    {
     "data": {
      "application/vnd.jupyter.widget-view+json": {
       "model_id": "b97c633a317d4316a30059ff412bc503",
       "version_major": 2,
       "version_minor": 0
      },
      "text/plain": [
       "HBox(children=(IntProgress(value=0, max=1692), HTML(value='')))"
      ]
     },
     "metadata": {},
     "output_type": "display_data"
    },
    {
     "name": "stdout",
     "output_type": "stream",
     "text": [
      "avg loss: 0.6926482183337211\n",
      "avg loss: 0.688471260609746\n",
      "avg loss: 0.6849923662005712\n",
      "Loss at epoch 5: 0.6873036064559828\n",
      "('clinical', 0.0)\n",
      "('system', 0.062311423236911634)\n",
      "('associated', 0.06488713832293247)\n",
      "('using', 0.07182015301050826)\n",
      "('time', 0.07208046861377448)\n",
      "**************************************************\n",
      "\n",
      "('obesity', 0.0)\n",
      "('used', 0.09516055998326056)\n",
      "('based', 0.10006083556298373)\n",
      "('found', 0.10346164038542616)\n",
      "('exercise', 0.10548265446950966)\n",
      "**************************************************\n",
      "\n",
      "('microbial', 1.1102230246251565e-16)\n",
      "('model', 0.09152331883947495)\n",
      "('human', 0.09358792942244654)\n",
      "('measured', 0.0960778711593373)\n",
      "('natural', 0.09622363945954893)\n",
      "**************************************************\n",
      "\n",
      "('microbiome', 0.0)\n",
      "('development', 0.08140992080265275)\n",
      "('related', 0.0874091950024588)\n",
      "('disease', 0.08915677354281859)\n",
      "('research', 0.0961601641817117)\n",
      "**************************************************\n",
      "\n"
     ]
    },
    {
     "data": {
      "application/vnd.jupyter.widget-view+json": {
       "model_id": "168bcc7beccc4f6a99ffcf32db55c928",
       "version_major": 2,
       "version_minor": 0
      },
      "text/plain": [
       "HBox(children=(IntProgress(value=0, max=1692), HTML(value='')))"
      ]
     },
     "metadata": {},
     "output_type": "display_data"
    },
    {
     "name": "stdout",
     "output_type": "stream",
     "text": [
      "avg loss: 0.6790315974354744\n",
      "avg loss: 0.6753104136623145\n",
      "avg loss: 0.672961702725537\n",
      "Loss at epoch 6: 0.6745492295839826\n",
      "('clinical', 1.1102230246251565e-16)\n",
      "('system', 0.0571856132652615)\n",
      "('associated', 0.05959568745461907)\n",
      "('using', 0.062366061988063715)\n",
      "('levels', 0.06527402395343351)\n",
      "**************************************************\n",
      "\n",
      "('obesity', 0.0)\n",
      "('used', 0.08712061193944176)\n",
      "('found', 0.09284691639509868)\n",
      "('exercise', 0.09290605784775963)\n",
      "('based', 0.09489279061182909)\n",
      "**************************************************\n",
      "\n",
      "('microbial', 1.1102230246251565e-16)\n",
      "('model', 0.09396505280806389)\n",
      "('measured', 0.09520280023611216)\n",
      "('developed', 0.09938703566738238)\n",
      "('studies', 0.10137429432297307)\n",
      "**************************************************\n",
      "\n",
      "('microbiome', 0.0)\n",
      "('development', 0.08510365041363255)\n",
      "('related', 0.0903251434960679)\n",
      "('disease', 0.09646336769227415)\n",
      "('bacteria', 0.10068631533988337)\n",
      "**************************************************\n",
      "\n"
     ]
    },
    {
     "data": {
      "application/vnd.jupyter.widget-view+json": {
       "model_id": "55f55186b6a34400bc9c1b32fc47af7e",
       "version_major": 2,
       "version_minor": 0
      },
      "text/plain": [
       "HBox(children=(IntProgress(value=0, max=1692), HTML(value='')))"
      ]
     },
     "metadata": {},
     "output_type": "display_data"
    },
    {
     "name": "stdout",
     "output_type": "stream",
     "text": [
      "avg loss: 0.6682857267856598\n",
      "avg loss: 0.6651215077624321\n",
      "avg loss: 0.6631840304973097\n",
      "Loss at epoch 7: 0.6644701669014655\n",
      "('clinical', 2.220446049250313e-16)\n",
      "('system', 0.05371995664686191)\n",
      "('associated', 0.05579978593153734)\n",
      "('using', 0.056988948932359174)\n",
      "('levels', 0.057803781265404974)\n",
      "**************************************************\n",
      "\n",
      "('obesity', 0.0)\n",
      "('used', 0.07931993848121144)\n",
      "('exercise', 0.08201938754858451)\n",
      "('found', 0.08226940667147742)\n",
      "('system', 0.0844880355771076)\n",
      "**************************************************\n",
      "\n",
      "('microbial', 0.0)\n",
      "('measured', 0.09461480926148269)\n",
      "('model', 0.09529304689836471)\n",
      "('developed', 0.1010002425872043)\n",
      "('treatment', 0.10312758930402444)\n",
      "**************************************************\n",
      "\n",
      "('microbiome', 0.0)\n",
      "('development', 0.09017060316051506)\n",
      "('related', 0.09480050724591771)\n",
      "('disease', 0.10564313538052916)\n",
      "('bacteria', 0.10624001769886793)\n",
      "**************************************************\n",
      "\n"
     ]
    },
    {
     "data": {
      "application/vnd.jupyter.widget-view+json": {
       "model_id": "576afe33bf9246d8bc3f36863adcde87",
       "version_major": 2,
       "version_minor": 0
      },
      "text/plain": [
       "HBox(children=(IntProgress(value=0, max=1692), HTML(value='')))"
      ]
     },
     "metadata": {},
     "output_type": "display_data"
    },
    {
     "name": "stdout",
     "output_type": "stream",
     "text": [
      "avg loss: 0.6595424230694771\n",
      "avg loss: 0.6563488040200471\n",
      "avg loss: 0.6551584362574083\n",
      "Loss at epoch 8: 0.6560354224685799\n",
      "('clinical', 0.0)\n",
      "('system', 0.05181363945835327)\n",
      "('levels', 0.05270484171458789)\n",
      "('associated', 0.053974403128247195)\n",
      "('using', 0.054550370548890115)\n",
      "**************************************************\n",
      "\n",
      "('obesity', 0.0)\n",
      "('used', 0.07281812440294977)\n",
      "('exercise', 0.07363538893497801)\n",
      "('found', 0.07397059120665406)\n",
      "('system', 0.07611192861563765)\n",
      "**************************************************\n",
      "\n",
      "('microbial', 0.0)\n",
      "('measured', 0.09369128200595767)\n",
      "('model', 0.09539098151502601)\n",
      "('developed', 0.1017448349842881)\n",
      "('treatment', 0.1019804228484309)\n",
      "**************************************************\n",
      "\n",
      "('microbiome', 0.0)\n",
      "('development', 0.09461887603369346)\n",
      "('related', 0.09825283972695331)\n",
      "('bacteria', 0.1107673578971895)\n",
      "('presence', 0.1130225863509925)\n",
      "**************************************************\n",
      "\n"
     ]
    },
    {
     "data": {
      "application/vnd.jupyter.widget-view+json": {
       "model_id": "fed78ea7345d40fe98ccdddcd1a11837",
       "version_major": 2,
       "version_minor": 0
      },
      "text/plain": [
       "HBox(children=(IntProgress(value=0, max=1692), HTML(value='')))"
      ]
     },
     "metadata": {},
     "output_type": "display_data"
    },
    {
     "name": "stdout",
     "output_type": "stream",
     "text": [
      "avg loss: 0.6519760429859162\n",
      "avg loss: 0.6494013966798782\n",
      "avg loss: 0.6483636779788494\n",
      "Loss at epoch 9: 0.6490321379269409\n",
      "('clinical', 0.0)\n",
      "('levels', 0.04996075189232774)\n",
      "('system', 0.051451933483990686)\n",
      "('intervention', 0.05362811530038458)\n",
      "('associated', 0.05376958487453165)\n",
      "**************************************************\n",
      "\n",
      "('obesity', 0.0)\n",
      "('found', 0.06714204327470585)\n",
      "('exercise', 0.06774134688817934)\n",
      "('used', 0.06808356454641806)\n",
      "('system', 0.07064630543517536)\n",
      "**************************************************\n",
      "\n",
      "('microbial', 0.0)\n",
      "('measured', 0.09355283673321513)\n",
      "('model', 0.09531950986369808)\n",
      "('treatment', 0.10067138530362008)\n",
      "('developed', 0.10220933174474156)\n",
      "**************************************************\n",
      "\n",
      "('microbiome', 0.0)\n",
      "('development', 0.09752403594969239)\n",
      "('related', 0.10110348095411026)\n",
      "('presence', 0.1119909948011244)\n",
      "('bacteria', 0.11463774876900945)\n",
      "**************************************************\n",
      "\n"
     ]
    }
   ],
   "source": [
    "embeddingSize = 50\n",
    "learning_rate = 0.1\n",
    "n_epoch = 10\n",
    "idxPairsPubMed = generateObservations(tokenizedCorpus = finalTokenizedCorpus_pubMed, word2Idx = word2Idx_pubMed)\n",
    "sg_model_pubMed = train_skipgram(embeddingSize = embeddingSize, trainingData = idxPairsPubMed,\n",
    "                                     vocabCount = vocabCount_pubMed,\n",
    "                                     word2Idx = word2Idx_pubMed, idx2Word = idx2Word_pubMed, k = 20,\n",
    "                                                  referenceWords = [\"clinical\", \"obesity\", \"microbial\", \"microbiome\"])"
   ]
  },
  {
   "cell_type": "markdown",
   "metadata": {},
   "source": [
    "## How Domains Affect Word Embeddings\n",
    "Choose two words that appear in both the pubmed and ap vocabularies and compare the closest embeddings to both words in the pubmed and ap embeddings[.](https://www.youtube.com/watch?v=Tr-WrGcexlY) **Why might the two words you chose have different representations? How might this affect downstream NLP tasks?**"
   ]
  },
  {
   "cell_type": "code",
   "execution_count": null,
   "metadata": {},
   "outputs": [],
   "source": [
    "# Your code here"
   ]
  },
  {
   "cell_type": "code",
   "execution_count": null,
   "metadata": {},
   "outputs": [],
   "source": []
  }
 ],
 "metadata": {
  "kernelspec": {
   "display_name": "Python (Computational Methods)",
   "language": "python",
   "name": "compmeth"
  },
  "language_info": {
   "codemirror_mode": {
    "name": "ipython",
    "version": 3
   },
   "file_extension": ".py",
   "mimetype": "text/x-python",
   "name": "python",
   "nbconvert_exporter": "python",
   "pygments_lexer": "ipython3",
   "version": "3.6.8"
  }
 },
 "nbformat": 4,
 "nbformat_minor": 2
}
