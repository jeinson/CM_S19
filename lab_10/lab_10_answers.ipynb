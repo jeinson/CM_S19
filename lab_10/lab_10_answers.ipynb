{
 "cells": [
  {
   "cell_type": "markdown",
   "metadata": {
    "collapsed": true
   },
   "source": [
    "# Lab 10: Word Embeddings\n",
    "Thinking of using stuff from here\n",
    "https://gist.github.com/mbednarski/da08eb297304f7a66a3840e857e060a0"
   ]
  },
  {
   "cell_type": "markdown",
   "metadata": {},
   "source": [
    "## Janitorial Work"
   ]
  },
  {
   "cell_type": "code",
   "execution_count": 14,
   "metadata": {
    "collapsed": true
   },
   "outputs": [],
   "source": [
    "testCorpus = [\"First of all, quit grinnin’ like an idiot. Indians ain’t supposed to smile like that. Get stoic.\",\n",
    "             \"No. Like this. You gotta look mean, or people won’t respect you.\",\n",
    "              \" people will run all over you if you don’t look mean.\",\n",
    "              \"You gotta look like a warrior. You gotta look like you just came back from killing a buffalo.\",\n",
    "             \"But our tribe never hunted buffalo. We were fishermen.\"\n",
    "             \"What? You wanna look like you just came back from catching a fish?\",\n",
    "             \"This ain’t dances with salmon, you know. Thomas, you gotta look like a warrior.\"]"
   ]
  },
  {
   "cell_type": "code",
   "execution_count": 12,
   "metadata": {},
   "outputs": [
    {
     "name": "stdout",
     "output_type": "stream",
     "text": [
      "1767 pub med abstracts\n"
     ]
    }
   ],
   "source": [
    "# Read in pubmed corpus into a text file\n",
    "import glob\n",
    "pubMedDataFolderPath = \"data/ap_corpus/\"\n",
    "pubMedDataFiles = glob.glob(pubMedDataFolderPath + \"*.txt\")\n",
    "pubMedCorpus = [\"\"]*len(pubMedDataFiles)\n",
    "for idx, pubMedDataPath in enumerate(pubMedDataFiles):\n",
    "    with open(pubMedDataPath, \"r\") as pubMedFile:\n",
    "        text = pubMedFile.read().strip()\n",
    "        pubMedCorpus[idx] = text\n",
    "print(\"{} pub med abstracts\".format(len(pubMedCorpus)))"
   ]
  },
  {
   "cell_type": "code",
   "execution_count": 13,
   "metadata": {},
   "outputs": [
    {
     "name": "stdout",
     "output_type": "stream",
     "text": [
      "2246 ap articles\n"
     ]
    }
   ],
   "source": [
    "# Read in the ap corpus\n",
    "apTextFile = \"data/ap.txt\"\n",
    "apCorpus = []\n",
    "readText = False\n",
    "with open(apTextFile) as apDataFile:\n",
    "    for line in apDataFile:\n",
    "        if readText:\n",
    "            apCorpus.append(line.strip())\n",
    "            readText = False\n",
    "        if line == \"<TEXT>\\n\":\n",
    "            readText = True\n",
    "print(\"{} ap articles\".format(len(apCorpus)))"
   ]
  },
  {
   "cell_type": "code",
   "execution_count": 39,
   "metadata": {
    "collapsed": true
   },
   "outputs": [],
   "source": [
    "import string\n",
    "def removePunctuation(myStr):\n",
    "    excludedCharacters = string.punctuation + \"’\"\n",
    "    newStr = \"\".join(char for char in s if char not in excludedCharacters)\n",
    "    return(newStr)\n",
    "def tokenize_corpus(corpus):\n",
    "    tokens = [removePunctuation(x).split() for x in corpus]\n",
    "    return tokens\n",
    "\n",
    "apCorpusTokenized = tokenize_corpus(apCorpus)\n",
    "pubMedCorpusTokenized = tokenize_corpus(pubMedCorpus)\n",
    "testCorpusTokenized = tokenize_corpus(testCorpus)"
   ]
  },
  {
   "cell_type": "code",
   "execution_count": 41,
   "metadata": {
    "collapsed": true
   },
   "outputs": [],
   "source": [
    "def extractVocabMappers(tokenizedCorpus):\n",
    "    vocabulary = []\n",
    "    for sentence in tokenizedCorpus:\n",
    "        for token in sentence:\n",
    "            if token not in vocabulary:\n",
    "                vocabulary.append(token)\n",
    "\n",
    "    word2idx = {w: idx for (idx, w) in enumerate(vocabulary)}\n",
    "    idx2word = {idx: w for (idx, w) in enumerate(vocabulary)}\n",
    "    return(word2idx, idx2word)\n",
    "\n",
    "word2Idx_ap, idx2Word_ap = extractVocabMappers(apCorpus)\n",
    "word2Idx_pubMed, idx2Word_pubMed = extractVocabMappers(pubMedCorpus)\n",
    "word2Idx_test, idx2Word_test = extractVocabMappers(testCorpus)"
   ]
  },
  {
   "cell_type": "code",
   "execution_count": null,
   "metadata": {
    "collapsed": true
   },
   "outputs": [],
   "source": []
  },
  {
   "cell_type": "code",
   "execution_count": 38,
   "metadata": {},
   "outputs": [
    {
     "data": {
      "text/plain": [
       "'First of all quit grinnin like an idiot Indians aint supposed to smile like that Get stoic'"
      ]
     },
     "execution_count": 38,
     "metadata": {},
     "output_type": "execute_result"
    }
   ],
   "source": [
    "import string\n",
    "s = \"First of all, quit grinnin’ like an idiot. Indians ain’t supposed to smile like that. Get stoic.\"\n",
    "excludedCharacters = string.punctuation + \"’\"\n",
    "s = \"\".join(char for char in s if char not in excludedCharacters)\n",
    "s"
   ]
  },
  {
   "cell_type": "code",
   "execution_count": 36,
   "metadata": {},
   "outputs": [
    {
     "data": {
      "text/plain": [
       "'First of all quit grinnin like an idiot Indians aint supposed to smile like that Get stoic'"
      ]
     },
     "execution_count": 36,
     "metadata": {},
     "output_type": "execute_result"
    }
   ],
   "source": [
    "str.maketrans()"
   ]
  },
  {
   "cell_type": "code",
   "execution_count": 16,
   "metadata": {
    "scrolled": true
   },
   "outputs": [
    {
     "data": {
      "text/plain": [
       "[['First',\n",
       "  'of',\n",
       "  'all,',\n",
       "  'quit',\n",
       "  'grinnin’',\n",
       "  'like',\n",
       "  'an',\n",
       "  'idiot.',\n",
       "  'Indians',\n",
       "  'ain’t',\n",
       "  'supposed',\n",
       "  'to',\n",
       "  'smile',\n",
       "  'like',\n",
       "  'that.',\n",
       "  'Get',\n",
       "  'stoic.'],\n",
       " ['No.',\n",
       "  'Like',\n",
       "  'this.',\n",
       "  'You',\n",
       "  'gotta',\n",
       "  'look',\n",
       "  'mean,',\n",
       "  'or',\n",
       "  'people',\n",
       "  'won’t',\n",
       "  'respect',\n",
       "  'you.'],\n",
       " ['people',\n",
       "  'will',\n",
       "  'run',\n",
       "  'all',\n",
       "  'over',\n",
       "  'you',\n",
       "  'if',\n",
       "  'you',\n",
       "  'don’t',\n",
       "  'look',\n",
       "  'mean.'],\n",
       " ['You',\n",
       "  'gotta',\n",
       "  'look',\n",
       "  'like',\n",
       "  'a',\n",
       "  'warrior.',\n",
       "  'You',\n",
       "  'gotta',\n",
       "  'look',\n",
       "  'like',\n",
       "  'you',\n",
       "  'just',\n",
       "  'came',\n",
       "  'back',\n",
       "  'from',\n",
       "  'killing',\n",
       "  'a',\n",
       "  'buffalo.'],\n",
       " ['But',\n",
       "  'our',\n",
       "  'tribe',\n",
       "  'never',\n",
       "  'hunted',\n",
       "  'buffalo.',\n",
       "  'We',\n",
       "  'were',\n",
       "  'fishermen.What?',\n",
       "  'You',\n",
       "  'wanna',\n",
       "  'look',\n",
       "  'like',\n",
       "  'you',\n",
       "  'just',\n",
       "  'came',\n",
       "  'back',\n",
       "  'from',\n",
       "  'catching',\n",
       "  'a',\n",
       "  'fish?'],\n",
       " ['This',\n",
       "  'ain’t',\n",
       "  'dances',\n",
       "  'with',\n",
       "  'salmon,',\n",
       "  'you',\n",
       "  'know.',\n",
       "  'Thomas,',\n",
       "  'you',\n",
       "  'gotta',\n",
       "  'look',\n",
       "  'like',\n",
       "  'a',\n",
       "  'warrior.']]"
      ]
     },
     "execution_count": 16,
     "metadata": {},
     "output_type": "execute_result"
    }
   ],
   "source": [
    "testCorpusTokenized"
   ]
  },
  {
   "cell_type": "markdown",
   "metadata": {},
   "source": [
    "## Word2Vec Implementation"
   ]
  },
  {
   "cell_type": "code",
   "execution_count": null,
   "metadata": {
    "collapsed": true
   },
   "outputs": [],
   "source": [
    "import numpy as np\n",
    "import torch"
   ]
  },
  {
   "cell_type": "markdown",
   "metadata": {},
   "source": [
    "## Exploring Word Embeddings"
   ]
  },
  {
   "cell_type": "markdown",
   "metadata": {},
   "source": [
    "## How Domains Affect Word Embeddings"
   ]
  },
  {
   "cell_type": "code",
   "execution_count": null,
   "metadata": {
    "collapsed": true
   },
   "outputs": [],
   "source": []
  }
 ],
 "metadata": {
  "kernelspec": {
   "display_name": "Python (Computational Methods)",
   "language": "python",
   "name": "compmeth"
  },
  "language_info": {
   "codemirror_mode": {
    "name": "ipython",
    "version": 3
   },
   "file_extension": ".py",
   "mimetype": "text/x-python",
   "name": "python",
   "nbconvert_exporter": "python",
   "pygments_lexer": "ipython3",
   "version": "3.6.8"
  }
 },
 "nbformat": 4,
 "nbformat_minor": 2
}
