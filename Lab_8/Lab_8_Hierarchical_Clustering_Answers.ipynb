{
 "cells": [
  {
   "cell_type": "markdown",
   "metadata": {},
   "source": [
    "# Hierarchical Clustering with Average Linkage\n",
    "In this lab we'll implement hierarchical clustering with average linkage. We'll be using data that looks like some kind of knockoff MNIST data.  \n",
    "\n",
    "![PleaseEnjoyThisLowEffortMeme](https://raw.githubusercontent.com/crowegian/memes/master/thisIsLiterallyAScreenshot.png)\n",
    "\n"
   ]
  },
  {
   "cell_type": "code",
   "execution_count": 1,
   "metadata": {},
   "outputs": [],
   "source": [
    "import numpy as np\n",
    "from scipy import ndimage\n",
    "from matplotlib import pyplot as plt\n",
    "from scipy.spatial.distance import cdist\n",
    "from sklearn import datasets\n",
    "from sklearn import manifold, datasets"
   ]
  },
  {
   "cell_type": "markdown",
   "metadata": {},
   "source": [
    "## Pull Data"
   ]
  },
  {
   "cell_type": "code",
   "execution_count": 2,
   "metadata": {},
   "outputs": [],
   "source": [
    "digits = datasets.load_digits(n_class=10)\n",
    "X = digits.data[0:500,:]\n",
    "y = digits.target[0:500]\n",
    "n_samples, n_features = X.shape\n",
    "X_red = manifold.SpectralEmbedding(n_components=2).fit_transform(X)\n",
    "# NOTE: please work with X_red as it is in 2 dimensions and easier to plot."
   ]
  },
  {
   "cell_type": "code",
   "execution_count": 3,
   "metadata": {},
   "outputs": [
    {
     "data": {
      "text/plain": [
       "<Figure size 432x288 with 0 Axes>"
      ]
     },
     "metadata": {},
     "output_type": "display_data"
    },
    {
     "data": {
      "image/png": "[encoded data removed]",
      "text/plain": [
       "<Figure size 288x288 with 1 Axes>"
      ]
     },
     "metadata": {
      "needs_background": "light"
     },
     "output_type": "display_data"
    }
   ],
   "source": [
    "plt.gray() \n",
    "plt.matshow(digits.images[4]) \n",
    "plt.show() "
   ]
  },
  {
   "cell_type": "markdown",
   "metadata": {},
   "source": [
    "## Coding up Hierarchical Clustering\n",
    "\n",
    "Now we're going to implement hierarchical clustering. I'm following some simple algorithm from [Wikipedi](https://en.wikipedia.org/wiki/Single-linkage_clustering)[a](https://www.youtube.com/watch?v=-50NdPawLVY&t=324s). This is a pretty general implementation, but it's incredibly inefficient. So if things aren't running quickly try reducing the number of observations to help you iterate faster (remember to set n back to 500 before submission). **Before starting I would suggest finding an example online to run through**\n",
    "\n",
    "The main algorithm is as follows\n",
    "\n",
    "1. Begin with the disjoint clustering having height h(0) = 0 and sequence number (algorithm iteration) m = 0.\n",
    "2. Find the most similar pair of clusters in the current clustering, say pair (r), (s), according to d[(r),(s)] = min d[(i),(j)] where the minimum is over all pairs of clusters in the current clustering.\n",
    "3. Increment the sequence number: m = m + 1. Merge clusters (r) and (s) into a single cluster to form the next clustering m. Set the height of this clustering to h(m) = d[(r),(s)] \n",
    "4. Update the distance matrix, D, by deleting the rows and columns corresponding to clusters (r) and (s) and adding a row and column corresponding to the newly formed cluster. The proximity between the new cluster, denoted (r,s) and old cluster (k) is defined as d[(k), (r,s)] = average d[(k),(r)], d[(k),(s)].\n",
    "5. If all objects are in one cluster, stop. Else, go to step 2. Alternatively you can also iterate for n-1 steps like I've implemented. This is because at each step you are merging two clusters into one cluster, so you'l have n-1 steps.\n",
    "\n",
    "You'll want to familiarize yourself with [cdist](https://docs.scipy.org/doc/scipy/reference/generated/scipy.spatial.distance.cdist.html) and [sets](https://docs.python.org/2/library/sets.html). I've used sets of indices to represent all of our clusters. I'll be using euclidean distance for my work and suggest you do as well. If you use a difference distance metric be sure to reflect this change in the sklearn clustering as well."
   ]
  },
  {
   "cell_type": "code",
   "execution_count": 6,
   "metadata": {
    "scrolled": true
   },
   "outputs": [],
   "source": [
    "def fuseClusters(i, j, currentClusters):\n",
    "    \"\"\"\n",
    "    Description: Merges the two clusters located at index i and j in currentClusters. This should be\n",
    "        a rather short chunk of code (~1 line.)\n",
    "    Input: \n",
    "        i,j (int): Indices into currentClusters\n",
    "        currentClusters list(set()): A list of the current clusters at each step in clustering\n",
    "    Output:\n",
    "       clusterSet (set()): The merged clusters.\n",
    "    \"\"\"\n",
    "    assert currentClusters[i].intersection(currentClusters[j]) == set(), \"clusters with overlapping elements is fishy\"\n",
    "    # Your code here\n",
    "    clusterSet = currentClusters[i].union(currentClusters[j])\n",
    "    # End your code\n",
    "    assert len(clusterSet) > 1, \"You should not add any clusters of size 1.\"   \n",
    "    return(clusterSet)\n",
    "\n",
    "def calculateClusterDistances(X, clusterSetList, clusterIdx):\n",
    "    \"\"\"\n",
    "    Description: Calculates the distance between each cluster and the cluster at clusterIdx.\n",
    "        Uses average linking, but you could implement different linkage functions pretty easily.\n",
    "    Input: \n",
    "        X (np matrix): A matrix with observations over rows.\n",
    "        clusterSetList (list(set())): A list of sets where each set contains the cluster merged at step i.\n",
    "            From this list you can create many clusters depending on your cut height.\n",
    "        clusterIdx (int): Cluster wrt calculate the distance to for every other cluster.\n",
    "    Output:\n",
    "        clusterDistances (list): A list of distances of the cluster at clusterIdx to all other clusters.\n",
    "    \"\"\"\n",
    "    n = len(clusterSetList)\n",
    "    clusterDistances = [0]*n# where to store the distance of each cluster to clusterIdx\n",
    "    clusterIdxSubMat = X[list(clusterSetList[clusterIdx]), :]\n",
    "    # Calculate the distance between each cluster and the cluster at clusterIdx using average linkage.\n",
    "    # Your code here\n",
    "    for idx, clusterSet in enumerate(clusterSetList):\n",
    "        allDistances = cdist(clusterIdxSubMat, X[list(clusterSet), :], metric = \"euclidean\")\n",
    "        clusterDistances[idx] = np.average(allDistances)\n",
    "    clusterDistances[clusterIdx] = np.Inf\n",
    "    # End your code\n",
    "    return(clusterDistances)\n",
    "\n",
    "\n",
    "\n",
    "def clusterSanityCheck(clusterSetList, n):\n",
    "    \"\"\"\n",
    "    Description: Performs a sanity check to make sure your clusters make sense. Checks that\n",
    "        each cluster exists only once in clusterSetList, and that the larger clusters occur at the\n",
    "        end of the list. You can ignore these errors by not using this function, but I think they should\n",
    "        be helpful.\n",
    "    Input: \n",
    "        clusterSetList (list(set())): A list of sets where each set contains the cluster merged at step i.\n",
    "            From this list you can create many clusters depending on your cut height.\n",
    "        n (int): The number of observations in the dataset\n",
    "    Output:\n",
    "        Not really important. Will error out if something is weird.\n",
    "        \n",
    "    \"\"\"\n",
    "    previousClusters = []\n",
    "    for i in range(n):\n",
    "        prevSet = set()\n",
    "        for clusterSet in clusterSetList:\n",
    "            if i == 0:\n",
    "                assert clusterSet not in previousClusters, \"cluster exists twice in cluster list\\n{}\".format(clusterSet)\n",
    "                previousClusters.append(clusterSet)\n",
    "            if i in clusterSet:\n",
    "                assert prevSet.issubset(clusterSet), \"element {} might occur in multiple sets\".format(i)\n",
    "                prevSet = clusterSet\n",
    "    return(True)\n",
    "\n",
    "\n",
    "\n",
    "def hclust(X):\n",
    "    \"\"\"\n",
    "    Description: Performs hierarchical clustering on the data in X. This follows the algorithm above\n",
    "        pretty closely. It is important to note that I keep track of most of the information in lists as\n",
    "        order is important, and that a cluster is represented by a set of indices allowing us to find\n",
    "        the original representation of each datapoint.\n",
    "    Input: \n",
    "        X (np matrix): A matrix with observations over rows.\n",
    "    Output:\n",
    "        clusterSetList (list(set())): A list of sets where each set contains the cluster merged at step i.\n",
    "            From this list you can create many clusters depending on your cut height.\n",
    "        clusterHeightList (list(float)): A list of floats. Each value is the height that each cluster was \n",
    "            merged at.\n",
    "    \"\"\"\n",
    "    n, m = X.shape\n",
    "    infDiag = np.zeros((n, n), float)# this will come in handy so the algorithm doesn't keep choosing \n",
    "    # to merge the same elements over and over because of their distance along the diagonal.\n",
    "    np.fill_diagonal(infDiag, np.inf)\n",
    "\n",
    "    \n",
    "    # we want to hold on to two lists. A list of sets representing the initial single element\n",
    "    # clusters and clusters at each iteration and a list of ints representing the height that\n",
    "    # each cluster was merged at.\n",
    "    \n",
    "    singleClusterSetList = [set([x]) for x in range(n)]# the single element clusters\n",
    "    singleClusterSetList.extend([set()]*(n-1))# a list containing the most recent cluster at each step\n",
    "    clusterSetList = singleClusterSetList\n",
    "\n",
    "    singleClusterHeight = [0 for x in range(n)]# corresponds to above.\n",
    "    singleClusterHeight.extend([0]*(n-1))\n",
    "    clusterHeightList = singleClusterHeight\n",
    "\n",
    "    pairWiseDistMat = cdist(X, X, metric = \"euclidean\") + infDiag\n",
    "    currentClusters =  [set([x]) for x in range(n)]# single clusters first\n",
    "    # this element is used for this function only and keeps track of the current clusters instead of all\n",
    "    # clusters at each iteration.\n",
    "\n",
    "    clusterIndx = 0 + n# +n to get beyond the initial single element clusters\n",
    "    for i in range(0 + n, n-1 + n):\n",
    "        # Your code here\n",
    "        ##STEP 2##\n",
    "        i_min,j_min = np.unravel_index(pairWiseDistMat.argmin(), pairWiseDistMat.shape)# get the \n",
    "        # index of the two closest observations i, j where i!= j\n",
    "        ##STEP 3##\n",
    "        height = pairWiseDistMat[i_min,j_min]\n",
    "        clusterSet = fuseClusters(i_min, j_min, currentClusters)\n",
    "        ##STEP 4##\n",
    "        # deleting rows and columns of distance mat corresponding to i_min and j_min clusters\n",
    "        pairWiseDistMat = np.delete(pairWiseDistMat, [i_min, j_min], axis = 0)\n",
    "        pairWiseDistMat = np.delete(pairWiseDistMat, [i_min, j_min], axis = 1)\n",
    "        # Updating the current cluster set to remove previous clusters and add the fused cluster\n",
    "        currentClusters = [clust for idx, clust in enumerate(currentClusters) if idx not in [i_min, j_min]]\n",
    "        assert clusterSet not in clusterSetList, \"about to add a set twice.\\n{}\".format(clusterSet)\n",
    "        currentClusters.append(clusterSet)\n",
    "        clusterSetList[clusterIndx] = clusterSet\n",
    "        clusterHeightList[clusterIndx] = height\n",
    "        # update pairwise distance matrix with the pairwise distance for the new cluster\n",
    "        newPairWiseDistance = calculateClusterDistances(X = X, clusterSetList = currentClusters, clusterIdx = -1)\n",
    "        pairWiseDistMat = np.pad(pairWiseDistMat, (0,1), 'constant', constant_values=(23))\n",
    "        pairWiseDistMat[-1,:] = newPairWiseDistance\n",
    "        pairWiseDistMat[:,-1] = newPairWiseDistance\n",
    "        clusterIndx += 1\n",
    "    # End your code\n",
    "    clusterSanityCheck(clusterSetList, n)\n",
    "\n",
    "    assert len(clusterHeightList) == len(clusterSetList), \"each cluster needs a merge height\"\n",
    "    return(clusterSetList, clusterHeightList)\n",
    "\n",
    "\n",
    "clusterSetList, clusterHeightList = hclust(X_red)"
   ]
  },
  {
   "cell_type": "code",
   "execution_count": 7,
   "metadata": {},
   "outputs": [],
   "source": [
    "def clusterAssignments(clusterSetList, clusterHeightList, cutOffheight):\n",
    "    \"\"\"\n",
    "    Description: Determine cluster assignments  for each element using the clusters at created at\n",
    "        each iteration and a cutoff height.\n",
    "    Input: \n",
    "        clusterSetList (list(set())): A list of sets where each set contains the cluster merged at step i.\n",
    "            From this list you can create many clusters depending on your cut height.\n",
    "        clusterHeightList (list(float)): A list of floats. Each value is the height that each cluster was \n",
    "            merged at.\n",
    "        cutOffheight (int): Only consider clusters with a height below this value\n",
    "    Output:\n",
    "        maximalClusterSets (list(set)): This should the set of top level clusters which are under the height\n",
    "            cutoff.\n",
    "        clusterLabels (list): Maps each observation to it's cluster. Cluster values are arbitrary, but starting\n",
    "        with the first maximal cluster as cluster number 1 isn't bad.\n",
    "    \"\"\"\n",
    "    maximalClusterSets = []\n",
    "    n = 0\n",
    "    # Your code here\n",
    "    for clusterSetCandidate, clusterHeight in zip(reversed(clusterSetList), reversed(clusterHeightList)):\n",
    "        if clusterHeight > cutOffheight:\n",
    "            continue\n",
    "        notASubset = True\n",
    "        for clusterToCheck in maximalClusterSets:\n",
    "            if clusterSetCandidate.issubset(clusterToCheck):\n",
    "                notASubset = False\n",
    "        if notASubset:\n",
    "            maximalClusterSets.append(clusterSetCandidate)\n",
    "            n += len(clusterSetCandidate)\n",
    "    # End your code\n",
    "    clusterLabels = [-1]*n\n",
    "    # Your code here\n",
    "    for clustNum, clusterSet in enumerate(maximalClusterSets):\n",
    "        for elem in clusterSet:\n",
    "            clusterLabels[elem] = clustNum\n",
    "    # End your code\n",
    "    return(maximalClusterSets, clusterLabels)"
   ]
  },
  {
   "cell_type": "markdown",
   "metadata": {},
   "source": [
    "### Choosing the number of clusters\n",
    "There are many ways to choose the number of clusters, but because we know there should be 10 clusters in our digit dataset we can vary the height cutoff to get as close to 10 as possible. The closer the better as this will help with checking your answers. In general this would be done by plotting the dendrogram of the clustering, and choosing the height by inspection. Instead you'll have to do a bit of guess and check to find a good height which gives you around 10 clusters. \n",
    "\n",
    "There are much better ways. **Please also describe one way in which you might use the true labels of the data to determine the best number of clusters**\n",
    "\n",
    "### Answer"
   ]
  },
  {
   "cell_type": "code",
   "execution_count": 21,
   "metadata": {},
   "outputs": [
    {
     "name": "stdout",
     "output_type": "stream",
     "text": [
      "With a cutoff of 0.0043 you have 10 clusters\n"
     ]
    }
   ],
   "source": [
    "# Your code Here\n",
    "myCutoffHeight = 0.0043\n",
    "# End your code\n",
    "maximalClusterSets, clusterLabels = clusterAssignments(clusterSetList, clusterHeightList, cutOffheight = myCutoffHeight)\n",
    "print(\"With a cutoff of {} you have {} clusters\".format(myCutoffHeight, len(maximalClusterSets)))"
   ]
  },
  {
   "cell_type": "code",
   "execution_count": 19,
   "metadata": {},
   "outputs": [],
   "source": [
    "# code snagged from https://scikit-learn.org/stable/auto_examples/cluster/plot_digits_linkage.html\n",
    "def plot_clustering(X_red, labels, title=None):\n",
    "    x_min, x_max = np.min(X_red, axis=0), np.max(X_red, axis=0)\n",
    "    X_red = (X_red - x_min) / (x_max - x_min)\n",
    "\n",
    "    plt.figure(figsize=(6, 4))\n",
    "    for i in range(X_red.shape[0]):\n",
    "        plt.text(X_red[i, 0], X_red[i, 1], str(y[i]),\n",
    "                 color=plt.cm.nipy_spectral(labels[i] / 10.),\n",
    "                 fontdict={'weight': 'bold', 'size': 9})\n",
    "\n",
    "    plt.xticks([])\n",
    "    plt.yticks([])\n",
    "    if title is not None:\n",
    "        plt.title(title, size=17)\n",
    "    plt.axis('off')\n",
    "    plt.tight_layout(rect=[0, 0.03, 1, 0.95])"
   ]
  },
  {
   "cell_type": "markdown",
   "metadata": {},
   "source": [
    "### Plotting Cluster colors\n",
    "Now we want to make sure that our algorithm does what we intend it to do. You should plot your code with your labels, and compare it to the plot sklearn's hierarchical clustering iwth average linkage. They should look very similar if not the same, minus color differences."
   ]
  },
  {
   "cell_type": "code",
   "execution_count": 20,
   "metadata": {},
   "outputs": [
    {
     "data": {
      "image/png": "[encoded data removed]",
      "text/plain": [
       "<Figure size 432x288 with 1 Axes>"
      ]
     },
     "metadata": {},
     "output_type": "display_data"
    }
   ],
   "source": [
    "\n",
    "\n",
    "plot_clustering(X_red, clusterLabels, \"Your own code for clustering\")\n",
    "\n",
    "\n",
    "plt.show()\n"
   ]
  },
  {
   "cell_type": "code",
   "execution_count": 11,
   "metadata": {},
   "outputs": [
    {
     "name": "stdout",
     "output_type": "stream",
     "text": [
      "Average linkage run time :\t0.02s\n"
     ]
    },
    {
     "data": {
      "image/png": "[encoded data removed]",
      "text/plain": [
       "<Figure size 432x288 with 1 Axes>"
      ]
     },
     "metadata": {},
     "output_type": "display_data"
    }
   ],
   "source": [
    "from sklearn.cluster import AgglomerativeClustering\n",
    "from time import time\n",
    "clustering = AgglomerativeClustering(linkage = \"average\", n_clusters=10)\n",
    "t0 = time()\n",
    "clustering.fit(X_red)\n",
    "print(\"Average linkage run time :\\t%.2fs\" % (time() - t0))\n",
    "\n",
    "plot_clustering(X_red, clustering.labels_, \"Sklearn for clustering\")\n",
    "\n",
    "\n",
    "plt.show()"
   ]
  },
  {
   "cell_type": "code",
   "execution_count": null,
   "metadata": {},
   "outputs": [],
   "source": []
  }
 ],
 "metadata": {
  "kernelspec": {
   "display_name": "Python (Computational Methods)",
   "language": "python",
   "name": "computational_methods"
  },
  "language_info": {
   "codemirror_mode": {
    "name": "ipython",
    "version": 3
   },
   "file_extension": ".py",
   "mimetype": "text/x-python",
   "name": "python",
   "nbconvert_exporter": "python",
   "pygments_lexer": "ipython3",
   "version": "3.6.8"
  }
 },
 "nbformat": 4,
 "nbformat_minor": 2
}
