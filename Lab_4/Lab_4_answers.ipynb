{
 "cells": [
  {
   "cell_type": "markdown",
   "metadata": {},
   "source": [
    "![spicy_meme](https://github.com/crowegian/memes/blob/master/overfittingMemesAreMyLife.jpg?raw=true)\n"
   ]
  },
  {
   "cell_type": "markdown",
   "metadata": {},
   "source": [
    "# Notes For TA:\n",
    "This lab might be too hard. It's easier if you know how to work around creating python classes with what you need, but even then trainig can go wrong so you need to be able to experiment with different loss functions (BCE vs BCEWithLogits)."
   ]
  },
  {
   "cell_type": "markdown",
   "metadata": {},
   "source": [
    "# Implementing Binary Classification Models\n",
    "Today you'll learn to implement 3 binary classifcation models starting with logistic regression. Logistic regression is a standard model, and as you'll see it's simple to change certain parts of its implementation to end up with completely different models. We won't go into it today, but these small changes can make models perform very differently under the same conditions."
   ]
  },
  {
   "cell_type": "markdown",
   "metadata": {},
   "source": [
    "### First start out by installing SciKit-learn\n",
    "Install Scikit-learn into your computational methods environment with `conda install scikit-learn`\n",
    "Scikit-learn is a great library to be comfortable with, as it allows you to perform a lot of the routine data science steps quickly."
   ]
  },
  {
   "cell_type": "code",
   "execution_count": 1,
   "metadata": {},
   "outputs": [],
   "source": [
    "import numpy as np\n",
    "import torch\n",
    "import torch.nn as nn\n",
    "from sklearn.datasets import load_breast_cancer\n",
    "from sklearn.model_selection import train_test_split\n",
    "import matplotlib.pyplot as plt"
   ]
  },
  {
   "cell_type": "markdown",
   "metadata": {},
   "source": [
    "# Part 1: Let's get this data, fam\n",
    "Load in the breast cancer dataset from Scikit-learn, and perform a random train, validation split on the data. You'll want four variables `X_train`, `X_val`, `Y_train` and `Y_val`.\n",
    "\n",
    "Tips:\n",
    "1. Scitkit-learn has a lot of functionality for machine learning projects. Look into how you might get a random training and validation split from your data\n",
    "2. When you're building your own models a lot of things can go wrong. Like, a lot. And it happens to the best of us. One way you can troubleshoot your models is to use a trivial subset of the entire training data, say ~10 examples, and make sure your model can perfectly learn these examples. I would suggest adding in a switch to allow you to perform testing runs where you reduce your dataset to ~10 examples."
   ]
  },
  {
   "cell_type": "code",
   "execution_count": 2,
   "metadata": {},
   "outputs": [
    {
     "name": "stdout",
     "output_type": "stream",
     "text": [
      "n Train: 398\n",
      "n Val: 171\n"
     ]
    }
   ],
   "source": [
    "#### your code here ####\n",
    "TESTING = False\n",
    "data = load_breast_cancer()\n",
    "n = data.data.shape[0]\n",
    "valFrac = 0.3\n",
    "X = data.data\n",
    "Y = data.target.reshape([X.shape[0], 1])\n",
    "X_train, X_val, Y_train, Y_val = train_test_split(X, Y, test_size = valFrac, random_state = 1876)\n",
    "if TESTING:\n",
    "    X_train = X_train[0:10,:]\n",
    "    X_val = X_train\n",
    "    Y_train = Y_train[0:10]\n",
    "    Y_val = Y_train\n",
    "X_train = torch.from_numpy(X_train).float()\n",
    "X_val = torch.from_numpy(X_val).float()\n",
    "Y_train = torch.from_numpy(Y_train).float()\n",
    "Y_val = torch.from_numpy(Y_val).float()\n",
    "print(\"n Train: {}\\nn Val: {}\".format(X_train.shape[0], X_val.shape[0]))"
   ]
  },
  {
   "cell_type": "markdown",
   "metadata": {},
   "source": [
    "# Part 2: Classification Functions"
   ]
  },
  {
   "cell_type": "markdown",
   "metadata": {},
   "source": [
    "## Logistic Regression\n",
    "Logistic regression is your bread and butter baseline classification model. Before implementing anything too fancy, you should see how far logistic regression can get you. When should you use logistic regression? Whenever you're performing supervised learning and have a binary response variable (only two classes). Luckily for us, most of the math for a logistic regression model has already been worked out in Lab 3 with linear regression. But there's just one problem, linear regression is unbounded, and if we're doing classification we want our model to predict the probability of a model belonging to one class or the other. So instead of letting our model's outputs be between $-\\infty$ and $\\infty$ we want to constrain it between $0$ and $1$.\n",
    "\n",
    "To blatantly plagiarize another TAs work, in least squares linear regression we have a feature matrix $X$ and a set of corresponding outcomes $Y$, and the goal is to learn a $\\beta$ such that $\\hat{Y} = X^\\top \\beta + \\epsilon$ minimizes the loss function $\\sum_i (Y - \\hat{Y})^2$, with $\\mathbb{E}[\\epsilon] = 0$.\n",
    "\n",
    "Using the input $X$ and our model parameters $\\beta$ we'll convert linear regression into logistic regression. First, why do we want to bound our model between $0$ and $1$? Because we're doing classification we need an easy way to define when our prediction is for one class or the other, and if our model can only output probabilities then we can use a cutoff (say $0.5$) and bin every observation into a class. Squashing inputs between $0$ and $1$ is done using the sigmoid function $\\sigma(a) = \\frac{1}{1 + exp(-a)}$. Using our inputs $X$, our learned parameters $\\beta$ and $\\sigma(\\cdot)$ we have the makings of greatness, or at least some kind of baseline model. We write the probability of our 'positive' class (an arbiterary designation) as $$p(Y = 1|X;\\beta) = \\sigma(\\beta^{T}X)$$ and our 'negative' class as $$p(Y = 0|X;\\beta) = 1 - \\sigma(\\beta^{T}X)$$ For simplicity's sake let $a = \\beta^{T}X$ or $a_i = \\beta^{T}x_i$ for a specific observation for he remainder of this cell\n",
    "\n",
    "The loss function for logistic regression is similar to what we used in Lab 2 for MLE. For a single observation $x_i$ and its response variable $y_i$ we define our prediction's loss as $L(\\beta;y_i, x_i) = \\sigma(a_i)^{y_i}(1 - \\sigma(a_i))^{1-y_i}$. And for an entire dataset of $n$ examples after taking the log our loss is\n",
    "\n",
    "$$\\frac{-1}{n}\\sum_{i=1}^n y_ilog(\\sigma(a_i)) + (1-y_i)log(1-\\sigma(a_i))$$\n",
    "\n",
    "Using our usual tools of gradient descent, and stochastic gradient descent we can now learn the parameters $\\beta$ which minimize our loss\n"
   ]
  },
  {
   "cell_type": "code",
   "execution_count": 3,
   "metadata": {},
   "outputs": [],
   "source": [
    "class binaryClassifier(nn.Module):\n",
    "    \"\"\"\n",
    "        A general classifier that can use multiple activation functions, or none at all.\n",
    "        By making the activation function we use an argument during initialization we don't\n",
    "        have to make a different function every time we want to change up the activation\n",
    "        function. We want to also have the option of having no activation function, so the \n",
    "        model behaves just like a linear regression without an activation function.\n",
    "    \"\"\"\n",
    "    # The class constructor defines the parameters (ie layers) of the neural network\n",
    "    # add an init function which allows us to pass in arbitrary activation functions\n",
    "    # and defaults to None.\n",
    "    \n",
    "    \n",
    "    #### your code here ####\n",
    "    def __init__(self, nFeats, activationFunction = None):\n",
    "    #### end your code ####\n",
    "    \n",
    "    \n",
    "        super(binaryClassifier, self).__init__()\n",
    "        # What type of parameters do we need to add?\n",
    "        \n",
    "        \n",
    "        self.linear = nn.Linear(in_features = nFeats, out_features = 1)\n",
    "        # Do not remove the line below. It allows the model to learn by initializing small weights\n",
    "        self.linear.weight= torch.nn.init.xavier_uniform_(self.linear.weight, gain = 0.001)\n",
    "        \n",
    "        \n",
    "        # Store the activation function in our object\n",
    "        #### your code here ####\n",
    "        self.activationFunction = activationFunction\n",
    "        #### end your code ####\n",
    "        \n",
    "        \n",
    "        \n",
    "    def forward(self, x):\n",
    "        # Write a forward pass function which optionally uses the activation function\n",
    "        #### your code here ####\n",
    "        if self.activationFunction is None:\n",
    "            out = self.linear(x)\n",
    "        else:\n",
    "            out = self.activationFunction(self.linear(x))\n",
    "        return(out)\n",
    "        #### end your code ####"
   ]
  },
  {
   "cell_type": "code",
   "execution_count": 4,
   "metadata": {},
   "outputs": [],
   "source": [
    "# Initialize a binaryClassifier object, with the appropriate loss function from torch.nn.\n",
    "# Tip: Pytorch defines multiple loss functions. Look them up and see which one is in line\n",
    "    # with the loss function we defined for a logistic regression model\n",
    "#### your code here ####\n",
    "logisticRegressionModel = binaryClassifier(nFeats = X_train.shape[1], activationFunction = None)\n",
    "lossFunction = nn.BCEWithLogitsLoss()\n",
    "optimizer = torch.optim.SGD(logisticRegressionModel.parameters(), lr = .00001, momentum = 0.9)\n",
    "#### end your code ####"
   ]
  },
  {
   "cell_type": "markdown",
   "metadata": {},
   "source": [
    "### Learning our logistic model\n",
    "Now we're ready to learn our model. Using the skeleton code below fill in what you'll need to perform a forward pass, calculate the loss, and update the parameters at each epoch. **Keep track of and plot your training and validation loss at each step** after the model converges"
   ]
  },
  {
   "cell_type": "code",
   "execution_count": 5,
   "metadata": {
    "scrolled": true
   },
   "outputs": [
    {
     "name": "stdout",
     "output_type": "stream",
     "text": [
      "loss 0.693, val loss 0.688\n",
      "loss 0.538, val loss 0.510\n",
      "loss 0.418, val loss 0.387\n",
      "loss 0.359, val loss 0.336\n",
      "loss 0.324, val loss 0.307\n",
      "loss 0.301, val loss 0.289\n",
      "loss 0.285, val loss 0.276\n",
      "loss 0.273, val loss 0.267\n",
      "loss 0.265, val loss 0.259\n",
      "loss 0.258, val loss 0.254\n"
     ]
    }
   ],
   "source": [
    "epochs = 100\n",
    "logisticLossVal = []\n",
    "logisticLossTrain = []\n",
    "for epoch in range(epochs):\n",
    "    #### your code here ####   \n",
    "    # Estimate Y_hat with the current model\n",
    "    Y_hat = logisticRegressionModel(X_train)\n",
    "    \n",
    "    # Compute the training\n",
    "    loss = lossFunction(Y_hat, Y_train)\n",
    "    logisticLossTrain.append(loss.data.numpy())\n",
    "    # compute the validation loss and store it.\n",
    "    valLoss = lossFunction(logisticRegressionModel(X_val), Y_val)\n",
    "    logisticLossVal.append(valLoss.data.numpy())\n",
    "    # Compute the gradient of the loss\n",
    "    optimizer.zero_grad()\n",
    "    loss.backward()\n",
    "    optimizer.step()\n",
    "    \n",
    "    if epoch % 10 == 0:\n",
    "        print(\"loss {0:.3f}, val loss {1:.3f}\".format(logisticLossTrain[-1],\n",
    "                                           logisticLossVal[-1]))\n",
    "#### end your code ####"
   ]
  },
  {
   "cell_type": "code",
   "execution_count": 6,
   "metadata": {},
   "outputs": [
    {
     "data": {
      "image/png": "[encoded data removed]",
      "text/plain": [
       "<Figure size 432x288 with 1 Axes>"
      ]
     },
     "metadata": {
      "needs_background": "light"
     },
     "output_type": "display_data"
    }
   ],
   "source": [
    "plt.plot(logisticLossTrain, color = \"skyblue\", label = \"train loss\")\n",
    "plt.plot(logisticLossVal, color = 'orange', label = \"val loss\")\n",
    "plt.legend()\n",
    "plt.title(\"Logistic Regression Loss over time\")\n",
    "plt.show()"
   ]
  },
  {
   "cell_type": "markdown",
   "metadata": {},
   "source": [
    "## Probit Model\n",
    "\n",
    "We defined $p(Y = 1|a) = \\sigma(a)$ in logistic regression, but the more general form of a linear model would be $p(Y = 1|X;\\beta) = f(\\beta^{T}X)$ where $f(\\cdot)$ is known as an activation function. Another activation function we could have used is known as the inverse probit function which is the cumulative distribution function of a standard normal defined as $\\Phi(a) = \\frac{1}{2}(1 + erf(\\frac{1}{\\sqrt{2}}))$ (Did you hear that? That was the sound of an absolute ton of details being skipped over. For more information about probit regression go [here](https://en.wikipedia.org/wiki/Probit_model)). Here $erf(\\cdot)$ is known as the error function. All the same steps apply for the logistic regression example, except instead of $\\sigma(\\cdot)$ we use $\\Phi(\\cdot)$\n",
    "\n",
    "$$\\frac{-1}{n}\\sum_{i=1}^n y_ilog(\\Phi(a_i)) + (1-y_i)log(1-\\Phi(a_i))$$\n",
    "\n",
    "\n",
    "\n",
    "Tips:\n",
    "1. For the love of your weekend don't try to implement the CDF of a normal distribution. Search around and find out how you can get the cdf of different distributions in using Pytorch."
   ]
  },
  {
   "cell_type": "code",
   "execution_count": 7,
   "metadata": {
    "collapsed": true
   },
   "outputs": [],
   "source": [
    "# Initialize a binaryClassifier object, with the appropriate loss function from torch.nn, and the\n",
    "# activation function discussed above.\n",
    "# Tip: If you notice the model is not learning, or the loss is going up, try tuning the learning rate\n",
    "#### your code here ####\n",
    "normDist = torch.distributions.normal.Normal(0, 1)\n",
    "probitRegressionModel = binaryClassifier(nFeats = X_train.shape[1], activationFunction = normDist.cdf)\n",
    "lossFunction = nn.BCELoss()\n",
    "optimizer = torch.optim.SGD(probitRegressionModel.parameters(), lr = .000001, momentum = 0.9)\n",
    "#### end your code ####"
   ]
  },
  {
   "cell_type": "markdown",
   "metadata": {},
   "source": [
    "### Learning our probit model\n",
    "Now we're ready to learn our model. Using the skeleton code below fill in what you'll need to perform a forward pass, calculate the loss, and update the parameters at each epoch. **Keep track of and plot your training and validation loss at each step** after the model converges"
   ]
  },
  {
   "cell_type": "code",
   "execution_count": 8,
   "metadata": {
    "scrolled": true
   },
   "outputs": [
    {
     "name": "stdout",
     "output_type": "stream",
     "text": [
      "loss 0.673, val loss 0.664\n",
      "loss 0.621, val loss 0.602\n",
      "loss 0.553, val loss 0.526\n",
      "loss 0.501, val loss 0.472\n",
      "loss 0.464, val loss 0.434\n",
      "loss 0.436, val loss 0.408\n",
      "loss 0.415, val loss 0.387\n",
      "loss 0.397, val loss 0.371\n",
      "loss 0.381, val loss 0.358\n",
      "loss 0.368, val loss 0.346\n"
     ]
    }
   ],
   "source": [
    "epochs = 100\n",
    "probitLossTrain = []\n",
    "probitLossVal = []\n",
    "for epoch in range(epochs):\n",
    "    #### your code here ####\n",
    "    # Estimate Y_hat with the current model\n",
    "    \n",
    "    Y_hat = probitRegressionModel(X_train)\n",
    "    \n",
    "    # Compute the loss\n",
    "    loss = lossFunction(Y_hat, Y_train)\n",
    "    probitLossTrain.append(loss.data.numpy())\n",
    "    # compute the validation loss and store it.\n",
    "    valLoss = lossFunction(probitRegressionModel(X_val), Y_val)\n",
    "    probitLossVal.append(valLoss.data.numpy())\n",
    "    \n",
    "    # Compute the gradient of the loss\n",
    "    optimizer.zero_grad()\n",
    "    loss.backward()\n",
    "    optimizer.step()\n",
    "    \n",
    "    if epoch % 10 == 0:\n",
    "        print(\"loss {0:.3f}, val loss {1:.3f}\".format(probitLossTrain[-1],\n",
    "                                           probitLossVal[-1]))\n",
    "    #### end your code ####"
   ]
  },
  {
   "cell_type": "code",
   "execution_count": 9,
   "metadata": {},
   "outputs": [
    {
     "data": {
      "image/png": "[encoded data removed]",
      "text/plain": [
       "<Figure size 432x288 with 1 Axes>"
      ]
     },
     "metadata": {
      "needs_background": "light"
     },
     "output_type": "display_data"
    }
   ],
   "source": [
    "plt.plot(probitLossTrain, color = \"skyblue\", label = \"train loss\")\n",
    "plt.plot(probitLossVal, color = 'orange', label = \"val loss\")\n",
    "plt.legend()\n",
    "plt.title(\"Probit Regression Loss over time\")\n",
    "plt.show()"
   ]
  },
  {
   "cell_type": "markdown",
   "metadata": {},
   "source": [
    "## Hinge Loss\n",
    "We can also change the loss function we use in logistic regression to the hinge loss by reconfiguring how we view the data. To do this we formulate our response variable as either $-1$ or $1$. The hinge loss is $l(y_i, a) = max(0, 1 - y_i*a_i))$ where $a_i = \\beta^Tx_i$. The intuition behind this is that we don't care exactly what our model predicts, we just want the sign to be right. If our $a$ has the same sign as $y$ and $|a|\\geq1$ no loss is incurred, but if $a$ and $y$ have opposite signs or $|a| < 1$ a linearly increasing.\n",
    "\n",
    "The loss above is for a single observation, but as with the other loss functions we take the average over many examples. **Implement the hinge loss below and use it to train a new model**\n",
    "\n",
    "Note: The hinge loss is used a class of models known as [support vector machines](https://en.wikipedia.org/wiki/Support-vector_machine), which attempt to cleanly separate data onto either side of a hyperplane, and maximizes the distance between the closest points on either side or margin. "
   ]
  },
  {
   "cell_type": "code",
   "execution_count": 10,
   "metadata": {
    "collapsed": true
   },
   "outputs": [],
   "source": [
    "def myHingeLoss(a, y):\n",
    "    #### your code here ####\n",
    "    out = torch.max(y*0, 1 - y*a)\n",
    "    out = torch.mean(out)\n",
    "    return(out)\n",
    "    #### end your code ####"
   ]
  },
  {
   "cell_type": "code",
   "execution_count": 11,
   "metadata": {},
   "outputs": [],
   "source": [
    "# Initialize a binaryClassifier object, with the loss function defined above.\n",
    "#### your code here ####\n",
    "hingeLossModel = binaryClassifier(nFeats = X_train.shape[1], activationFunction = None)\n",
    "lossFunction = myHingeLoss\n",
    "optimizer = torch.optim.SGD(hingeLossModel.parameters(), lr = .00001, momentum = 0.9)\n",
    "#### end your code ####"
   ]
  },
  {
   "cell_type": "code",
   "execution_count": 12,
   "metadata": {
    "collapsed": true
   },
   "outputs": [],
   "source": [
    "# The hinge loss model requires our data is -1 or 1.\n",
    "Y_train_hinge = Y_train.clone().detach()# I'm performing a deep copy of the model here. Otherwise\n",
    "# I'd just get a pointer to the original and weird things would happen.\n",
    "Y_train_hinge[Y_train_hinge == 0] = -1\n",
    "Y_val_hinge = Y_val.clone().detach()\n",
    "Y_val_hinge[Y_val_hinge == 0] = -1"
   ]
  },
  {
   "cell_type": "markdown",
   "metadata": {},
   "source": [
    "### Learning our hinge loss model\n",
    "Now we're ready to learn our model. Using the skeleton code below fill in what you'll need to perform a forward pass, calculate the loss, and update the parameters at each epoch. **Keep track of and plot your training and validation loss at each step** after the model converges"
   ]
  },
  {
   "cell_type": "code",
   "execution_count": 13,
   "metadata": {
    "scrolled": true
   },
   "outputs": [
    {
     "name": "stdout",
     "output_type": "stream",
     "text": [
      "loss 1.064, val loss 1.084\n",
      "loss 2.367, val loss 2.685\n",
      "loss 0.738, val loss 0.669\n",
      "loss 0.357, val loss 0.328\n",
      "loss 0.302, val loss 0.273\n",
      "loss 0.250, val loss 0.232\n",
      "loss 0.229, val loss 0.223\n",
      "loss 0.216, val loss 0.212\n",
      "loss 0.209, val loss 0.206\n",
      "loss 0.207, val loss 0.202\n"
     ]
    }
   ],
   "source": [
    "epochs = 100\n",
    "logisticHingeLossTrain = []\n",
    "logisticHingeLossVal = []\n",
    "for epoch in range(epochs):\n",
    "    #### your code here ####\n",
    "    # Estimate Y_hat with the current model\n",
    "    \n",
    "    Y_hat = hingeLossModel(X_train)\n",
    "    \n",
    "    # Compute the loss\n",
    "    loss = lossFunction(Y_hat,Y_train_hinge)\n",
    "    logisticHingeLossTrain.append(loss.data.numpy())\n",
    "    # compute the validation loss and store it.\n",
    "    valLoss = lossFunction(hingeLossModel(X_val), Y_val_hinge)\n",
    "#     if epoch % 100 == 0:\n",
    "#         print(valLoss)\n",
    "    logisticHingeLossVal.append(valLoss.data.numpy())        \n",
    "    # Compute the gradient of the loss\n",
    "    optimizer.zero_grad()\n",
    "    loss.backward()\n",
    "    optimizer.step()\n",
    "    \n",
    "    if epoch % 10 == 0:\n",
    "        print(\"loss {0:.3f}, val loss {1:.3f}\".format(logisticHingeLossTrain[-1],\n",
    "                                           logisticHingeLossVal[-1]))\n",
    "    #### end your code ####"
   ]
  },
  {
   "cell_type": "code",
   "execution_count": 12,
   "metadata": {},
   "outputs": [],
   "source": [
    "x = None\n",
    "None"
   ]
  },
  {
   "cell_type": "code",
   "execution_count": 11,
   "metadata": {},
   "outputs": [
    {
     "data": {
      "text/plain": [
       "False"
      ]
     },
     "execution_count": 11,
     "metadata": {},
     "output_type": "execute_result"
    }
   ],
   "source": [
    "x is None"
   ]
  },
  {
   "cell_type": "code",
   "execution_count": 14,
   "metadata": {},
   "outputs": [
    {
     "data": {
      "image/png": "[encoded data removed]",
      "text/plain": [
       "<Figure size 432x288 with 1 Axes>"
      ]
     },
     "metadata": {
      "needs_background": "light"
     },
     "output_type": "display_data"
    }
   ],
   "source": [
    "plt.plot(logisticHingeLossTrain, color = \"skyblue\", label = \"train loss\")\n",
    "plt.plot(logisticHingeLossVal, color = 'orange', label = \"val loss\")\n",
    "plt.legend()\n",
    "plt.title(\"Hinge Regression Loss over time\")\n",
    "plt.show()"
   ]
  },
  {
   "cell_type": "markdown",
   "metadata": {},
   "source": [
    "# Part 3: Overfitting\n",
    "In class we talked about a overfitting a model, where the model learns the training data so well that it no longer generalizes to the validation or test set. **In this section train a model that overfits the training data to the point where validation performance suffers. Describe what you did and plot the validation and training loss across epochs** Depending on how your split your data you may have already seen overfitting. In that case just make your model overfit even more."
   ]
  },
  {
   "cell_type": "code",
   "execution_count": 15,
   "metadata": {},
   "outputs": [
    {
     "name": "stdout",
     "output_type": "stream",
     "text": [
      "loss 0.723, val loss 0.745\n",
      "loss 0.198, val loss 0.206\n",
      "loss 0.190, val loss 0.198\n",
      "loss 0.185, val loss 0.193\n",
      "loss 0.181, val loss 0.190\n",
      "loss 0.179, val loss 0.188\n",
      "loss 0.176, val loss 0.187\n",
      "loss 0.175, val loss 0.186\n",
      "loss 0.173, val loss 0.185\n",
      "loss 0.172, val loss 0.184\n",
      "loss 0.171, val loss 0.183\n",
      "loss 0.170, val loss 0.183\n",
      "loss 0.169, val loss 0.182\n",
      "loss 0.168, val loss 0.181\n",
      "loss 0.167, val loss 0.180\n",
      "loss 0.167, val loss 0.180\n",
      "loss 0.166, val loss 0.179\n",
      "loss 0.165, val loss 0.178\n",
      "loss 0.164, val loss 0.178\n",
      "loss 0.164, val loss 0.177\n"
     ]
    }
   ],
   "source": [
    "## Increasing the number of epochs should get the trick done. Could also add in extra parameters but that\n",
    "# sounds like work\n",
    "logisticRegressionModel = binaryClassifier(nFeats = X_train.shape[1], activationFunction = None)\n",
    "lossFunction = nn.BCEWithLogitsLoss()\n",
    "optimizer = torch.optim.SGD(logisticRegressionModel.parameters(), lr = .00001, momentum = 0.9)\n",
    "epochs = 20000\n",
    "logisticLossVal = []\n",
    "logisticLossTrain = []\n",
    "for epoch in range(epochs):\n",
    "    #### your code here ####   \n",
    "    # Estimate Y_hat with the current model\n",
    "    Y_hat = logisticRegressionModel(X_train)\n",
    "    \n",
    "    # Compute the training\n",
    "    loss = lossFunction(Y_hat, Y_train)\n",
    "    logisticLossTrain.append(loss.data.numpy())\n",
    "    # compute the validation loss and store it.\n",
    "    valLoss = lossFunction(logisticRegressionModel(X_val), Y_val)\n",
    "    logisticLossVal.append(valLoss.data.numpy())\n",
    "    # Compute the gradient of the loss\n",
    "    optimizer.zero_grad()\n",
    "    loss.backward()\n",
    "    optimizer.step()\n",
    "    \n",
    "    if epoch % 1000 == 0:\n",
    "        print(\"loss {0:.3f}, val loss {1:.3f}\".format(logisticLossTrain[-1],\n",
    "                                           logisticLossVal[-1]))\n",
    "#### end your code ####"
   ]
  },
  {
   "cell_type": "code",
   "execution_count": 16,
   "metadata": {},
   "outputs": [
    {
     "data": {
      "image/png": "[encoded data removed]",
      "text/plain": [
       "<Figure size 432x288 with 1 Axes>"
      ]
     },
     "metadata": {
      "needs_background": "light"
     },
     "output_type": "display_data"
    }
   ],
   "source": [
    "plt.plot(logisticLossTrain, color = \"skyblue\", label = \"train loss\")\n",
    "plt.plot(logisticLossVal, color = 'orange', label = \"val loss\")\n",
    "plt.legend()\n",
    "plt.title(\"Overfit Logistic Regression Loss over time\")\n",
    "plt.ylim([0, 0.3])\n",
    "plt.show()"
   ]
  },
  {
   "cell_type": "code",
   "execution_count": null,
   "metadata": {
    "collapsed": true
   },
   "outputs": [],
   "source": []
  }
 ],
 "metadata": {
  "kernelspec": {
   "display_name": "Python (Computational Methods)",
   "language": "python",
   "name": "computational_methods"
  },
  "language_info": {
   "codemirror_mode": {
    "name": "ipython",
    "version": 3
   },
   "file_extension": ".py",
   "mimetype": "text/x-python",
   "name": "python",
   "nbconvert_exporter": "python",
   "pygments_lexer": "ipython3",
   "version": "3.6.8"
  }
 },
 "nbformat": 4,
 "nbformat_minor": 2
}
