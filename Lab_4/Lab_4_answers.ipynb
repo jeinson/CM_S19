{
 "cells": [
  {
   "cell_type": "markdown",
   "metadata": {},
   "source": [
    "Install Scikit-learn into your computational methods environment with `conda install scikit-learn`"
   ]
  },
  {
   "cell_type": "code",
   "execution_count": 1,
   "metadata": {
    "collapsed": true
   },
   "outputs": [],
   "source": [
    "import numpy as np\n",
    "import torch\n",
    "import torch.nn as nn\n",
    "from sklearn.datasets import load_breast_cancer\n",
    "from sklearn.model_selection import train_test_split\n",
    "import matplotlib.pyplot as plt"
   ]
  },
  {
   "cell_type": "markdown",
   "metadata": {},
   "source": [
    "# Part 1: Let's get this data, fam\n",
    "Load in the breast cancer dataset from Scikit-learn, and perform a random train, validation split on the data. You'll want four variables `X_train`, `X_val`, `Y_train` and `Y_val`.\n",
    "\n",
    "Tips:\n",
    "1. Scitkit-learn has a lot of functionality for machine learning projects. Look into how you might get a random training and validation split from your data\n",
    "2. When you're building your own models a lot of things can go wrong. Like, a lot. And it happens to the best of us. One way you can troubleshoot your models is to use a trivial subset of the entire training data, say ~10 examples, and make sure your model can perfectly learn these examples. I would suggest adding in a switch to allow you to perform testing runs where you reduce your dataset to ~10 examples."
   ]
  },
  {
   "cell_type": "code",
   "execution_count": 2,
   "metadata": {},
   "outputs": [
    {
     "name": "stdout",
     "output_type": "stream",
     "text": [
      "n Train: 455\n",
      "n Val: 114\n"
     ]
    }
   ],
   "source": [
    "TESTING = False\n",
    "data = load_breast_cancer()\n",
    "n = data.data.shape[0]\n",
    "valFrac = 0.2\n",
    "X = data.data\n",
    "Y = data.target.reshape([X.shape[0], 1])\n",
    "X_train, X_val, Y_train, Y_val = train_test_split(X, Y, test_size = valFrac, random_state = 1876)\n",
    "# Y_train[0:3] = 0\n",
    "# Y_train[3:4] = 1\n",
    "if TESTING:\n",
    "    X_train = X_train[0:10,:]\n",
    "    X_val = X_train\n",
    "    Y_train = Y_train[0:10]\n",
    "    Y_val = Y_train\n",
    "X_train = torch.from_numpy(X_train).float()\n",
    "X_val = torch.from_numpy(X_val).float()\n",
    "Y_train = torch.from_numpy(Y_train).float()\n",
    "Y_val = torch.from_numpy(Y_val).float()\n",
    "print(\"n Train: {}\\nn Val: {}\".format(X_train.shape[0], X_val.shape[0]))"
   ]
  },
  {
   "cell_type": "markdown",
   "metadata": {},
   "source": [
    "# Part 2: Classification Functions"
   ]
  },
  {
   "cell_type": "markdown",
   "metadata": {},
   "source": [
    "## Logistic Regression\n",
    "Logistic regression is your bread and butter baseline classification model. Before implementing anything too fancy, you should see how far logistic regression can get you. When should you use logistic regression? Whenever you're performing supervised learning and have a binary response variable (only two classes). Luckily for us, most of the math for a logistic regression model has already been worked out in Lab 3 with linear regression. But there's just one problem, linear regression is unbounded, and if we're doing classification we want our model to predict the probability of a model belonging to one class or the other. So instead of letting our model's outputs be between $-\\infty$ and $\\infty$ we want to constrain it between $0$ and $1$.\n",
    "\n",
    "To blatantly plagiarize another TAs work, in least squares linear regression we have a feature matrix $X$ and a set of corresponding outcomes $Y$, and the goal is to learn a $\\beta$ such that $\\hat{Y} = X^\\top \\beta + \\epsilon$ minimizes the loss function $\\sum_i (Y - \\hat{Y})^2$, with $\\mathbb{E}[\\epsilon] = 0$.\n",
    "\n",
    "Using the input $X$ and our model parameters $\\beta$ we'll convert linear regression into logistic regression. First, why do we want to bound our model between $0$ and $1$? Because we're doing classification we need an easy way to define when our prediction is for one class or the other, and if our model can only output probabilities then we can use a cutoff (say $0.5$) and bin every observation into a class. Squashing inputs between $0$ and $1$ is done using the sigmoid function $\\sigma(a) = \\frac{1}{1 + exp(-a)}$. Using our inputs $X$, our learned parameters $\\beta$ and $\\sigma(\\cdot)$ we have the makings of greatness, or at least some kind of baseline model. We write the probability of our 'positive' class (an arbiterary designation) as $$p(Y = 1|X;\\beta) = \\sigma(\\beta^{T}X)$$ and our 'negative' class as $$p(Y = 0|X;\\beta) = 1 - \\sigma(\\beta^{T}X)$$. For simplicity's sake let $a = beta^{T}X$ for he remainder of this cell\n",
    "\n",
    "The loss function for logistic regression is similar to what we used in Lab 2 for MLE. For a single observation $x_i$ and its response variable $y_i$ we define our prediction's loss as $L(\\beta;y_i, x_i) = \\sigma(a)^{i_i}(1 - \\sigma(a))^{1-y_i}$. And for an entire dataset of $n$ examples after taking the log our loss is\n",
    "\n",
    "$$\\frac{1}{n}\\sum_{i=1}^n y_ilog(\\sigma(a)) + (1-y_i)log(1-\\sigma(a))$$\n",
    "\n",
    "Using our usual tools of gradient descent, and stochastic gradient descent we can now learn the parameters $\\beta$ which minimize our loss\n"
   ]
  },
  {
   "cell_type": "code",
   "execution_count": 3,
   "metadata": {
    "collapsed": true
   },
   "outputs": [],
   "source": [
    "class binaryClassifier(nn.Module):\n",
    "    \"\"\"\n",
    "        A general classifier that can use multiple activation functions, or none at all.\n",
    "        By making the activation function we use an argument during initialization we don't\n",
    "        have to make a different function every time we want to change up the activation\n",
    "        function. We want to also have the option of having no activation function, so the \n",
    "        model behaves just like a linear regression without an activation function.\n",
    "    \"\"\"\n",
    "    # The class constructor defines the parameters (ie layers) of the neural network\n",
    "    # add an init function which allows us to pass in arbitrary activation functions\n",
    "    # and defaults to None.\n",
    "    \n",
    "    \n",
    "    #### your code here ####\n",
    "    def __init__(self, nFeats, activationFunction = None):\n",
    "    #### end your code ####\n",
    "    \n",
    "    \n",
    "        super(binaryClassifier, self).__init__()\n",
    "        # What type of parameters do we need to add?\n",
    "        \n",
    "        \n",
    "        self.linear = nn.Linear(in_features = nFeats, out_features = 1)\n",
    "        # Do not remove the line below. It allows the model to learn by initializing small weights\n",
    "        self.linear.weight= torch.nn.init.xavier_uniform_(self.linear.weight, gain = 0.001)\n",
    "        \n",
    "        \n",
    "        # Store the activation function in our object\n",
    "        #### your code here ####\n",
    "        self.activationFunction = activationFunction\n",
    "        #### end your code ####\n",
    "        \n",
    "        \n",
    "        \n",
    "    def forward(self, x):\n",
    "        # Write a forward pass function which optionally uses the activation function\n",
    "        #### your code here ####\n",
    "        if self.activationFunction is None:\n",
    "            out = self.linear(x)\n",
    "        else:\n",
    "            out = self.activationFunction(self.linear(x))\n",
    "        return(out)\n",
    "        #### end your code ####"
   ]
  },
  {
   "cell_type": "code",
   "execution_count": 4,
   "metadata": {
    "collapsed": true
   },
   "outputs": [],
   "source": [
    "# Initialize a binaryClassifier object, with the appropriate loss function from torch.nn.\n",
    "# Tip: Pytorch defines multiple loss functions. Look them up and see which one is in line\n",
    "    # with the loss function we defined for a logistic regression model\n",
    "#### your code here ####\n",
    "logisticRegressionModel = binaryClassifier(nFeats = X_train.shape[1], activationFunction = None)\n",
    "lossFunction = nn.BCEWithLogitsLoss()\n",
    "optimizer = torch.optim.SGD(logisticRegressionModel.parameters(), lr = .00001, momentum = 0.9)\n",
    "#### end your code ####"
   ]
  },
  {
   "cell_type": "markdown",
   "metadata": {},
   "source": [
    "### Learning our logistic model\n",
    "Now we're ready to learn our model. Using the skeleton code below fill in what you'll need to perform a forward pass, calculate the loss, and update the parameters at each epoch. **Keep track of and plot your training and validation loss at each step** after the model converges"
   ]
  },
  {
   "cell_type": "code",
   "execution_count": 5,
   "metadata": {
    "scrolled": true
   },
   "outputs": [
    {
     "name": "stdout",
     "output_type": "stream",
     "text": [
      "loss 0.722, val loss 0.721\n",
      "loss 0.258, val loss 0.238\n",
      "loss 0.231, val loss 0.212\n",
      "loss 0.221, val loss 0.202\n",
      "loss 0.216, val loss 0.196\n",
      "loss 0.212, val loss 0.193\n",
      "loss 0.210, val loss 0.191\n",
      "loss 0.208, val loss 0.189\n",
      "loss 0.206, val loss 0.188\n",
      "loss 0.205, val loss 0.188\n",
      "loss 0.203, val loss 0.187\n",
      "loss 0.202, val loss 0.186\n",
      "loss 0.201, val loss 0.186\n",
      "loss 0.200, val loss 0.186\n",
      "loss 0.199, val loss 0.185\n",
      "loss 0.198, val loss 0.185\n",
      "loss 0.197, val loss 0.185\n",
      "loss 0.196, val loss 0.185\n",
      "loss 0.195, val loss 0.184\n",
      "loss 0.194, val loss 0.184\n"
     ]
    }
   ],
   "source": [
    "epochs = 2000\n",
    "logisticLossVal = []\n",
    "logisticLossTrain = []\n",
    "for epoch in range(epochs):\n",
    "    #### your code here ####   \n",
    "    # Estimate Y_hat with the current model\n",
    "    Y_hat = logisticRegressionModel(X_train)\n",
    "    \n",
    "    # Compute the training\n",
    "    loss = lossFunction(Y_hat, Y_train)\n",
    "    logisticLossTrain.append(loss.data.numpy())\n",
    "    # compute the validation loss and store it.\n",
    "    valLoss = lossFunction(logisticRegressionModel(X_val), Y_val)\n",
    "    logisticLossVal.append(valLoss.data.numpy())\n",
    "    # Compute the gradient of the loss\n",
    "    optimizer.zero_grad()\n",
    "    loss.backward()\n",
    "    optimizer.step()\n",
    "    \n",
    "    if epoch % 100 == 0:\n",
    "        print(\"loss {0:.3f}, val loss {1:.3f}\".format(logisticLossTrain[-1],\n",
    "                                           logisticLossVal[-1]))\n",
    "#### end your code ####"
   ]
  },
  {
   "cell_type": "code",
   "execution_count": 6,
   "metadata": {},
   "outputs": [
    {
     "data": {
      "image/png": "[encoded data removed]",
      "text/plain": [
       "<Figure size 432x288 with 1 Axes>"
      ]
     },
     "metadata": {
      "needs_background": "light"
     },
     "output_type": "display_data"
    }
   ],
   "source": [
    "plt.plot(logisticLossTrain, color = \"skyblue\", label = \"train loss\")\n",
    "plt.plot(logisticLossVal, color = 'orange', label = \"val loss\")\n",
    "plt.legend()\n",
    "plt.title(\"Logistic Regression Loss over time\")\n",
    "plt.show()"
   ]
  },
  {
   "cell_type": "markdown",
   "metadata": {},
   "source": [
    "## Probit Model\n",
    "\n",
    "We defined $p(Y = 1|a) = \\sigma(a)$ in logistic regression, but the more general form of a linear model would be $p(Y = 1|X;\\beta) = f(\\beta^{T}X)$ where $f(\\cdot)$ is known as an activation function. Another activation function we could have used is known as the inverse probit function which is the cumulative distribution function of a standard normal defined as $\\Phi(a) = \\frac{1}{2}(1 + erf(\\frac{1}{\\sqrt{2}}))$ (Did you hear that? That was the sound of an absolute ton of details being skipped over. For more information about probit regression go to page 210 [here](http://users.isr.ist.utl.pt/~wurmd/Livros/school/Bishop%20-%20Pattern%20Recognition%20And%20Machine%20Learning%20-%20Springer%20%202006.pdf)). Here $erf(\\cdot)$ is known as the error function. All the same steps apply for the logistic regression example, except instead of $\\sigma(\\cdot)$ we use $\\Phi(\\cdot)$\n",
    "\n",
    "$$\\frac{1}{n}\\sum_{i=1}^n y_ilog(\\Phi(a)) + (1-y_i)log(1-\\Phi(a))$$\n",
    "\n",
    "\n",
    "\n",
    "Tips:\n",
    "1. For the love of your weekend don't try to implement the CDF of a normal distribution. Search around and find out how you can get the cdf of different distributions in using Pytorch."
   ]
  },
  {
   "cell_type": "code",
   "execution_count": 14,
   "metadata": {},
   "outputs": [],
   "source": [
    "# Initialize a binaryClassifier object, with the appropriate loss function from torch.nn, and the\n",
    "# activation function discussed above.\n",
    "# Tip: If you notice the model is not learning, or the loss is going up, try tuning the learning rate\n",
    "#### your code here ####\n",
    "normDist = torch.distributions.normal.Normal(0, 1)\n",
    "probitRegressionModel = binaryClassifier(nFeats = X_train.shape[1], activationFunction = normDist.cdf)\n",
    "lossFunction = nn.BCELoss()\n",
    "optimizer = torch.optim.SGD(probitRegressionModel.parameters(), lr = .000001, momentum = 0.9)\n",
    "#### end your code ####"
   ]
  },
  {
   "cell_type": "markdown",
   "metadata": {},
   "source": [
    "### Learning our probit model\n",
    "Now we're ready to learn our model. Using the skeleton code below fill in what you'll need to perform a forward pass, calculate the loss, and update the parameters at each epoch. **Keep track of and plot your training and validation loss at each step** after the model converges"
   ]
  },
  {
   "cell_type": "code",
   "execution_count": 15,
   "metadata": {
    "scrolled": true
   },
   "outputs": [
    {
     "name": "stdout",
     "output_type": "stream",
     "text": [
      "loss 0.681, val loss 0.679\n",
      "loss 0.350, val loss 0.328\n",
      "loss 0.290, val loss 0.271\n",
      "loss 0.264, val loss 0.246\n",
      "loss 0.249, val loss 0.231\n",
      "loss 0.239, val loss 0.221\n",
      "loss 0.232, val loss 0.214\n",
      "loss 0.227, val loss 0.209\n",
      "loss 0.223, val loss 0.205\n",
      "loss 0.220, val loss 0.202\n",
      "loss 0.218, val loss 0.199\n",
      "loss 0.215, val loss 0.197\n",
      "loss 0.214, val loss 0.196\n",
      "loss 0.212, val loss 0.195\n",
      "loss 0.211, val loss 0.193\n",
      "loss 0.210, val loss 0.192\n",
      "loss 0.209, val loss 0.192\n",
      "loss 0.208, val loss 0.191\n",
      "loss 0.207, val loss 0.190\n",
      "loss 0.206, val loss 0.190\n"
     ]
    }
   ],
   "source": [
    "epochs = 2000\n",
    "probitLossTrain = []\n",
    "probitLossVal = []\n",
    "for epoch in range(epochs):\n",
    "    #### your code here ####\n",
    "    # Estimate Y_hat with the current model\n",
    "    \n",
    "    Y_hat = probitRegressionModel(X_train)\n",
    "    \n",
    "    # Compute the loss\n",
    "    loss = lossFunction(Y_hat, Y_train)\n",
    "    probitLossTrain.append(loss.data.numpy())\n",
    "    # compute the validation loss and store it.\n",
    "    valLoss = lossFunction(probitRegressionModel(X_val), Y_val)\n",
    "    probitLossVal.append(valLoss.data.numpy())\n",
    "    \n",
    "    # Compute the gradient of the loss\n",
    "    optimizer.zero_grad()\n",
    "    loss.backward()\n",
    "    optimizer.step()\n",
    "    \n",
    "    if epoch % 100 == 0:\n",
    "        print(\"loss {0:.3f}, val loss {1:.3f}\".format(probitLossTrain[-1],\n",
    "                                           probitLossVal[-1]))\n",
    "    #### end your code ####"
   ]
  },
  {
   "cell_type": "code",
   "execution_count": 16,
   "metadata": {},
   "outputs": [
    {
     "data": {
      "image/png": "[encoded data removed]",
      "text/plain": [
       "<Figure size 432x288 with 1 Axes>"
      ]
     },
     "metadata": {
      "needs_background": "light"
     },
     "output_type": "display_data"
    }
   ],
   "source": [
    "plt.plot(probitLossTrain, color = \"skyblue\", label = \"train loss\")\n",
    "plt.plot(probitLossVal, color = 'orange', label = \"val loss\")\n",
    "plt.legend()\n",
    "plt.title(\"Probit Regression Loss over time\")\n",
    "plt.show()"
   ]
  },
  {
   "cell_type": "markdown",
   "metadata": {},
   "source": [
    "## Hinge Loss\n",
    "We can also change the loss function we use in logistic regression to the hinge loss by reconfiguring how we view the data. To do this we formulate our response variable as either $-1$ or $1$. Now, $p(Y = 1|X;\\beta) = \\sigma(a)$ remains unchanged, but $p(Y = -1|X;\\beta) = 1 - \\sigma(a) = \\sigma(-a) = \\sigma(ya)$. In the last step recall that $Y \\in \\{-1, 1\\}$ so $p(Y|X;\\beta) = \\sigma(ya)$\n",
    "\n",
    "Using the negative log likelihood and our updated probability functions our loss now becomes:\n",
    "\n",
    "$$\\frac{1}{n}\\sum_{i=1}^{n}-log(\\sigma(ya))$$"
   ]
  },
  {
   "cell_type": "code",
   "execution_count": 17,
   "metadata": {
    "collapsed": true
   },
   "outputs": [],
   "source": [
    "#### your code here ####\n",
    "def myHingeLoss(a, y):\n",
    "    m = nn.LogSigmoid()\n",
    "    out = -m(a*y)\n",
    "    out = torch.mean(out)\n",
    "    return(out)\n",
    "#### end your code ####"
   ]
  },
  {
   "cell_type": "code",
   "execution_count": 18,
   "metadata": {},
   "outputs": [],
   "source": [
    "# Initialize a binaryClassifier object, with the loss function defined above.\n",
    "#### your code here ####\n",
    "logisticRegressionHingeModel = binaryClassifier(nFeats = X_train.shape[1], activationFunction = None)\n",
    "lossFunction = myHingeLoss\n",
    "optimizer = torch.optim.SGD(logisticRegressionHingeModel.parameters(), lr = .00001, momentum = 0.9)\n",
    "#### end your code ####"
   ]
  },
  {
   "cell_type": "code",
   "execution_count": 19,
   "metadata": {
    "collapsed": true
   },
   "outputs": [],
   "source": [
    "# The hinge loss model requires our data is -1 or 1.\n",
    "Y_train_hinge = Y_train.clone().detach()\n",
    "Y_train_hinge[Y_train_hinge == 0] = -1\n",
    "Y_val_hinge = Y_val.clone().detach()\n",
    "Y_val_hinge[Y_val_hinge == 0] = -1"
   ]
  },
  {
   "cell_type": "markdown",
   "metadata": {},
   "source": [
    "### Learning our hinge loss model\n",
    "Now we're ready to learn our model. Using the skeleton code below fill in what you'll need to perform a forward pass, calculate the loss, and update the parameters at each epoch. **Keep track of and plot your training and validation loss at each step** after the model converges"
   ]
  },
  {
   "cell_type": "code",
   "execution_count": 20,
   "metadata": {
    "scrolled": true
   },
   "outputs": [
    {
     "name": "stdout",
     "output_type": "stream",
     "text": [
      "loss 0.688, val loss 0.685\n",
      "loss 0.256, val loss 0.237\n",
      "loss 0.231, val loss 0.211\n",
      "loss 0.221, val loss 0.201\n",
      "loss 0.215, val loss 0.196\n",
      "loss 0.212, val loss 0.192\n",
      "loss 0.209, val loss 0.190\n",
      "loss 0.207, val loss 0.189\n",
      "loss 0.205, val loss 0.188\n",
      "loss 0.204, val loss 0.187\n",
      "loss 0.203, val loss 0.186\n",
      "loss 0.201, val loss 0.186\n",
      "loss 0.200, val loss 0.185\n",
      "loss 0.199, val loss 0.185\n",
      "loss 0.198, val loss 0.185\n"
     ]
    }
   ],
   "source": [
    "epochs = 1500\n",
    "logisticHingeLossTrain = []\n",
    "logisticHingeLossVal = []\n",
    "for epoch in range(epochs):\n",
    "    #### your code here ####\n",
    "    # Estimate Y_hat with the current model\n",
    "    \n",
    "    Y_hat = logisticRegressionHingeModel(X_train)\n",
    "    \n",
    "    # Compute the loss\n",
    "    loss = lossFunction(Y_hat,Y_train_hinge)\n",
    "    logisticHingeLossTrain.append(loss.data.numpy())\n",
    "    # compute the validation loss and store it.\n",
    "    valLoss = lossFunction(logisticRegressionHingeModel(X_val), Y_val_hinge)\n",
    "#     if epoch % 100 == 0:\n",
    "#         print(valLoss)\n",
    "    logisticHingeLossVal.append(valLoss.data.numpy())        \n",
    "    # Compute the gradient of the loss\n",
    "    optimizer.zero_grad()\n",
    "    loss.backward()\n",
    "    optimizer.step()\n",
    "    \n",
    "    if epoch % 100 == 0:\n",
    "        print(\"loss {0:.3f}, val loss {1:.3f}\".format(logisticHingeLossTrain[-1],\n",
    "                                           logisticHingeLossVal[-1]))\n",
    "    #### end your code ####"
   ]
  },
  {
   "cell_type": "code",
   "execution_count": 21,
   "metadata": {},
   "outputs": [
    {
     "data": {
      "image/png": "[encoded data removed]",
      "text/plain": [
       "<Figure size 432x288 with 1 Axes>"
      ]
     },
     "metadata": {
      "needs_background": "light"
     },
     "output_type": "display_data"
    }
   ],
   "source": [
    "plt.plot(logisticHingeLossTrain, color = \"skyblue\", label = \"train loss\")\n",
    "plt.plot(logisticHingeLossVal, color = 'orange', label = \"val loss\")\n",
    "plt.legend()\n",
    "plt.title(\"Hinge Regression Loss over time\")\n",
    "plt.show()"
   ]
  },
  {
   "cell_type": "markdown",
   "metadata": {},
   "source": [
    "# Part 3: Overfitting\n",
    "In class we talked about a overfitting a model, where the model learns the training data so well that it no longer generalizes to the validation or test set. **In this section train a model that overfits the training data to the point where validation performance suffers. Describe what you did and plot the validation and training loss across epochs**"
   ]
  },
  {
   "cell_type": "code",
   "execution_count": 22,
   "metadata": {},
   "outputs": [
    {
     "name": "stdout",
     "output_type": "stream",
     "text": [
      "loss 0.706, val loss 0.705\n",
      "loss 0.203, val loss 0.187\n",
      "loss 0.193, val loss 0.184\n",
      "loss 0.188, val loss 0.183\n",
      "loss 0.184, val loss 0.182\n",
      "loss 0.181, val loss 0.182\n",
      "loss 0.179, val loss 0.181\n",
      "loss 0.177, val loss 0.181\n",
      "loss 0.176, val loss 0.180\n",
      "loss 0.174, val loss 0.180\n",
      "loss 0.173, val loss 0.180\n",
      "loss 0.172, val loss 0.179\n",
      "loss 0.171, val loss 0.178\n",
      "loss 0.171, val loss 0.178\n",
      "loss 0.170, val loss 0.177\n",
      "loss 0.169, val loss 0.177\n",
      "loss 0.168, val loss 0.176\n",
      "loss 0.167, val loss 0.175\n",
      "loss 0.167, val loss 0.175\n",
      "loss 0.166, val loss 0.174\n"
     ]
    }
   ],
   "source": [
    "## Increasing the number of epochs should get the trick done. Could also add in extra parameters but that\n",
    "# sounds like work\n",
    "logisticRegressionModel = binaryClassifier(nFeats = X_train.shape[1], activationFunction = None)\n",
    "lossFunction = nn.BCEWithLogitsLoss()\n",
    "optimizer = torch.optim.SGD(logisticRegressionModel.parameters(), lr = .00001, momentum = 0.9)\n",
    "epochs = 20000\n",
    "logisticLossVal = []\n",
    "logisticLossTrain = []\n",
    "for epoch in range(epochs):\n",
    "    #### your code here ####   \n",
    "    # Estimate Y_hat with the current model\n",
    "    Y_hat = logisticRegressionModel(X_train)\n",
    "    \n",
    "    # Compute the training\n",
    "    loss = lossFunction(Y_hat, Y_train)\n",
    "    logisticLossTrain.append(loss.data.numpy())\n",
    "    # compute the validation loss and store it.\n",
    "    valLoss = lossFunction(logisticRegressionModel(X_val), Y_val)\n",
    "    logisticLossVal.append(valLoss.data.numpy())\n",
    "    # Compute the gradient of the loss\n",
    "    optimizer.zero_grad()\n",
    "    loss.backward()\n",
    "    optimizer.step()\n",
    "    \n",
    "    if epoch % 1000 == 0:\n",
    "        print(\"loss {0:.3f}, val loss {1:.3f}\".format(logisticLossTrain[-1],\n",
    "                                           logisticLossVal[-1]))\n",
    "#### end your code ####"
   ]
  },
  {
   "cell_type": "code",
   "execution_count": 23,
   "metadata": {},
   "outputs": [
    {
     "data": {
      "image/png": "[encoded data removed]",
      "text/plain": [
       "<Figure size 432x288 with 1 Axes>"
      ]
     },
     "metadata": {
      "needs_background": "light"
     },
     "output_type": "display_data"
    }
   ],
   "source": [
    "plt.plot(logisticLossTrain, color = \"skyblue\", label = \"train loss\")\n",
    "plt.plot(logisticLossVal, color = 'orange', label = \"val loss\")\n",
    "plt.legend()\n",
    "plt.title(\"Overfit Logistic Regression Loss over time\")\n",
    "plt.ylim([0, 0.3])\n",
    "plt.show()"
   ]
  }
 ],
 "metadata": {
  "kernelspec": {
   "display_name": "Python (Computational Methods)",
   "language": "python",
   "name": "compmeth"
  },
  "language_info": {
   "codemirror_mode": {
    "name": "ipython",
    "version": 3
   },
   "file_extension": ".py",
   "mimetype": "text/x-python",
   "name": "python",
   "nbconvert_exporter": "python",
   "pygments_lexer": "ipython3",
   "version": "3.6.8"
  }
 },
 "nbformat": 4,
 "nbformat_minor": 2
}
