{
 "cells": [
  {
   "cell_type": "markdown",
   "metadata": {},
   "source": [
    "Install Scikit-learn into your computational methods environment with `conda install scikit-learn`"
   ]
  },
  {
   "cell_type": "code",
   "execution_count": 146,
   "metadata": {},
   "outputs": [],
   "source": [
    "import numpy as np\n",
    "import torch\n",
    "import torch.nn as nn\n",
    "from sklearn.datasets import load_breast_cancer\n",
    "from sklearn.model_selection import train_test_split"
   ]
  },
  {
   "cell_type": "markdown",
   "metadata": {},
   "source": [
    "# Part 1: Let's get this data, fam"
   ]
  },
  {
   "cell_type": "code",
   "execution_count": 147,
   "metadata": {},
   "outputs": [
    {
     "name": "stdout",
     "output_type": "stream",
     "text": [
      "n Train: 10\n",
      "n Val: 10\n"
     ]
    }
   ],
   "source": [
    "TESTING = True\n",
    "data = load_breast_cancer()\n",
    "n = data.data.shape[0]\n",
    "valFrac = 0.2\n",
    "X = data.data\n",
    "Y = data.target.reshape([X.shape[0], 1])\n",
    "X_train, X_val, Y_train, Y_val = train_test_split(X, Y, test_size = valFrac, random_state = 1876)\n",
    "if TESTING:\n",
    "    X_train = X_train[0:10,:]\n",
    "    X_val = X_train\n",
    "    Y_train = Y_train[0:10]\n",
    "    Y_val = Y_train\n",
    "X_train = torch.from_numpy(X_train).float()\n",
    "X_val = torch.from_numpy(X_val).float()\n",
    "Y_train = torch.from_numpy(Y_train).float()#.long()\n",
    "Y_val = torch.from_numpy(Y_val).float()#.long()\n",
    "print(\"n Train: {}\\nn Val: {}\".format(X_train.shape[0], X_val.shape[0]))"
   ]
  },
  {
   "cell_type": "markdown",
   "metadata": {},
   "source": [
    "# Part 2: Classification Functions"
   ]
  },
  {
   "cell_type": "markdown",
   "metadata": {},
   "source": [
    "## Logistic Regression\n",
    "Logistic regression is your bread and butter baseline classification model. Before implementing anything too fancy, you should see how far logistic regression can get you. When should you use logistic regression? Whenever you're performing supervised learning and have a binary response variable (only two classes). Luckily for us, most of the math for a logistic regression model has already been worked out in Lab 3 with linear regression. But there's just one problem, linear regression is unbounded, and if we're doing classification we want our model to predict the probability of a model belonging to one class or the other. So instead of letting our model's outputs be between $-\\infty$ and $\\infty$ we want to constrain it between $0$ and $1$.\n",
    "\n",
    "To blatantly plagiarize another TAs work, in least squares linear regression we have a feature matrix $X$ and a set of corresponding outcomes $Y$, and the goal is to learn a $\\beta$ such that $\\hat{Y} = X^\\top \\beta + \\epsilon$ minimizes the loss function $\\sum_i (Y - \\hat{Y})^2$, with $\\mathbb{E}[\\epsilon] = 0$.\n",
    "\n",
    "Using the input $X$ and our model parameters $\\beta$ we'll convert linear regression into logistic regression. First, why do we want to bound our model between $0$ and $1$? Because we're doing classification we need an easy way to define when our prediction is for one class or the other, and if our model can only output probabilities then we can use a cutoff (say $0.5$) and bin every observation into a class. Squashing inputs between $0$ and $1$ is done using the sigmoid function $\\sigma(a) = \\frac{1}{1 + exp(-a)}$. Using our inputs $X$, our learned parameters $\\beta$ and $\\sigma(\\cdot)$ we have the makings of greatness, or at least some kind of baseline model. We write the probability of our 'positive' class (an arbiterary designation) as $$p(Y = 1|X;\\beta) = \\sigma(\\beta^{T}X)$$ and our 'negative' class as $$p(Y = 0|X;\\beta) = 1 - \\sigma(\\beta^{T}X)$$. For simplicity's sake let $a = beta^{T}X$ for he remainder of this cell\n",
    "\n",
    "The loss function for logistic regression is similar to what we used in Lab 2 for MLE. For a single observation $x_i$ and its response variable $y_i$ we define our prediction's loss as $L(\\beta;y_i, x_i) = \\sigma(a)^{i_i}(1 - \\sigma(a))^{1-y_i}$. And for an entire dataset of $n$ examples after taking the log our loss is\n",
    "\n",
    "$$\\sum_{i=1}^n y_ilog(\\sigma(a)) + (1-y_i)log(1-\\sigma(a))$$\n",
    "\n",
    "Using our usual tools of gradient descent, and stochastic gradient descent we can now learn the parameters $\\beta$ which minimize our loss\n"
   ]
  },
  {
   "cell_type": "code",
   "execution_count": 171,
   "metadata": {},
   "outputs": [],
   "source": [
    "class binaryClassifier(nn.Module):\n",
    "    \n",
    "    # The class constructor defines the parameters (ie layers) of the neural network\n",
    "    def __init__(self, nFeats, activationFunction = None):#nn.LogSoftmax(dim = 1)):\n",
    "        super(binaryClassifier, self).__init__()\n",
    "        # What type of parameters do we need to add?\n",
    "        self.linear = nn.Linear(in_features = nFeats, out_features = 1)\n",
    "        self.activationFunction = activationFunction        \n",
    "    # The forward method ties the layers together to build the network.\n",
    "    # We take the gradient of this composite function using back propogation\n",
    "    def forward(self, x):\n",
    "        if self.activationFunction is None:\n",
    "            out = self.linear(x)\n",
    "        else:\n",
    "            out = self.activationFunction(self.linear(x))\n",
    "        return(out)"
   ]
  },
  {
   "cell_type": "code",
   "execution_count": 176,
   "metadata": {},
   "outputs": [],
   "source": [
    "m = nn.Sigmoid()\n",
    "logisticRegressionModel = binaryClassifier(nFeats = X_train.shape[1], activationFunction = None)\n",
    "lossFunction = nn.BCEWithLogitsLoss()\n",
    "optimizer = torch.optim.SGD(logisticRegressionModel.parameters(), lr = .0001, momentum = 0.9)"
   ]
  },
  {
   "cell_type": "code",
   "execution_count": 177,
   "metadata": {
    "scrolled": true
   },
   "outputs": [
    {
     "name": "stdout",
     "output_type": "stream",
     "text": [
      "loss 89.2001724243164\n",
      "loss 6.186859536683187e-06\n",
      "loss 2.622601300572569e-07\n",
      "loss 2.622601300572569e-07\n",
      "loss 2.50339240892572e-07\n",
      "loss 2.3841832330617763e-07\n",
      "loss 2.3841832330617763e-07\n",
      "loss 2.3841832330617763e-07\n",
      "loss 2.26497419930638e-07\n",
      "loss 2.26497419930638e-07\n"
     ]
    }
   ],
   "source": [
    "epochs = 1000\n",
    "\n",
    "for epoch in range(epochs):\n",
    "        \n",
    "    # Estimate Y_hat with the current model\n",
    "    \n",
    "    Y_hat = logisticRegressionModel(X_train)\n",
    "    \n",
    "    # Compute the loss\n",
    "    loss = lossFunction(Y_hat, Y_train)\n",
    "        \n",
    "    # Compute the gradient of the loss\n",
    "    optimizer.zero_grad()\n",
    "    loss.backward()\n",
    "    optimizer.step()\n",
    "    \n",
    "    if epoch % 100 == 0:\n",
    "        print(\"loss {}\".format(loss))"
   ]
  },
  {
   "cell_type": "code",
   "execution_count": 178,
   "metadata": {},
   "outputs": [
    {
     "data": {
      "text/plain": [
       "tensor([[1.],\n",
       "        [1.],\n",
       "        [1.],\n",
       "        [0.],\n",
       "        [0.],\n",
       "        [0.],\n",
       "        [0.],\n",
       "        [1.],\n",
       "        [1.],\n",
       "        [1.]])"
      ]
     },
     "execution_count": 178,
     "metadata": {},
     "output_type": "execute_result"
    }
   ],
   "source": [
    "Y_train"
   ]
  },
  {
   "cell_type": "code",
   "execution_count": 179,
   "metadata": {},
   "outputs": [
    {
     "data": {
      "text/plain": [
       "tensor([[1.0000e+00],\n",
       "        [1.0000e+00],\n",
       "        [1.0000e+00],\n",
       "        [3.6419e-21],\n",
       "        [0.0000e+00],\n",
       "        [8.8964e-09],\n",
       "        [3.7559e-08],\n",
       "        [1.0000e+00],\n",
       "        [1.0000e+00],\n",
       "        [1.0000e+00]], grad_fn=<SigmoidBackward>)"
      ]
     },
     "execution_count": 179,
     "metadata": {},
     "output_type": "execute_result"
    }
   ],
   "source": [
    "m = nn.Sigmoid()\n",
    "m(Y_hat)"
   ]
  },
  {
   "cell_type": "markdown",
   "metadata": {},
   "source": [
    "## Probit Model\n",
    "\n",
    "We defined $p(Y = 1|a) = \\sigma(a)$ in logistic regression, but the more general form of a linear model would be $p(Y = 1|X;\\beta) = f(\\beta^{T}X)$ where $f(\\cdot)$ is known as an activation function. Another activation function we could have used is known as the inverse probit function which is the cumulative distribution function of a standard normal defined as $\\Phi(a) = \\frac{1}{2}(1 + erf(\\frac{1}{\\sqrt{2}}))$ (Did you hear that? That was the sound of an absolute ton of details being skipped over. For more information about probit regression on page 210 [here](http://users.isr.ist.utl.pt/~wurmd/Livros/school/Bishop%20-%20Pattern%20Recognition%20And%20Machine%20Learning%20-%20Springer%20%202006.pdf)). Here $erf(\\cdot)$ is known as the error function. All the same steps apply for the logistic regression example, except instead of $\\sigma(\\cdot)$ we use $\\Phi(\\cdot)$\n",
    "\n",
    "$$\\sum_{i=1}^n y_ilog(\\Phi(a)) + (1-y_i)log(1-\\Phi(a))$$\n",
    "\n",
    "\n",
    "\n",
    "Tips:\n",
    "1. For the love of your weekend don't try to implement the CDF of a normal distribution. Search around and find out how you can get the cdf of different distributions in using Pytorch."
   ]
  },
  {
   "cell_type": "code",
   "execution_count": 133,
   "metadata": {},
   "outputs": [],
   "source": [
    "# def probitActFunc(a):\n",
    "#     normDist = torch.distributions.normal.Normal(0, 1)\n",
    "#     out = 0.5*(1 + normDist.cdf(a/np.sqrt(2)))\n",
    "#     out = normDist.cdf\n",
    "#     return(out)"
   ]
  },
  {
   "cell_type": "code",
   "execution_count": 134,
   "metadata": {},
   "outputs": [],
   "source": [
    "logisticRegressionModel = binaryClassifier(nFeats = X_train.shape[1], activationFunction = normDist.cdf)\n",
    "lossFunction = nn.BCELoss()\n",
    "optimizer = torch.optim.SGD(logisticRegressionModel.parameters(), lr = .0001, momentum = 0.9)"
   ]
  },
  {
   "cell_type": "code",
   "execution_count": 135,
   "metadata": {},
   "outputs": [
    {
     "name": "stdout",
     "output_type": "stream",
     "text": [
      "loss 16.57861328125\n",
      "loss 16.57861328125\n",
      "loss 16.57861328125\n",
      "loss 16.57861328125\n",
      "loss 16.57861328125\n",
      "loss 16.57861328125\n",
      "loss 16.57861328125\n",
      "loss 16.57861328125\n",
      "loss 16.57861328125\n",
      "loss 16.57861328125\n"
     ]
    }
   ],
   "source": [
    "epochs = 1000\n",
    "\n",
    "for epoch in range(epochs):\n",
    "        \n",
    "    # Estimate Y_hat with the current model\n",
    "    \n",
    "    Y_hat = logisticRegressionModel(X_train)\n",
    "    \n",
    "    # Compute the loss\n",
    "    loss = lossFunction(Y_hat, Y_train)\n",
    "        \n",
    "    # Compute the gradient of the loss\n",
    "    optimizer.zero_grad()\n",
    "    loss.backward()\n",
    "    optimizer.step()\n",
    "    \n",
    "    if epoch % 100 == 0:\n",
    "        print(\"loss {}\".format(loss))"
   ]
  },
  {
   "cell_type": "code",
   "execution_count": null,
   "metadata": {},
   "outputs": [],
   "source": []
  },
  {
   "cell_type": "markdown",
   "metadata": {},
   "source": [
    "## Hinge Loss\n",
    "We can also change the loss function we use in logistic regression to the hinge loss by reconfiguring how we view the data. To do this we formulate our response variable as either $-1$ or $1$. Now, $p(Y = 1|X;\\beta) = \\sigma(a)$ remains unchanged, but $p(Y = -1|X;\\beta) = 1 - \\sigma(a) = \\sigma(-a) = \\sigma(ya)$. In the last step recall that $Y \\in \\{-1, 1\\}$ so $p(Y|X;\\beta) = \\sigma(ya)$\n",
    "\n",
    "Using the log likelihood and our updated probability functions our loss now becomes:\n",
    "\n",
    "$$\\sum_{i=1}^{n}\\sigma(ya)$$"
   ]
  },
  {
   "cell_type": "code",
   "execution_count": null,
   "metadata": {},
   "outputs": [],
   "source": [
    "# torch.nn.HingeEmbeddingLoss"
   ]
  },
  {
   "cell_type": "code",
   "execution_count": 199,
   "metadata": {},
   "outputs": [],
   "source": [
    "m = nn.LogSigmoid()\n",
    "logisticRegressionModel = binaryClassifier(nFeats = X_train.shape[1], activationFunction = m)\n",
    "lossFunction = nn.HingeEmbeddingLoss()\n",
    "optimizer = torch.optim.SGD(logisticRegressionModel.parameters(), lr = .000001, momentum = 0.9)"
   ]
  },
  {
   "cell_type": "code",
   "execution_count": 200,
   "metadata": {},
   "outputs": [],
   "source": [
    "Y_train_hinge = Y_train.clone().detach()\n",
    "Y_train_hinge[Y_train_hinge == 0] = -1"
   ]
  },
  {
   "cell_type": "code",
   "execution_count": 201,
   "metadata": {},
   "outputs": [
    {
     "name": "stdout",
     "output_type": "stream",
     "text": [
      "loss 39.34615707397461\n",
      "loss -8.638486862182617\n",
      "loss -9.689288139343262\n",
      "loss -10.695261001586914\n",
      "loss -11.700035095214844\n",
      "loss -12.704723358154297\n",
      "loss -13.70942211151123\n",
      "loss -14.714147567749023\n",
      "loss -15.718876838684082\n",
      "loss -16.723583221435547\n"
     ]
    }
   ],
   "source": [
    "epochs = 1000\n",
    "for epoch in range(epochs):\n",
    "        \n",
    "    # Estimate Y_hat with the current model\n",
    "    \n",
    "    Y_hat = logisticRegressionModel(X_train)\n",
    "    \n",
    "    # Compute the loss\n",
    "    loss = lossFunction(Y_hat, Y_train_hinge)\n",
    "        \n",
    "    # Compute the gradient of the loss\n",
    "    optimizer.zero_grad()\n",
    "    loss.backward()\n",
    "    optimizer.step()\n",
    "    \n",
    "    if epoch % 100 == 0:\n",
    "        print(\"loss {}\".format(loss))"
   ]
  },
  {
   "cell_type": "code",
   "execution_count": 202,
   "metadata": {},
   "outputs": [
    {
     "data": {
      "text/plain": [
       "tensor([[ 1.],\n",
       "        [ 1.],\n",
       "        [ 1.],\n",
       "        [-1.],\n",
       "        [-1.],\n",
       "        [-1.],\n",
       "        [-1.],\n",
       "        [ 1.],\n",
       "        [ 1.],\n",
       "        [ 1.]])"
      ]
     },
     "execution_count": 202,
     "metadata": {},
     "output_type": "execute_result"
    }
   ],
   "source": [
    "Y_train_hinge"
   ]
  },
  {
   "cell_type": "code",
   "execution_count": 204,
   "metadata": {},
   "outputs": [
    {
     "data": {
      "text/plain": [
       "tensor([[1.2955e-17],\n",
       "        [8.3004e-16],\n",
       "        [3.7414e-20],\n",
       "        [1.1391e-01],\n",
       "        [1.0000e+00],\n",
       "        [1.4588e-04],\n",
       "        [4.6898e-13],\n",
       "        [4.9082e-18],\n",
       "        [2.0393e-16],\n",
       "        [3.9848e-12]], grad_fn=<ExpBackward>)"
      ]
     },
     "execution_count": 204,
     "metadata": {},
     "output_type": "execute_result"
    }
   ],
   "source": [
    "torch.exp(Y_hat)"
   ]
  },
  {
   "cell_type": "code",
   "execution_count": null,
   "metadata": {},
   "outputs": [],
   "source": []
  },
  {
   "cell_type": "markdown",
   "metadata": {},
   "source": [
    "# Part 3 Outliers"
   ]
  },
  {
   "cell_type": "code",
   "execution_count": null,
   "metadata": {},
   "outputs": [],
   "source": []
  },
  {
   "cell_type": "code",
   "execution_count": null,
   "metadata": {},
   "outputs": [],
   "source": []
  },
  {
   "cell_type": "code",
   "execution_count": null,
   "metadata": {},
   "outputs": [],
   "source": []
  }
 ],
 "metadata": {
  "kernelspec": {
   "display_name": "Python (Computational Methods)",
   "language": "python",
   "name": "computational_methods"
  },
  "language_info": {
   "codemirror_mode": {
    "name": "ipython",
    "version": 3
   },
   "file_extension": ".py",
   "mimetype": "text/x-python",
   "name": "python",
   "nbconvert_exporter": "python",
   "pygments_lexer": "ipython3",
   "version": "3.6.8"
  }
 },
 "nbformat": 4,
 "nbformat_minor": 2
}
